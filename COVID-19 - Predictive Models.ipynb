{
 "cells": [
  {
   "cell_type": "markdown",
   "id": "3c931990-065a-4488-8bc6-0cace82f21c4",
   "metadata": {},
   "source": [
    "# 1. Decision Trees"
   ]
  },
  {
   "cell_type": "code",
   "execution_count": 1,
   "id": "9e8b9a1a-bee8-4d89-bb6d-104310a2c610",
   "metadata": {},
   "outputs": [],
   "source": [
    "import pandas as pd\n",
    "import matplotlib.pyplot as plt\n",
    "import scipy.stats as stats\n",
    "import numpy as np\n",
    "from itertools import permutations\n",
    "import seaborn as sns\n",
    "from sklearn.model_selection import train_test_split\n",
    "\n",
    "# read the veteran dataset\n",
    "df = pd.read_csv('data/D2.csv', keep_default_na=False)"
   ]
  },
  {
   "cell_type": "markdown",
   "id": "444df29b-5dfc-4e61-ad77-4624b3bddb13",
   "metadata": {},
   "source": [
    "## Pre-processing"
   ]
  },
  {
   "cell_type": "code",
   "execution_count": 2,
   "id": "5f27bacd-604d-4d9a-a381-1657460bde98",
   "metadata": {},
   "outputs": [],
   "source": [
    "def variable_type_counts(header):\n",
    "    column_data = list(df[header])\n",
    "    data_types = [type(i).__name__ for i in column_data]\n",
    "    type_counts = {i:data_types.count(i) for i in data_types}\n",
    "    return type_counts"
   ]
  },
  {
   "cell_type": "code",
   "execution_count": 3,
   "id": "893641de-4877-4543-8ee7-b9dba03b86fb",
   "metadata": {},
   "outputs": [
    {
     "name": "stdout",
     "output_type": "stream",
     "text": [
      "gender\n",
      "male      2985\n",
      "female    2790\n",
      "other       14\n",
      "Name: count, dtype: int64\n",
      "\n",
      "age\n",
      "30_40      1412\n",
      "40_50      1111\n",
      "20_30       996\n",
      "50_60       926\n",
      "60_70       765\n",
      "70_80       354\n",
      "10_20       205\n",
      "0_10         14\n",
      "100_110       6\n",
      "Name: count, dtype: int64\n",
      "\n",
      "height\n",
      "168    421\n",
      "178    413\n",
      "172    410\n",
      "164    405\n",
      "174    405\n",
      "170    366\n",
      "176    357\n",
      "166    351\n",
      "184    323\n",
      "182    304\n",
      "162    297\n",
      "180    274\n",
      "158    206\n",
      "186    205\n",
      "160    202\n",
      "188    170\n",
      "156    142\n",
      "154    137\n",
      "190     94\n",
      "192     69\n",
      "194     49\n",
      "152     41\n",
      "150     27\n",
      "196     21\n",
      "198     15\n",
      "148     14\n",
      "136     13\n",
      "134      5\n",
      "200      5\n",
      "146      5\n",
      "138      5\n",
      "144      5\n",
      "126      4\n",
      "112      3\n",
      "204      3\n",
      "122      3\n",
      "128      2\n",
      "114      2\n",
      "202      2\n",
      "118      2\n",
      "110      2\n",
      "210      2\n",
      "124      2\n",
      "130      1\n",
      "120      1\n",
      "216      1\n",
      "116      1\n",
      "238      1\n",
      "228      1\n",
      "Name: count, dtype: int64\n",
      "\n",
      "weight\n",
      "74     271\n",
      "82     267\n",
      "70     253\n",
      "80     240\n",
      "84     235\n",
      "      ... \n",
      "164      4\n",
      "174      3\n",
      "166      3\n",
      "154      2\n",
      "170      2\n",
      "Name: count, Length: 68, dtype: int64\n",
      "\n",
      "blood_type\n",
      "unknown    1884\n",
      "ap         1279\n",
      "op         1251\n",
      "on          417\n",
      "bp          394\n",
      "an          244\n",
      "abp         191\n",
      "bn           91\n",
      "abn          38\n",
      "Name: count, dtype: int64\n",
      "\n",
      "insurance\n",
      "yes    5167\n",
      "no      622\n",
      "Name: count, dtype: int64\n",
      "\n",
      "income\n",
      "med     3417\n",
      "high    1886\n",
      "low      398\n",
      "gov       88\n",
      "Name: count, dtype: int64\n",
      "\n",
      "smoking\n",
      "never        3749\n",
      "quit5         485\n",
      "quit10        473\n",
      "quit0         319\n",
      "vape          247\n",
      "yesmedium     230\n",
      "yeslight      206\n",
      "yesheavy       80\n",
      "Name: count, dtype: int64\n",
      "\n",
      "alcohol\n",
      "2     2424\n",
      "0     1275\n",
      "1      612\n",
      "3      310\n",
      "4      247\n",
      "5      194\n",
      "7      166\n",
      "14     117\n",
      "10     108\n",
      "6       86\n",
      "13      72\n",
      "12      64\n",
      "8       48\n",
      "9       39\n",
      "11      27\n",
      "Name: count, dtype: int64\n",
      "\n",
      "contacts_count\n",
      "21    668\n",
      "1     608\n",
      "5     577\n",
      "10    560\n",
      "3     543\n",
      "4     538\n",
      "2     476\n",
      "6     370\n",
      "20    265\n",
      "8     257\n",
      "0     213\n",
      "7     190\n",
      "15    171\n",
      "12     99\n",
      "9      76\n",
      "14     34\n",
      "19     34\n",
      "11     33\n",
      "16     29\n",
      "13     26\n",
      "18     14\n",
      "17      8\n",
      "Name: count, dtype: int64\n",
      "\n",
      "working\n",
      "stopped                1774\n",
      "never                  1577\n",
      "travel critical        1312\n",
      "travel non critical     620\n",
      "home                    506\n",
      "Name: count, dtype: int64\n",
      "\n",
      "worried\n",
      "4    3350\n",
      "3    1674\n",
      "5     377\n",
      "2     342\n",
      "1      46\n",
      "Name: count, dtype: int64\n",
      "\n",
      "covid19_positive\n",
      "0    3454\n",
      "1    2335\n",
      "Name: count, dtype: int64\n",
      "\n"
     ]
    }
   ],
   "source": [
    "def all_value_counts(df):\n",
    "    headers = list(df.columns.values)\n",
    "    for header in headers:\n",
    "        print(df[header].value_counts())\n",
    "        print()\n",
    "\n",
    "all_value_counts(df)"
   ]
  },
  {
   "cell_type": "code",
   "execution_count": 4,
   "id": "b8b242bc-9cca-412a-9de4-bbd111a5348e",
   "metadata": {},
   "outputs": [],
   "source": [
    "# Generic error finder\n",
    "missing = [float(\"nan\"),-1,\"-1\",\"\",\" \",\"blank\",\"unknown\"]\n",
    "def find_errors(column, error_list=missing):\n",
    "    errors = {}\n",
    "    for value in list(column):\n",
    "        if (value in error_list):\n",
    "            if value not in errors: errors[value] = 0\n",
    "            errors[value] += 1\n",
    "    return errors"
   ]
  },
  {
   "cell_type": "code",
   "execution_count": 5,
   "id": "00b97807-bb16-4d72-a376-1865a47bacd2",
   "metadata": {},
   "outputs": [
    {
     "name": "stdout",
     "output_type": "stream",
     "text": [
      "                                0\n",
      "gender                           \n",
      "age                              \n",
      "height                           \n",
      "weight                           \n",
      "blood_type        'unknown': 1884\n",
      "insurance                        \n",
      "income                           \n",
      "smoking                          \n",
      "alcohol                          \n",
      "contacts_count                   \n",
      "working                          \n",
      "worried                          \n",
      "covid19_positive                 \n"
     ]
    }
   ],
   "source": [
    "def find_all_missing(df=df):\n",
    "    missing_values = []\n",
    "    \n",
    "    headers = list(df.columns.values)\n",
    "    for header in headers:\n",
    "        error_string = [str((find_errors(df[header])))[1:-1]]\n",
    "        missing_values.append(error_string)\n",
    "    missing_df = pd.DataFrame.from_records(missing_values,index=headers)\n",
    "    return missing_df\n",
    "\n",
    "missing_df = find_all_missing()\n",
    "print(missing_df)"
   ]
  },
  {
   "cell_type": "code",
   "execution_count": 6,
   "id": "190cc9ce-48ec-491f-8385-7fbefbb785b0",
   "metadata": {},
   "outputs": [],
   "source": [
    "df_proc = df.copy()\n",
    "def ordinal_to_rankings(df_proc=df_proc):\n",
    "    header = \"age\"\n",
    "    age_ranks = {\"0_10\":5, \"10_20\":15, \"20_30\":25, \"30_40\":35, \"40_50\":45, \"50_60\":55, \"60_70\":65,\n",
    "                \"70_80\":75, \"80_90\":85, \"90_100\":95, \"100_110\":105}\n",
    "    \n",
    "    df_proc[header] = df_proc[header].map(age_ranks)\n",
    "    \n",
    "    header = \"smoking\"\n",
    "    smoking_ranks = {'never': 0, 'yesmedium': 4, \n",
    "                     'quit0': 5, 'quit10': 1, 'quit5': 2, \n",
    "                     'yesheavy': 7, 'yeslight': 3, 'vape': 6}\n",
    "    \n",
    "    df_proc[header] = df_proc[header].map(smoking_ranks)\n",
    "    \n",
    "    header = \"working\"\n",
    "    working_ranks = {\"never\":0, \"stopped\":1, \"home\":2, \"travel non critical\":3, \n",
    "                     \"travel critical\":4}\n",
    "    \n",
    "    df_proc[header] = df_proc[header].map(working_ranks)\n",
    "    \n",
    "    header = \"insurance\"\n",
    "    insurance_ranks = {\"yes\":1, \"no\":0}\n",
    "    \n",
    "    df_proc[header] = df_proc[header].map(insurance_ranks)\n",
    "\n",
    "ordinal_to_rankings()"
   ]
  },
  {
   "cell_type": "code",
   "execution_count": 7,
   "id": "a7c32e41-ccee-4e64-9ed6-a49fe2e5d6e2",
   "metadata": {},
   "outputs": [
    {
     "name": "stdout",
     "output_type": "stream",
     "text": [
      "age\n",
      "35     1412\n",
      "45     1111\n",
      "25      996\n",
      "55      926\n",
      "65      765\n",
      "75      354\n",
      "15      205\n",
      "5        14\n",
      "105       6\n",
      "Name: count, dtype: int64 \n",
      "\n",
      "smoking\n",
      "0    3749\n",
      "2     485\n",
      "1     473\n",
      "5     319\n",
      "6     247\n",
      "4     230\n",
      "3     206\n",
      "7      80\n",
      "Name: count, dtype: int64 \n",
      "\n",
      "insurance\n",
      "1    5167\n",
      "0     622\n",
      "Name: count, dtype: int64 \n",
      "\n",
      "working\n",
      "1    1774\n",
      "0    1577\n",
      "4    1312\n",
      "3     620\n",
      "2     506\n",
      "Name: count, dtype: int64\n"
     ]
    }
   ],
   "source": [
    "print(df_proc[\"age\"].value_counts(),'\\n')\n",
    "print(df_proc[\"smoking\"].value_counts(),'\\n')\n",
    "print(df_proc[\"insurance\"].value_counts(),'\\n')\n",
    "print(df_proc[\"working\"].value_counts())"
   ]
  },
  {
   "cell_type": "code",
   "execution_count": 8,
   "id": "c1e8ca51-b4d1-47db-93ff-de780afea795",
   "metadata": {},
   "outputs": [],
   "source": [
    "# Best not to use as sklearn will treat as if ordinal.\n",
    "def nominal_label_encoding():\n",
    "    header = \"gender\"\n",
    "    df_proc[header+'_encoded'] = pd.factorize(df[header])[0] + 1\n",
    "    \n",
    "    header = \"blood_type\"\n",
    "    df_proc[header+'_encoded'] = pd.factorize(df[header])[0] + 1\n",
    "    \n",
    "    header = \"income\"\n",
    "    df_proc[header+'_encoded'] = pd.factorize(df[header])[0] + 1\n",
    "    \n",
    "    nominals = [\"gender_encoded\", \"blood_type_encoded\", \"income_encoded\"]\n",
    "    for header in nominals:\n",
    "        print(df_proc[header].value_counts(),'\\n')"
   ]
  },
  {
   "cell_type": "markdown",
   "id": "cd21641e-7bb9-4e5b-88fa-e0e8dbb7ed62",
   "metadata": {},
   "source": [
    "### One-Hot Encoding"
   ]
  },
  {
   "cell_type": "code",
   "execution_count": 9,
   "id": "6f4a9437-61ba-4a69-ab56-28bba452784a",
   "metadata": {},
   "outputs": [
    {
     "data": {
      "text/html": [
       "<div>\n",
       "<style scoped>\n",
       "    .dataframe tbody tr th:only-of-type {\n",
       "        vertical-align: middle;\n",
       "    }\n",
       "\n",
       "    .dataframe tbody tr th {\n",
       "        vertical-align: top;\n",
       "    }\n",
       "\n",
       "    .dataframe thead th {\n",
       "        text-align: right;\n",
       "    }\n",
       "</style>\n",
       "<table border=\"1\" class=\"dataframe\">\n",
       "  <thead>\n",
       "    <tr style=\"text-align: right;\">\n",
       "      <th></th>\n",
       "      <th>age</th>\n",
       "      <th>height</th>\n",
       "      <th>weight</th>\n",
       "      <th>insurance</th>\n",
       "      <th>smoking</th>\n",
       "      <th>alcohol</th>\n",
       "      <th>contacts_count</th>\n",
       "      <th>working</th>\n",
       "      <th>worried</th>\n",
       "      <th>covid19_positive</th>\n",
       "      <th>...</th>\n",
       "      <th>blood_type_ap</th>\n",
       "      <th>blood_type_bn</th>\n",
       "      <th>blood_type_bp</th>\n",
       "      <th>blood_type_on</th>\n",
       "      <th>blood_type_op</th>\n",
       "      <th>blood_type_unknown</th>\n",
       "      <th>income_gov</th>\n",
       "      <th>income_high</th>\n",
       "      <th>income_low</th>\n",
       "      <th>income_med</th>\n",
       "    </tr>\n",
       "  </thead>\n",
       "  <tbody>\n",
       "    <tr>\n",
       "      <th>0</th>\n",
       "      <td>25</td>\n",
       "      <td>188</td>\n",
       "      <td>104</td>\n",
       "      <td>1</td>\n",
       "      <td>0</td>\n",
       "      <td>0</td>\n",
       "      <td>9</td>\n",
       "      <td>3</td>\n",
       "      <td>3</td>\n",
       "      <td>1</td>\n",
       "      <td>...</td>\n",
       "      <td>0</td>\n",
       "      <td>0</td>\n",
       "      <td>0</td>\n",
       "      <td>0</td>\n",
       "      <td>1</td>\n",
       "      <td>0</td>\n",
       "      <td>0</td>\n",
       "      <td>0</td>\n",
       "      <td>0</td>\n",
       "      <td>1</td>\n",
       "    </tr>\n",
       "    <tr>\n",
       "      <th>1</th>\n",
       "      <td>75</td>\n",
       "      <td>164</td>\n",
       "      <td>62</td>\n",
       "      <td>1</td>\n",
       "      <td>0</td>\n",
       "      <td>0</td>\n",
       "      <td>2</td>\n",
       "      <td>0</td>\n",
       "      <td>3</td>\n",
       "      <td>1</td>\n",
       "      <td>...</td>\n",
       "      <td>0</td>\n",
       "      <td>0</td>\n",
       "      <td>1</td>\n",
       "      <td>0</td>\n",
       "      <td>0</td>\n",
       "      <td>0</td>\n",
       "      <td>0</td>\n",
       "      <td>0</td>\n",
       "      <td>0</td>\n",
       "      <td>1</td>\n",
       "    </tr>\n",
       "    <tr>\n",
       "      <th>2</th>\n",
       "      <td>45</td>\n",
       "      <td>164</td>\n",
       "      <td>78</td>\n",
       "      <td>1</td>\n",
       "      <td>0</td>\n",
       "      <td>2</td>\n",
       "      <td>5</td>\n",
       "      <td>1</td>\n",
       "      <td>3</td>\n",
       "      <td>1</td>\n",
       "      <td>...</td>\n",
       "      <td>0</td>\n",
       "      <td>0</td>\n",
       "      <td>0</td>\n",
       "      <td>0</td>\n",
       "      <td>0</td>\n",
       "      <td>1</td>\n",
       "      <td>0</td>\n",
       "      <td>0</td>\n",
       "      <td>0</td>\n",
       "      <td>1</td>\n",
       "    </tr>\n",
       "    <tr>\n",
       "      <th>3</th>\n",
       "      <td>45</td>\n",
       "      <td>170</td>\n",
       "      <td>60</td>\n",
       "      <td>1</td>\n",
       "      <td>4</td>\n",
       "      <td>2</td>\n",
       "      <td>6</td>\n",
       "      <td>4</td>\n",
       "      <td>3</td>\n",
       "      <td>1</td>\n",
       "      <td>...</td>\n",
       "      <td>0</td>\n",
       "      <td>0</td>\n",
       "      <td>1</td>\n",
       "      <td>0</td>\n",
       "      <td>0</td>\n",
       "      <td>0</td>\n",
       "      <td>0</td>\n",
       "      <td>0</td>\n",
       "      <td>0</td>\n",
       "      <td>1</td>\n",
       "    </tr>\n",
       "    <tr>\n",
       "      <th>4</th>\n",
       "      <td>35</td>\n",
       "      <td>164</td>\n",
       "      <td>64</td>\n",
       "      <td>1</td>\n",
       "      <td>0</td>\n",
       "      <td>2</td>\n",
       "      <td>2</td>\n",
       "      <td>4</td>\n",
       "      <td>4</td>\n",
       "      <td>1</td>\n",
       "      <td>...</td>\n",
       "      <td>0</td>\n",
       "      <td>0</td>\n",
       "      <td>0</td>\n",
       "      <td>0</td>\n",
       "      <td>1</td>\n",
       "      <td>0</td>\n",
       "      <td>0</td>\n",
       "      <td>0</td>\n",
       "      <td>0</td>\n",
       "      <td>1</td>\n",
       "    </tr>\n",
       "  </tbody>\n",
       "</table>\n",
       "<p>5 rows × 26 columns</p>\n",
       "</div>"
      ],
      "text/plain": [
       "   age  height  weight  insurance  smoking  alcohol  contacts_count  working  \\\n",
       "0   25     188     104          1        0        0               9        3   \n",
       "1   75     164      62          1        0        0               2        0   \n",
       "2   45     164      78          1        0        2               5        1   \n",
       "3   45     170      60          1        4        2               6        4   \n",
       "4   35     164      64          1        0        2               2        4   \n",
       "\n",
       "   worried  covid19_positive  ...  blood_type_ap  blood_type_bn  \\\n",
       "0        3                 1  ...              0              0   \n",
       "1        3                 1  ...              0              0   \n",
       "2        3                 1  ...              0              0   \n",
       "3        3                 1  ...              0              0   \n",
       "4        4                 1  ...              0              0   \n",
       "\n",
       "   blood_type_bp  blood_type_on  blood_type_op  blood_type_unknown  \\\n",
       "0              0              0              1                   0   \n",
       "1              1              0              0                   0   \n",
       "2              0              0              0                   1   \n",
       "3              1              0              0                   0   \n",
       "4              0              0              1                   0   \n",
       "\n",
       "   income_gov  income_high  income_low  income_med  \n",
       "0           0            0           0           1  \n",
       "1           0            0           0           1  \n",
       "2           0            0           0           1  \n",
       "3           0            0           0           1  \n",
       "4           0            0           0           1  \n",
       "\n",
       "[5 rows x 26 columns]"
      ]
     },
     "execution_count": 9,
     "metadata": {},
     "output_type": "execute_result"
    }
   ],
   "source": [
    "# Nominal values: gender, blood_type, income\n",
    "df_proc = pd.get_dummies(df_proc, dtype='int')\n",
    "df_proc.head()"
   ]
  },
  {
   "cell_type": "markdown",
   "id": "36a7e323",
   "metadata": {},
   "source": [
    "## Split Dataset"
   ]
  },
  {
   "cell_type": "code",
   "execution_count": 10,
   "id": "399d09b2-fee0-4951-b811-4bd7c0492285",
   "metadata": {},
   "outputs": [],
   "source": [
    "# target/input split\n",
    "# nominals = [\"gender\", \"blood_type\", \"income\"]\n",
    "y = df_proc['covid19_positive']\n",
    "X = df_proc.drop(['covid19_positive'], axis=1)\n",
    "X_mat = X.to_numpy()"
   ]
  },
  {
   "cell_type": "code",
   "execution_count": 11,
   "id": "685c4788-d177-499b-aaa9-ae6867db8cf0",
   "metadata": {},
   "outputs": [],
   "source": [
    "# setting random state\n",
    "rs = 10\n",
    "\n",
    "# 30 70 split\n",
    "X_train, X_test, y_train, y_test = train_test_split(X_mat, y, test_size=0.3, stratify=y, random_state=rs)\n",
    "X_test_DT = X_test.copy()\n",
    "X_train_DT = X_train.copy()"
   ]
  },
  {
   "cell_type": "markdown",
   "id": "4cbf72a0",
   "metadata": {},
   "source": [
    "## Model 1 (Default Settings)"
   ]
  },
  {
   "cell_type": "code",
   "execution_count": 12,
   "id": "57039507-1259-486a-8c51-469b2a54a50d",
   "metadata": {},
   "outputs": [
    {
     "name": "stdout",
     "output_type": "stream",
     "text": [
      "{'ccp_alpha': 0.0, 'class_weight': None, 'criterion': 'gini', 'max_depth': None, 'max_features': None, 'max_leaf_nodes': None, 'min_impurity_decrease': 0.0, 'min_samples_leaf': 1, 'min_samples_split': 2, 'min_weight_fraction_leaf': 0.0, 'random_state': 10, 'splitter': 'best'}\n"
     ]
    }
   ],
   "source": [
    "from sklearn.tree import DecisionTreeClassifier\n",
    "from sklearn.metrics import classification_report, accuracy_score\n",
    "\n",
    "rs = 10\n",
    "# simple decision tree training\n",
    "model = DecisionTreeClassifier(random_state=rs)\n",
    "model.fit(X_train, y_train)\n",
    "\n",
    "# print model parameters\n",
    "print(model.get_params(deep = True))"
   ]
  },
  {
   "cell_type": "code",
   "execution_count": 13,
   "id": "6b5b4a16-4cc7-4136-80b3-fb788a21fc7c",
   "metadata": {},
   "outputs": [
    {
     "name": "stdout",
     "output_type": "stream",
     "text": [
      "Train accuracy: 0.9997532082922014\n"
     ]
    }
   ],
   "source": [
    "print(\"Train accuracy:\", model.score(X_train, y_train))"
   ]
  },
  {
   "cell_type": "code",
   "execution_count": 14,
   "id": "7e1473a6-1d15-4360-8a1a-26b8e24e05df",
   "metadata": {},
   "outputs": [
    {
     "name": "stdout",
     "output_type": "stream",
     "text": [
      "Test accuracy: 0.6373056994818653\n"
     ]
    }
   ],
   "source": [
    "print(\"Test accuracy:\", model.score(X_test, y_test))"
   ]
  },
  {
   "cell_type": "code",
   "execution_count": 15,
   "id": "91febc10-2fe6-4d6b-bf98-bcf14b5cf76b",
   "metadata": {},
   "outputs": [
    {
     "name": "stdout",
     "output_type": "stream",
     "text": [
      "Number of Nodes:  2045\n",
      "Number of Leaf Nodes:  1023\n",
      "Number of Rules:  1022\n"
     ]
    }
   ],
   "source": [
    "def get_tree_size(model):\n",
    "    nodes = model.tree_.node_count\n",
    "    leaves = model.tree_.n_leaves\n",
    "    print(\"Number of Nodes: \",nodes)\n",
    "    print(\"Number of Leaf Nodes: \",leaves)\n",
    "    print(\"Number of Rules: \",nodes - leaves)\n",
    "\n",
    "get_tree_size(model)"
   ]
  },
  {
   "cell_type": "code",
   "execution_count": 16,
   "id": "912e078a-4c79-4761-9108-15c4aaf7a2e9",
   "metadata": {},
   "outputs": [
    {
     "name": "stdout",
     "output_type": "stream",
     "text": [
      "              precision    recall  f1-score   support\n",
      "\n",
      "           0       0.70      0.70      0.70      1036\n",
      "           1       0.55      0.55      0.55       701\n",
      "\n",
      "    accuracy                           0.64      1737\n",
      "   macro avg       0.62      0.62      0.62      1737\n",
      "weighted avg       0.64      0.64      0.64      1737\n",
      "\n"
     ]
    }
   ],
   "source": [
    "y_pred = model.predict(X_test)\n",
    "print(classification_report(y_test, y_pred))"
   ]
  },
  {
   "cell_type": "code",
   "execution_count": 17,
   "id": "234fab31-f83f-4467-a333-9f5532405e59",
   "metadata": {},
   "outputs": [
    {
     "name": "stdout",
     "output_type": "stream",
     "text": [
      "weight : 0.1406409903146568\n",
      "height : 0.13224235303141982\n",
      "contacts_count : 0.11324659895144289\n",
      "income_high : 0.1013394474336757\n",
      "age : 0.08566493408211662\n",
      "worried : 0.07255493031647953\n",
      "alcohol : 0.06271578329433647\n",
      "smoking : 0.06086881197845979\n",
      "working : 0.05159143036253474\n",
      "blood_type_unknown : 0.023015669744241886\n",
      "insurance : 0.018960498935859136\n",
      "blood_type_ap : 0.01799648933239703\n",
      "blood_type_op : 0.017779697694141023\n",
      "income_low : 0.01624655237605576\n",
      "blood_type_bp : 0.015710411077830475\n",
      "gender_male : 0.01237799520772849\n",
      "income_med : 0.011739563260619736\n",
      "blood_type_on : 0.011056524253837971\n",
      "gender_female : 0.00966312480508592\n",
      "blood_type_an : 0.009365390574427743\n"
     ]
    }
   ],
   "source": [
    "import numpy as np\n",
    "\n",
    "def feature_importances(model):\n",
    "    # grab feature importances from the model and feature name from the original X\n",
    "    importances = model.feature_importances_\n",
    "    feature_names = X.columns\n",
    "    \n",
    "    # sort them out in descending order\n",
    "    indices = np.argsort(importances)\n",
    "    indices = np.flip(indices, axis=0)\n",
    "    \n",
    "    # limit to 20 features, you can leave this out to print out everything\n",
    "    indices = indices[:20]\n",
    "    \n",
    "    for i in indices:\n",
    "        print(feature_names[i], ':', importances[i])\n",
    "\n",
    "feature_importances(model)"
   ]
  },
  {
   "cell_type": "code",
   "execution_count": 18,
   "id": "2b8f0241-1ac7-4bc1-8460-8c6ae360d405",
   "metadata": {},
   "outputs": [],
   "source": [
    "# \"conda install pydot graphviz\" is needed to create the graph\n",
    "import pydot\n",
    "from io import StringIO\n",
    "from sklearn.tree import export_graphviz\n",
    "\n",
    "def graph_decision_tree(model, name):\n",
    "    dotfile = StringIO()\n",
    "    classes = [str(x) for x in model.classes_]\n",
    "    export_graphviz(model, out_file=dotfile, feature_names=X.columns, class_names=classes)\n",
    "    graph = pydot.graph_from_dot_data(dotfile.getvalue())\n",
    "\n",
    "graph_decision_tree(model, \"default\")"
   ]
  },
  {
   "cell_type": "markdown",
   "id": "ac446012",
   "metadata": {},
   "source": [
    "## Model 2 (Finding Optimal Hyperparameters with GridSearchCV)"
   ]
  },
  {
   "cell_type": "code",
   "execution_count": 19,
   "id": "de545d4a-a05b-4bde-9e86-a61add7a5b30",
   "metadata": {},
   "outputs": [],
   "source": [
    "from sklearn.model_selection import GridSearchCV"
   ]
  },
  {
   "cell_type": "code",
   "execution_count": 20,
   "id": "5d6a453f-2737-4d69-9923-c1b74e216479",
   "metadata": {},
   "outputs": [
    {
     "name": "stdout",
     "output_type": "stream",
     "text": [
      "{'mean_fit_time': array([0.00535154, 0.00364318, 0.00453548, 0.00522778, 0.00368583,\n",
      "       0.00272572, 0.00615199, 0.00155845, 0.00625479, 0.0073576 ,\n",
      "       0.00756321, 0.00915794, 0.00943487, 0.00694649, 0.00876834,\n",
      "       0.0064651 , 0.01044159, 0.00787497, 0.00945957, 0.01059759,\n",
      "       0.0125932 , 0.00786147, 0.01512365, 0.01094155, 0.01574864,\n",
      "       0.01362073, 0.01494105, 0.00823593, 0.01415079, 0.01595111,\n",
      "       0.01151438, 0.01574001, 0.0153841 , 0.01620033, 0.01297512,\n",
      "       0.01331053, 0.01725833, 0.01569724, 0.01528394, 0.01289134,\n",
      "       0.02159691, 0.0156508 , 0.0165596 , 0.01327286, 0.01884573,\n",
      "       0.01568356, 0.01695449, 0.01353388, 0.01666493, 0.01725845,\n",
      "       0.01572943, 0.01572626, 0.01733658, 0.01881924, 0.01707976,\n",
      "       0.01271183, 0.01871953, 0.01885588, 0.02063847, 0.01728702,\n",
      "       0.00569272, 0.00686395, 0.00473564, 0.00221851, 0.        ,\n",
      "       0.00451379, 0.00182855, 0.        , 0.01087878, 0.00787196,\n",
      "       0.00729535, 0.00942631, 0.01100249, 0.00788262, 0.00652089,\n",
      "       0.01014884, 0.0104753 , 0.00891218, 0.00933778, 0.00696776,\n",
      "       0.01569955, 0.00883493, 0.01260097, 0.01353955, 0.01499891,\n",
      "       0.01386547, 0.01403084, 0.00826743, 0.01417453, 0.01887901,\n",
      "       0.01554303, 0.00969775, 0.01507907, 0.01933823, 0.01794002,\n",
      "       0.01476529, 0.02347631, 0.02215168, 0.01694527, 0.01922481,\n",
      "       0.01769793, 0.01846726, 0.0170722 , 0.01382632, 0.02041976,\n",
      "       0.01721902, 0.01372364, 0.01640255, 0.02366965, 0.02269197,\n",
      "       0.01664004, 0.01487181, 0.01922281, 0.01869962, 0.01617332,\n",
      "       0.01574593, 0.02248793, 0.01874225, 0.01977396, 0.01842639,\n",
      "       0.00483224, 0.00313292, 0.00356033, 0.00313275, 0.0049417 ,\n",
      "       0.00594673, 0.00252261, 0.00781868, 0.00786824, 0.00630102,\n",
      "       0.00613914, 0.00593479, 0.00945883, 0.00670748, 0.00524185,\n",
      "       0.01099484, 0.01008687, 0.00939217, 0.00852866, 0.0066968 ,\n",
      "       0.0131614 , 0.01247799, 0.00889468, 0.01256444, 0.01259649,\n",
      "       0.00504339, 0.00689778, 0.01215179, 0.01411428, 0.01292188,\n",
      "       0.01397142, 0.01415751, 0.01656365, 0.01291838, 0.01567371,\n",
      "       0.01473317, 0.01618779, 0.01536674, 0.01561224, 0.01573188,\n",
      "       0.0187983 , 0.02170079, 0.01656232, 0.01613858, 0.01729288,\n",
      "       0.01941969, 0.01610122, 0.01398127, 0.02042015, 0.01781716,\n",
      "       0.01804755, 0.01573236, 0.02089515, 0.0188715 , 0.01694083,\n",
      "       0.0154747 , 0.0216212 , 0.01870821, 0.0153291 , 0.01775877]), 'std_fit_time': array([0.00561903, 0.00620445, 0.00576075, 0.00690807, 0.00619516,\n",
      "       0.00552958, 0.00754033, 0.00467534, 0.00766054, 0.0079397 ,\n",
      "       0.00761872, 0.00664749, 0.00682541, 0.0075358 , 0.00670212,\n",
      "       0.00751834, 0.00629127, 0.00787605, 0.00688551, 0.00701583,\n",
      "       0.00635079, 0.00786267, 0.00291074, 0.00716307, 0.00261186,\n",
      "       0.00498366, 0.00228729, 0.00750434, 0.00643735, 0.00315631,\n",
      "       0.00628403, 0.0001826 , 0.00096087, 0.0018705 , 0.00554993,\n",
      "       0.00508559, 0.00483323, 0.0001539 , 0.00559139, 0.00503591,\n",
      "       0.00861566, 0.0061424 , 0.00555935, 0.0048927 , 0.00637029,\n",
      "       0.00015858, 0.00498231, 0.0048576 , 0.0057397 , 0.00310765,\n",
      "       0.00084169, 0.00349874, 0.00465646, 0.00529174, 0.00480114,\n",
      "       0.00703452, 0.00529146, 0.00633577, 0.00727594, 0.00492463,\n",
      "       0.00713254, 0.00738058, 0.00723467, 0.0048788 , 0.        ,\n",
      "       0.0066772 , 0.00468519, 0.        , 0.00713184, 0.00716772,\n",
      "       0.00767813, 0.00769879, 0.0062719 , 0.00704487, 0.00801518,\n",
      "       0.00705227, 0.00694072, 0.00739626, 0.00763254, 0.00738371,\n",
      "       0.00105512, 0.00717068, 0.00548195, 0.00678487, 0.00182793,\n",
      "       0.00465355, 0.0046934 , 0.00836777, 0.00472862, 0.00685127,\n",
      "       0.00331204, 0.00692142, 0.00281301, 0.00775938, 0.00489631,\n",
      "       0.00323294, 0.00775975, 0.00772675, 0.0056745 , 0.0061707 ,\n",
      "       0.00514314, 0.00562933, 0.00532363, 0.00470239, 0.00712298,\n",
      "       0.00333034, 0.00405743, 0.00560166, 0.00781512, 0.00739471,\n",
      "       0.00321111, 0.00548753, 0.00612809, 0.00600941, 0.00197807,\n",
      "       0.00282067, 0.007644  , 0.00728013, 0.00648707, 0.00708624,\n",
      "       0.0074077 , 0.00626586, 0.00514542, 0.0062655 , 0.00703012,\n",
      "       0.00733193, 0.00522462, 0.00781876, 0.0070295 , 0.00771835,\n",
      "       0.00678902, 0.00768047, 0.00772433, 0.00830923, 0.00698785,\n",
      "       0.00719957, 0.00712104, 0.00775542, 0.00739136, 0.0083262 ,\n",
      "       0.00474785, 0.00714472, 0.00744516, 0.00633615, 0.00721176,\n",
      "       0.00700651, 0.00709091, 0.00883276, 0.00471722, 0.00562362,\n",
      "       0.00681933, 0.00501798, 0.00570298, 0.00629098, 0.0012496 ,\n",
      "       0.00256388, 0.00594638, 0.00237127, 0.00573432, 0.00371165,\n",
      "       0.00526872, 0.00735955, 0.00538245, 0.00759158, 0.00462315,\n",
      "       0.00625756, 0.00406527, 0.00445425, 0.00709396, 0.0060096 ,\n",
      "       0.00504261, 0.00189286, 0.00755529, 0.00607895, 0.00468434,\n",
      "       0.000646  , 0.00675712, 0.00516135, 0.00206245, 0.00716594]), 'mean_score_time': array([6.24179840e-04, 1.56571865e-03, 2.09422112e-03, 9.97066498e-05,\n",
      "       0.00000000e+00, 3.12380791e-03, 1.59072876e-04, 3.12969685e-03,\n",
      "       0.00000000e+00, 9.08803940e-04, 1.56641006e-03, 1.74767971e-03,\n",
      "       0.00000000e+00, 3.19600105e-03, 1.24931335e-04, 0.00000000e+00,\n",
      "       0.00000000e+00, 1.56681538e-03, 1.32503510e-03, 0.00000000e+00,\n",
      "       0.00000000e+00, 1.56986713e-03, 6.56914711e-04, 3.13398838e-03,\n",
      "       0.00000000e+00, 1.88722610e-03, 0.00000000e+00, 1.56428814e-03,\n",
      "       3.12829018e-03, 1.10411644e-04, 1.76219940e-03, 0.00000000e+00,\n",
      "       3.55458260e-04, 0.00000000e+00, 0.00000000e+00, 2.42917538e-03,\n",
      "       1.35624409e-03, 0.00000000e+00, 1.57039165e-03, 3.13951969e-03,\n",
      "       1.00588799e-04, 1.72643661e-03, 3.12895775e-03, 2.31938362e-03,\n",
      "       0.00000000e+00, 0.00000000e+00, 1.67744160e-03, 1.56216621e-03,\n",
      "       3.12585831e-03, 1.56693459e-03, 3.13940048e-03, 0.00000000e+00,\n",
      "       0.00000000e+00, 1.56931877e-03, 1.36494637e-04, 3.13618183e-03,\n",
      "       3.28223705e-03, 3.12440395e-03, 2.43511200e-03, 2.86910534e-03,\n",
      "       1.56855583e-03, 0.00000000e+00, 0.00000000e+00, 0.00000000e+00,\n",
      "       0.00000000e+00, 0.00000000e+00, 0.00000000e+00, 0.00000000e+00,\n",
      "       1.06906891e-04, 0.00000000e+00, 0.00000000e+00, 0.00000000e+00,\n",
      "       0.00000000e+00, 0.00000000e+00, 1.56192780e-03, 0.00000000e+00,\n",
      "       1.55711174e-04, 0.00000000e+00, 0.00000000e+00, 2.80761719e-03,\n",
      "       0.00000000e+00, 0.00000000e+00, 0.00000000e+00, 0.00000000e+00,\n",
      "       0.00000000e+00, 1.87435150e-03, 1.71735287e-03, 0.00000000e+00,\n",
      "       1.56824589e-03, 0.00000000e+00, 0.00000000e+00, 0.00000000e+00,\n",
      "       1.19137764e-04, 0.00000000e+00, 1.66633129e-03, 0.00000000e+00,\n",
      "       1.56333447e-03, 3.01253796e-03, 1.68838501e-03, 0.00000000e+00,\n",
      "       9.50980186e-04, 0.00000000e+00, 2.55942345e-04, 1.56292915e-03,\n",
      "       0.00000000e+00, 9.06229019e-05, 0.00000000e+00, 0.00000000e+00,\n",
      "       0.00000000e+00, 8.58306885e-04, 0.00000000e+00, 1.56185627e-03,\n",
      "       2.82135010e-03, 1.64914131e-04, 4.28407192e-03, 1.56362057e-03,\n",
      "       3.53479385e-04, 1.60572529e-03, 1.77502632e-04, 0.00000000e+00,\n",
      "       0.00000000e+00, 1.40795708e-03, 1.11818314e-04, 1.35538578e-03,\n",
      "       1.56240463e-03, 0.00000000e+00, 0.00000000e+00, 0.00000000e+00,\n",
      "       1.56042576e-03, 0.00000000e+00, 1.92642212e-05, 1.56297684e-03,\n",
      "       1.56142712e-03, 2.72049904e-03, 4.19173241e-03, 0.00000000e+00,\n",
      "       9.54580307e-04, 0.00000000e+00, 0.00000000e+00, 1.07526779e-04,\n",
      "       0.00000000e+00, 1.10054016e-04, 1.56590939e-03, 0.00000000e+00,\n",
      "       1.35548115e-03, 7.81726837e-03, 7.02729225e-03, 1.10173225e-04,\n",
      "       1.55825615e-03, 2.81839371e-03, 2.29668617e-04, 1.56395435e-03,\n",
      "       1.30202770e-03, 1.56326294e-03, 1.56190395e-03, 1.10077858e-04,\n",
      "       0.00000000e+00, 1.22952461e-04, 1.71267986e-03, 0.00000000e+00,\n",
      "       1.72231197e-03, 3.05938721e-04, 3.93028259e-03, 1.57308578e-03,\n",
      "       1.56354904e-03, 0.00000000e+00, 0.00000000e+00, 1.56495571e-03,\n",
      "       1.56035423e-03, 0.00000000e+00, 0.00000000e+00, 0.00000000e+00,\n",
      "       2.26149559e-03, 1.55959129e-03, 0.00000000e+00, 2.55298615e-04,\n",
      "       0.00000000e+00, 0.00000000e+00, 1.55801773e-03, 8.57019424e-04]), 'std_score_time': array([5.45269452e-04, 4.69715595e-03, 4.57313409e-03, 2.99119949e-04,\n",
      "       0.00000000e+00, 6.24762848e-03, 4.77218628e-04, 6.25940286e-03,\n",
      "       0.00000000e+00, 2.40355937e-03, 4.69923019e-03, 3.75627911e-03,\n",
      "       0.00000000e+00, 6.10957882e-03, 3.74794006e-04, 0.00000000e+00,\n",
      "       0.00000000e+00, 4.70044613e-03, 3.58937628e-03, 0.00000000e+00,\n",
      "       0.00000000e+00, 4.70960140e-03, 1.97074413e-03, 6.26805703e-03,\n",
      "       0.00000000e+00, 4.64565895e-03, 0.00000000e+00, 4.69286442e-03,\n",
      "       6.25658160e-03, 3.31234932e-04, 4.64486556e-03, 0.00000000e+00,\n",
      "       1.06637478e-03, 0.00000000e+00, 0.00000000e+00, 5.11515073e-03,\n",
      "       4.06873226e-03, 0.00000000e+00, 4.71117496e-03, 6.27904143e-03,\n",
      "       3.01766396e-04, 4.79883605e-03, 6.25799944e-03, 4.97372557e-03,\n",
      "       0.00000000e+00, 0.00000000e+00, 4.66424254e-03, 4.68649864e-03,\n",
      "       6.25175013e-03, 4.70080376e-03, 6.27882271e-03, 0.00000000e+00,\n",
      "       0.00000000e+00, 4.70795631e-03, 4.09483910e-04, 6.27241918e-03,\n",
      "       5.49635591e-03, 6.24880791e-03, 4.92798169e-03, 5.76822365e-03,\n",
      "       4.70566750e-03, 0.00000000e+00, 0.00000000e+00, 0.00000000e+00,\n",
      "       0.00000000e+00, 0.00000000e+00, 0.00000000e+00, 0.00000000e+00,\n",
      "       3.20720673e-04, 0.00000000e+00, 0.00000000e+00, 0.00000000e+00,\n",
      "       0.00000000e+00, 0.00000000e+00, 4.68578339e-03, 0.00000000e+00,\n",
      "       4.67133522e-04, 0.00000000e+00, 0.00000000e+00, 5.14813059e-03,\n",
      "       0.00000000e+00, 0.00000000e+00, 0.00000000e+00, 0.00000000e+00,\n",
      "       0.00000000e+00, 4.68647967e-03, 4.64479283e-03, 0.00000000e+00,\n",
      "       4.70473766e-03, 0.00000000e+00, 0.00000000e+00, 0.00000000e+00,\n",
      "       3.57413292e-04, 0.00000000e+00, 4.67280715e-03, 0.00000000e+00,\n",
      "       4.69000340e-03, 5.52657405e-03, 4.66082171e-03, 0.00000000e+00,\n",
      "       2.85294056e-03, 0.00000000e+00, 7.67827034e-04, 4.68878746e-03,\n",
      "       0.00000000e+00, 2.71868706e-04, 0.00000000e+00, 0.00000000e+00,\n",
      "       0.00000000e+00, 2.57492065e-03, 0.00000000e+00, 4.68556881e-03,\n",
      "       5.68394081e-03, 4.94742393e-04, 6.62730202e-03, 4.69086170e-03,\n",
      "       1.06043816e-03, 4.69443027e-03, 5.32507896e-04, 0.00000000e+00,\n",
      "       0.00000000e+00, 4.22387123e-03, 3.35454941e-04, 4.06615734e-03,\n",
      "       4.68721390e-03, 0.00000000e+00, 0.00000000e+00, 0.00000000e+00,\n",
      "       4.68127728e-03, 0.00000000e+00, 5.77926636e-05, 4.68893051e-03,\n",
      "       4.68428135e-03, 5.51866683e-03, 6.53527587e-03, 0.00000000e+00,\n",
      "       2.86374092e-03, 0.00000000e+00, 0.00000000e+00, 3.22580338e-04,\n",
      "       0.00000000e+00, 3.30162048e-04, 4.69772816e-03, 0.00000000e+00,\n",
      "       4.06644344e-03, 7.81730559e-03, 7.27771461e-03, 3.30519676e-04,\n",
      "       4.67476845e-03, 5.67655768e-03, 6.89005852e-04, 4.69186306e-03,\n",
      "       3.90608311e-03, 4.68978882e-03, 4.68571186e-03, 3.30233574e-04,\n",
      "       0.00000000e+00, 3.68857384e-04, 4.08670805e-03, 0.00000000e+00,\n",
      "       4.67772886e-03, 9.17816162e-04, 6.25847690e-03, 4.71925735e-03,\n",
      "       4.69064713e-03, 0.00000000e+00, 0.00000000e+00, 4.69486713e-03,\n",
      "       4.68106270e-03, 0.00000000e+00, 0.00000000e+00, 0.00000000e+00,\n",
      "       4.90241238e-03, 4.67877388e-03, 0.00000000e+00, 7.65895844e-04,\n",
      "       0.00000000e+00, 0.00000000e+00, 4.67405319e-03, 2.57105827e-03]), 'param_criterion': masked_array(data=['gini', 'gini', 'gini', 'gini', 'gini', 'gini', 'gini',\n",
      "                   'gini', 'gini', 'gini', 'gini', 'gini', 'gini', 'gini',\n",
      "                   'gini', 'gini', 'gini', 'gini', 'gini', 'gini', 'gini',\n",
      "                   'gini', 'gini', 'gini', 'gini', 'gini', 'gini', 'gini',\n",
      "                   'gini', 'gini', 'gini', 'gini', 'gini', 'gini', 'gini',\n",
      "                   'gini', 'gini', 'gini', 'gini', 'gini', 'gini', 'gini',\n",
      "                   'gini', 'gini', 'gini', 'gini', 'gini', 'gini', 'gini',\n",
      "                   'gini', 'gini', 'gini', 'gini', 'gini', 'gini', 'gini',\n",
      "                   'gini', 'gini', 'gini', 'gini', 'entropy', 'entropy',\n",
      "                   'entropy', 'entropy', 'entropy', 'entropy', 'entropy',\n",
      "                   'entropy', 'entropy', 'entropy', 'entropy', 'entropy',\n",
      "                   'entropy', 'entropy', 'entropy', 'entropy', 'entropy',\n",
      "                   'entropy', 'entropy', 'entropy', 'entropy', 'entropy',\n",
      "                   'entropy', 'entropy', 'entropy', 'entropy', 'entropy',\n",
      "                   'entropy', 'entropy', 'entropy', 'entropy', 'entropy',\n",
      "                   'entropy', 'entropy', 'entropy', 'entropy', 'entropy',\n",
      "                   'entropy', 'entropy', 'entropy', 'entropy', 'entropy',\n",
      "                   'entropy', 'entropy', 'entropy', 'entropy', 'entropy',\n",
      "                   'entropy', 'entropy', 'entropy', 'entropy', 'entropy',\n",
      "                   'entropy', 'entropy', 'entropy', 'entropy', 'entropy',\n",
      "                   'entropy', 'entropy', 'entropy', 'log_loss',\n",
      "                   'log_loss', 'log_loss', 'log_loss', 'log_loss',\n",
      "                   'log_loss', 'log_loss', 'log_loss', 'log_loss',\n",
      "                   'log_loss', 'log_loss', 'log_loss', 'log_loss',\n",
      "                   'log_loss', 'log_loss', 'log_loss', 'log_loss',\n",
      "                   'log_loss', 'log_loss', 'log_loss', 'log_loss',\n",
      "                   'log_loss', 'log_loss', 'log_loss', 'log_loss',\n",
      "                   'log_loss', 'log_loss', 'log_loss', 'log_loss',\n",
      "                   'log_loss', 'log_loss', 'log_loss', 'log_loss',\n",
      "                   'log_loss', 'log_loss', 'log_loss', 'log_loss',\n",
      "                   'log_loss', 'log_loss', 'log_loss', 'log_loss',\n",
      "                   'log_loss', 'log_loss', 'log_loss', 'log_loss',\n",
      "                   'log_loss', 'log_loss', 'log_loss', 'log_loss',\n",
      "                   'log_loss', 'log_loss', 'log_loss', 'log_loss',\n",
      "                   'log_loss', 'log_loss', 'log_loss', 'log_loss',\n",
      "                   'log_loss', 'log_loss', 'log_loss'],\n",
      "             mask=[False, False, False, False, False, False, False, False,\n",
      "                   False, False, False, False, False, False, False, False,\n",
      "                   False, False, False, False, False, False, False, False,\n",
      "                   False, False, False, False, False, False, False, False,\n",
      "                   False, False, False, False, False, False, False, False,\n",
      "                   False, False, False, False, False, False, False, False,\n",
      "                   False, False, False, False, False, False, False, False,\n",
      "                   False, False, False, False, False, False, False, False,\n",
      "                   False, False, False, False, False, False, False, False,\n",
      "                   False, False, False, False, False, False, False, False,\n",
      "                   False, False, False, False, False, False, False, False,\n",
      "                   False, False, False, False, False, False, False, False,\n",
      "                   False, False, False, False, False, False, False, False,\n",
      "                   False, False, False, False, False, False, False, False,\n",
      "                   False, False, False, False, False, False, False, False,\n",
      "                   False, False, False, False, False, False, False, False,\n",
      "                   False, False, False, False, False, False, False, False,\n",
      "                   False, False, False, False, False, False, False, False,\n",
      "                   False, False, False, False, False, False, False, False,\n",
      "                   False, False, False, False, False, False, False, False,\n",
      "                   False, False, False, False, False, False, False, False,\n",
      "                   False, False, False, False, False, False, False, False,\n",
      "                   False, False, False, False],\n",
      "       fill_value='?',\n",
      "            dtype=object), 'param_max_depth': masked_array(data=[1, 1, 1, 1, 2, 2, 2, 2, 3, 3, 3, 3, 4, 4, 4, 4, 5, 5,\n",
      "                   5, 5, 6, 6, 6, 6, 7, 7, 7, 7, 8, 8, 8, 8, 9, 9, 9, 9,\n",
      "                   10, 10, 10, 10, 11, 11, 11, 11, 12, 12, 12, 12, 13, 13,\n",
      "                   13, 13, 14, 14, 14, 14, 15, 15, 15, 15, 1, 1, 1, 1, 2,\n",
      "                   2, 2, 2, 3, 3, 3, 3, 4, 4, 4, 4, 5, 5, 5, 5, 6, 6, 6,\n",
      "                   6, 7, 7, 7, 7, 8, 8, 8, 8, 9, 9, 9, 9, 10, 10, 10, 10,\n",
      "                   11, 11, 11, 11, 12, 12, 12, 12, 13, 13, 13, 13, 14, 14,\n",
      "                   14, 14, 15, 15, 15, 15, 1, 1, 1, 1, 2, 2, 2, 2, 3, 3,\n",
      "                   3, 3, 4, 4, 4, 4, 5, 5, 5, 5, 6, 6, 6, 6, 7, 7, 7, 7,\n",
      "                   8, 8, 8, 8, 9, 9, 9, 9, 10, 10, 10, 10, 11, 11, 11, 11,\n",
      "                   12, 12, 12, 12, 13, 13, 13, 13, 14, 14, 14, 14, 15, 15,\n",
      "                   15, 15],\n",
      "             mask=[False, False, False, False, False, False, False, False,\n",
      "                   False, False, False, False, False, False, False, False,\n",
      "                   False, False, False, False, False, False, False, False,\n",
      "                   False, False, False, False, False, False, False, False,\n",
      "                   False, False, False, False, False, False, False, False,\n",
      "                   False, False, False, False, False, False, False, False,\n",
      "                   False, False, False, False, False, False, False, False,\n",
      "                   False, False, False, False, False, False, False, False,\n",
      "                   False, False, False, False, False, False, False, False,\n",
      "                   False, False, False, False, False, False, False, False,\n",
      "                   False, False, False, False, False, False, False, False,\n",
      "                   False, False, False, False, False, False, False, False,\n",
      "                   False, False, False, False, False, False, False, False,\n",
      "                   False, False, False, False, False, False, False, False,\n",
      "                   False, False, False, False, False, False, False, False,\n",
      "                   False, False, False, False, False, False, False, False,\n",
      "                   False, False, False, False, False, False, False, False,\n",
      "                   False, False, False, False, False, False, False, False,\n",
      "                   False, False, False, False, False, False, False, False,\n",
      "                   False, False, False, False, False, False, False, False,\n",
      "                   False, False, False, False, False, False, False, False,\n",
      "                   False, False, False, False, False, False, False, False,\n",
      "                   False, False, False, False],\n",
      "       fill_value='?',\n",
      "            dtype=object), 'param_min_samples_leaf': masked_array(data=[5, 10, 15, 20, 5, 10, 15, 20, 5, 10, 15, 20, 5, 10, 15,\n",
      "                   20, 5, 10, 15, 20, 5, 10, 15, 20, 5, 10, 15, 20, 5, 10,\n",
      "                   15, 20, 5, 10, 15, 20, 5, 10, 15, 20, 5, 10, 15, 20, 5,\n",
      "                   10, 15, 20, 5, 10, 15, 20, 5, 10, 15, 20, 5, 10, 15,\n",
      "                   20, 5, 10, 15, 20, 5, 10, 15, 20, 5, 10, 15, 20, 5, 10,\n",
      "                   15, 20, 5, 10, 15, 20, 5, 10, 15, 20, 5, 10, 15, 20, 5,\n",
      "                   10, 15, 20, 5, 10, 15, 20, 5, 10, 15, 20, 5, 10, 15,\n",
      "                   20, 5, 10, 15, 20, 5, 10, 15, 20, 5, 10, 15, 20, 5, 10,\n",
      "                   15, 20, 5, 10, 15, 20, 5, 10, 15, 20, 5, 10, 15, 20, 5,\n",
      "                   10, 15, 20, 5, 10, 15, 20, 5, 10, 15, 20, 5, 10, 15,\n",
      "                   20, 5, 10, 15, 20, 5, 10, 15, 20, 5, 10, 15, 20, 5, 10,\n",
      "                   15, 20, 5, 10, 15, 20, 5, 10, 15, 20, 5, 10, 15, 20, 5,\n",
      "                   10, 15, 20],\n",
      "             mask=[False, False, False, False, False, False, False, False,\n",
      "                   False, False, False, False, False, False, False, False,\n",
      "                   False, False, False, False, False, False, False, False,\n",
      "                   False, False, False, False, False, False, False, False,\n",
      "                   False, False, False, False, False, False, False, False,\n",
      "                   False, False, False, False, False, False, False, False,\n",
      "                   False, False, False, False, False, False, False, False,\n",
      "                   False, False, False, False, False, False, False, False,\n",
      "                   False, False, False, False, False, False, False, False,\n",
      "                   False, False, False, False, False, False, False, False,\n",
      "                   False, False, False, False, False, False, False, False,\n",
      "                   False, False, False, False, False, False, False, False,\n",
      "                   False, False, False, False, False, False, False, False,\n",
      "                   False, False, False, False, False, False, False, False,\n",
      "                   False, False, False, False, False, False, False, False,\n",
      "                   False, False, False, False, False, False, False, False,\n",
      "                   False, False, False, False, False, False, False, False,\n",
      "                   False, False, False, False, False, False, False, False,\n",
      "                   False, False, False, False, False, False, False, False,\n",
      "                   False, False, False, False, False, False, False, False,\n",
      "                   False, False, False, False, False, False, False, False,\n",
      "                   False, False, False, False, False, False, False, False,\n",
      "                   False, False, False, False],\n",
      "       fill_value='?',\n",
      "            dtype=object), 'params': [{'criterion': 'gini', 'max_depth': 1, 'min_samples_leaf': 5}, {'criterion': 'gini', 'max_depth': 1, 'min_samples_leaf': 10}, {'criterion': 'gini', 'max_depth': 1, 'min_samples_leaf': 15}, {'criterion': 'gini', 'max_depth': 1, 'min_samples_leaf': 20}, {'criterion': 'gini', 'max_depth': 2, 'min_samples_leaf': 5}, {'criterion': 'gini', 'max_depth': 2, 'min_samples_leaf': 10}, {'criterion': 'gini', 'max_depth': 2, 'min_samples_leaf': 15}, {'criterion': 'gini', 'max_depth': 2, 'min_samples_leaf': 20}, {'criterion': 'gini', 'max_depth': 3, 'min_samples_leaf': 5}, {'criterion': 'gini', 'max_depth': 3, 'min_samples_leaf': 10}, {'criterion': 'gini', 'max_depth': 3, 'min_samples_leaf': 15}, {'criterion': 'gini', 'max_depth': 3, 'min_samples_leaf': 20}, {'criterion': 'gini', 'max_depth': 4, 'min_samples_leaf': 5}, {'criterion': 'gini', 'max_depth': 4, 'min_samples_leaf': 10}, {'criterion': 'gini', 'max_depth': 4, 'min_samples_leaf': 15}, {'criterion': 'gini', 'max_depth': 4, 'min_samples_leaf': 20}, {'criterion': 'gini', 'max_depth': 5, 'min_samples_leaf': 5}, {'criterion': 'gini', 'max_depth': 5, 'min_samples_leaf': 10}, {'criterion': 'gini', 'max_depth': 5, 'min_samples_leaf': 15}, {'criterion': 'gini', 'max_depth': 5, 'min_samples_leaf': 20}, {'criterion': 'gini', 'max_depth': 6, 'min_samples_leaf': 5}, {'criterion': 'gini', 'max_depth': 6, 'min_samples_leaf': 10}, {'criterion': 'gini', 'max_depth': 6, 'min_samples_leaf': 15}, {'criterion': 'gini', 'max_depth': 6, 'min_samples_leaf': 20}, {'criterion': 'gini', 'max_depth': 7, 'min_samples_leaf': 5}, {'criterion': 'gini', 'max_depth': 7, 'min_samples_leaf': 10}, {'criterion': 'gini', 'max_depth': 7, 'min_samples_leaf': 15}, {'criterion': 'gini', 'max_depth': 7, 'min_samples_leaf': 20}, {'criterion': 'gini', 'max_depth': 8, 'min_samples_leaf': 5}, {'criterion': 'gini', 'max_depth': 8, 'min_samples_leaf': 10}, {'criterion': 'gini', 'max_depth': 8, 'min_samples_leaf': 15}, {'criterion': 'gini', 'max_depth': 8, 'min_samples_leaf': 20}, {'criterion': 'gini', 'max_depth': 9, 'min_samples_leaf': 5}, {'criterion': 'gini', 'max_depth': 9, 'min_samples_leaf': 10}, {'criterion': 'gini', 'max_depth': 9, 'min_samples_leaf': 15}, {'criterion': 'gini', 'max_depth': 9, 'min_samples_leaf': 20}, {'criterion': 'gini', 'max_depth': 10, 'min_samples_leaf': 5}, {'criterion': 'gini', 'max_depth': 10, 'min_samples_leaf': 10}, {'criterion': 'gini', 'max_depth': 10, 'min_samples_leaf': 15}, {'criterion': 'gini', 'max_depth': 10, 'min_samples_leaf': 20}, {'criterion': 'gini', 'max_depth': 11, 'min_samples_leaf': 5}, {'criterion': 'gini', 'max_depth': 11, 'min_samples_leaf': 10}, {'criterion': 'gini', 'max_depth': 11, 'min_samples_leaf': 15}, {'criterion': 'gini', 'max_depth': 11, 'min_samples_leaf': 20}, {'criterion': 'gini', 'max_depth': 12, 'min_samples_leaf': 5}, {'criterion': 'gini', 'max_depth': 12, 'min_samples_leaf': 10}, {'criterion': 'gini', 'max_depth': 12, 'min_samples_leaf': 15}, {'criterion': 'gini', 'max_depth': 12, 'min_samples_leaf': 20}, {'criterion': 'gini', 'max_depth': 13, 'min_samples_leaf': 5}, {'criterion': 'gini', 'max_depth': 13, 'min_samples_leaf': 10}, {'criterion': 'gini', 'max_depth': 13, 'min_samples_leaf': 15}, {'criterion': 'gini', 'max_depth': 13, 'min_samples_leaf': 20}, {'criterion': 'gini', 'max_depth': 14, 'min_samples_leaf': 5}, {'criterion': 'gini', 'max_depth': 14, 'min_samples_leaf': 10}, {'criterion': 'gini', 'max_depth': 14, 'min_samples_leaf': 15}, {'criterion': 'gini', 'max_depth': 14, 'min_samples_leaf': 20}, {'criterion': 'gini', 'max_depth': 15, 'min_samples_leaf': 5}, {'criterion': 'gini', 'max_depth': 15, 'min_samples_leaf': 10}, {'criterion': 'gini', 'max_depth': 15, 'min_samples_leaf': 15}, {'criterion': 'gini', 'max_depth': 15, 'min_samples_leaf': 20}, {'criterion': 'entropy', 'max_depth': 1, 'min_samples_leaf': 5}, {'criterion': 'entropy', 'max_depth': 1, 'min_samples_leaf': 10}, {'criterion': 'entropy', 'max_depth': 1, 'min_samples_leaf': 15}, {'criterion': 'entropy', 'max_depth': 1, 'min_samples_leaf': 20}, {'criterion': 'entropy', 'max_depth': 2, 'min_samples_leaf': 5}, {'criterion': 'entropy', 'max_depth': 2, 'min_samples_leaf': 10}, {'criterion': 'entropy', 'max_depth': 2, 'min_samples_leaf': 15}, {'criterion': 'entropy', 'max_depth': 2, 'min_samples_leaf': 20}, {'criterion': 'entropy', 'max_depth': 3, 'min_samples_leaf': 5}, {'criterion': 'entropy', 'max_depth': 3, 'min_samples_leaf': 10}, {'criterion': 'entropy', 'max_depth': 3, 'min_samples_leaf': 15}, {'criterion': 'entropy', 'max_depth': 3, 'min_samples_leaf': 20}, {'criterion': 'entropy', 'max_depth': 4, 'min_samples_leaf': 5}, {'criterion': 'entropy', 'max_depth': 4, 'min_samples_leaf': 10}, {'criterion': 'entropy', 'max_depth': 4, 'min_samples_leaf': 15}, {'criterion': 'entropy', 'max_depth': 4, 'min_samples_leaf': 20}, {'criterion': 'entropy', 'max_depth': 5, 'min_samples_leaf': 5}, {'criterion': 'entropy', 'max_depth': 5, 'min_samples_leaf': 10}, {'criterion': 'entropy', 'max_depth': 5, 'min_samples_leaf': 15}, {'criterion': 'entropy', 'max_depth': 5, 'min_samples_leaf': 20}, {'criterion': 'entropy', 'max_depth': 6, 'min_samples_leaf': 5}, {'criterion': 'entropy', 'max_depth': 6, 'min_samples_leaf': 10}, {'criterion': 'entropy', 'max_depth': 6, 'min_samples_leaf': 15}, {'criterion': 'entropy', 'max_depth': 6, 'min_samples_leaf': 20}, {'criterion': 'entropy', 'max_depth': 7, 'min_samples_leaf': 5}, {'criterion': 'entropy', 'max_depth': 7, 'min_samples_leaf': 10}, {'criterion': 'entropy', 'max_depth': 7, 'min_samples_leaf': 15}, {'criterion': 'entropy', 'max_depth': 7, 'min_samples_leaf': 20}, {'criterion': 'entropy', 'max_depth': 8, 'min_samples_leaf': 5}, {'criterion': 'entropy', 'max_depth': 8, 'min_samples_leaf': 10}, {'criterion': 'entropy', 'max_depth': 8, 'min_samples_leaf': 15}, {'criterion': 'entropy', 'max_depth': 8, 'min_samples_leaf': 20}, {'criterion': 'entropy', 'max_depth': 9, 'min_samples_leaf': 5}, {'criterion': 'entropy', 'max_depth': 9, 'min_samples_leaf': 10}, {'criterion': 'entropy', 'max_depth': 9, 'min_samples_leaf': 15}, {'criterion': 'entropy', 'max_depth': 9, 'min_samples_leaf': 20}, {'criterion': 'entropy', 'max_depth': 10, 'min_samples_leaf': 5}, {'criterion': 'entropy', 'max_depth': 10, 'min_samples_leaf': 10}, {'criterion': 'entropy', 'max_depth': 10, 'min_samples_leaf': 15}, {'criterion': 'entropy', 'max_depth': 10, 'min_samples_leaf': 20}, {'criterion': 'entropy', 'max_depth': 11, 'min_samples_leaf': 5}, {'criterion': 'entropy', 'max_depth': 11, 'min_samples_leaf': 10}, {'criterion': 'entropy', 'max_depth': 11, 'min_samples_leaf': 15}, {'criterion': 'entropy', 'max_depth': 11, 'min_samples_leaf': 20}, {'criterion': 'entropy', 'max_depth': 12, 'min_samples_leaf': 5}, {'criterion': 'entropy', 'max_depth': 12, 'min_samples_leaf': 10}, {'criterion': 'entropy', 'max_depth': 12, 'min_samples_leaf': 15}, {'criterion': 'entropy', 'max_depth': 12, 'min_samples_leaf': 20}, {'criterion': 'entropy', 'max_depth': 13, 'min_samples_leaf': 5}, {'criterion': 'entropy', 'max_depth': 13, 'min_samples_leaf': 10}, {'criterion': 'entropy', 'max_depth': 13, 'min_samples_leaf': 15}, {'criterion': 'entropy', 'max_depth': 13, 'min_samples_leaf': 20}, {'criterion': 'entropy', 'max_depth': 14, 'min_samples_leaf': 5}, {'criterion': 'entropy', 'max_depth': 14, 'min_samples_leaf': 10}, {'criterion': 'entropy', 'max_depth': 14, 'min_samples_leaf': 15}, {'criterion': 'entropy', 'max_depth': 14, 'min_samples_leaf': 20}, {'criterion': 'entropy', 'max_depth': 15, 'min_samples_leaf': 5}, {'criterion': 'entropy', 'max_depth': 15, 'min_samples_leaf': 10}, {'criterion': 'entropy', 'max_depth': 15, 'min_samples_leaf': 15}, {'criterion': 'entropy', 'max_depth': 15, 'min_samples_leaf': 20}, {'criterion': 'log_loss', 'max_depth': 1, 'min_samples_leaf': 5}, {'criterion': 'log_loss', 'max_depth': 1, 'min_samples_leaf': 10}, {'criterion': 'log_loss', 'max_depth': 1, 'min_samples_leaf': 15}, {'criterion': 'log_loss', 'max_depth': 1, 'min_samples_leaf': 20}, {'criterion': 'log_loss', 'max_depth': 2, 'min_samples_leaf': 5}, {'criterion': 'log_loss', 'max_depth': 2, 'min_samples_leaf': 10}, {'criterion': 'log_loss', 'max_depth': 2, 'min_samples_leaf': 15}, {'criterion': 'log_loss', 'max_depth': 2, 'min_samples_leaf': 20}, {'criterion': 'log_loss', 'max_depth': 3, 'min_samples_leaf': 5}, {'criterion': 'log_loss', 'max_depth': 3, 'min_samples_leaf': 10}, {'criterion': 'log_loss', 'max_depth': 3, 'min_samples_leaf': 15}, {'criterion': 'log_loss', 'max_depth': 3, 'min_samples_leaf': 20}, {'criterion': 'log_loss', 'max_depth': 4, 'min_samples_leaf': 5}, {'criterion': 'log_loss', 'max_depth': 4, 'min_samples_leaf': 10}, {'criterion': 'log_loss', 'max_depth': 4, 'min_samples_leaf': 15}, {'criterion': 'log_loss', 'max_depth': 4, 'min_samples_leaf': 20}, {'criterion': 'log_loss', 'max_depth': 5, 'min_samples_leaf': 5}, {'criterion': 'log_loss', 'max_depth': 5, 'min_samples_leaf': 10}, {'criterion': 'log_loss', 'max_depth': 5, 'min_samples_leaf': 15}, {'criterion': 'log_loss', 'max_depth': 5, 'min_samples_leaf': 20}, {'criterion': 'log_loss', 'max_depth': 6, 'min_samples_leaf': 5}, {'criterion': 'log_loss', 'max_depth': 6, 'min_samples_leaf': 10}, {'criterion': 'log_loss', 'max_depth': 6, 'min_samples_leaf': 15}, {'criterion': 'log_loss', 'max_depth': 6, 'min_samples_leaf': 20}, {'criterion': 'log_loss', 'max_depth': 7, 'min_samples_leaf': 5}, {'criterion': 'log_loss', 'max_depth': 7, 'min_samples_leaf': 10}, {'criterion': 'log_loss', 'max_depth': 7, 'min_samples_leaf': 15}, {'criterion': 'log_loss', 'max_depth': 7, 'min_samples_leaf': 20}, {'criterion': 'log_loss', 'max_depth': 8, 'min_samples_leaf': 5}, {'criterion': 'log_loss', 'max_depth': 8, 'min_samples_leaf': 10}, {'criterion': 'log_loss', 'max_depth': 8, 'min_samples_leaf': 15}, {'criterion': 'log_loss', 'max_depth': 8, 'min_samples_leaf': 20}, {'criterion': 'log_loss', 'max_depth': 9, 'min_samples_leaf': 5}, {'criterion': 'log_loss', 'max_depth': 9, 'min_samples_leaf': 10}, {'criterion': 'log_loss', 'max_depth': 9, 'min_samples_leaf': 15}, {'criterion': 'log_loss', 'max_depth': 9, 'min_samples_leaf': 20}, {'criterion': 'log_loss', 'max_depth': 10, 'min_samples_leaf': 5}, {'criterion': 'log_loss', 'max_depth': 10, 'min_samples_leaf': 10}, {'criterion': 'log_loss', 'max_depth': 10, 'min_samples_leaf': 15}, {'criterion': 'log_loss', 'max_depth': 10, 'min_samples_leaf': 20}, {'criterion': 'log_loss', 'max_depth': 11, 'min_samples_leaf': 5}, {'criterion': 'log_loss', 'max_depth': 11, 'min_samples_leaf': 10}, {'criterion': 'log_loss', 'max_depth': 11, 'min_samples_leaf': 15}, {'criterion': 'log_loss', 'max_depth': 11, 'min_samples_leaf': 20}, {'criterion': 'log_loss', 'max_depth': 12, 'min_samples_leaf': 5}, {'criterion': 'log_loss', 'max_depth': 12, 'min_samples_leaf': 10}, {'criterion': 'log_loss', 'max_depth': 12, 'min_samples_leaf': 15}, {'criterion': 'log_loss', 'max_depth': 12, 'min_samples_leaf': 20}, {'criterion': 'log_loss', 'max_depth': 13, 'min_samples_leaf': 5}, {'criterion': 'log_loss', 'max_depth': 13, 'min_samples_leaf': 10}, {'criterion': 'log_loss', 'max_depth': 13, 'min_samples_leaf': 15}, {'criterion': 'log_loss', 'max_depth': 13, 'min_samples_leaf': 20}, {'criterion': 'log_loss', 'max_depth': 14, 'min_samples_leaf': 5}, {'criterion': 'log_loss', 'max_depth': 14, 'min_samples_leaf': 10}, {'criterion': 'log_loss', 'max_depth': 14, 'min_samples_leaf': 15}, {'criterion': 'log_loss', 'max_depth': 14, 'min_samples_leaf': 20}, {'criterion': 'log_loss', 'max_depth': 15, 'min_samples_leaf': 5}, {'criterion': 'log_loss', 'max_depth': 15, 'min_samples_leaf': 10}, {'criterion': 'log_loss', 'max_depth': 15, 'min_samples_leaf': 15}, {'criterion': 'log_loss', 'max_depth': 15, 'min_samples_leaf': 20}], 'split0_test_score': array([0.59605911, 0.59605911, 0.59605911, 0.59605911, 0.68965517,\n",
      "       0.68965517, 0.68965517, 0.68965517, 0.69950739, 0.69950739,\n",
      "       0.69950739, 0.69950739, 0.69458128, 0.69704433, 0.69950739,\n",
      "       0.69950739, 0.72906404, 0.73152709, 0.72906404, 0.72660099,\n",
      "       0.73399015, 0.73399015, 0.73399015, 0.73399015, 0.71674877,\n",
      "       0.72906404, 0.71428571, 0.71182266, 0.70689655, 0.72906404,\n",
      "       0.72660099, 0.70935961, 0.70197044, 0.70197044, 0.68965517,\n",
      "       0.7044335 , 0.68965517, 0.69458128, 0.69458128, 0.70935961,\n",
      "       0.68719212, 0.69950739, 0.7044335 , 0.71921182, 0.66502463,\n",
      "       0.65763547, 0.67980296, 0.68472906, 0.66502463, 0.66009852,\n",
      "       0.68965517, 0.69458128, 0.66995074, 0.67487685, 0.67241379,\n",
      "       0.69458128, 0.66256158, 0.68472906, 0.68719212, 0.68472906,\n",
      "       0.59605911, 0.59605911, 0.59605911, 0.59605911, 0.68965517,\n",
      "       0.68965517, 0.68965517, 0.68965517, 0.68965517, 0.68965517,\n",
      "       0.68965517, 0.68965517, 0.71674877, 0.71921182, 0.72167488,\n",
      "       0.72167488, 0.72660099, 0.72660099, 0.72413793, 0.72167488,\n",
      "       0.73152709, 0.73399015, 0.73399015, 0.7364532 , 0.71674877,\n",
      "       0.72413793, 0.72660099, 0.71674877, 0.69950739, 0.72660099,\n",
      "       0.72660099, 0.72167488, 0.70197044, 0.70197044, 0.70935961,\n",
      "       0.7044335 , 0.66502463, 0.68226601, 0.70689655, 0.70935961,\n",
      "       0.68472906, 0.69211823, 0.71921182, 0.71428571, 0.67241379,\n",
      "       0.68226601, 0.70689655, 0.70935961, 0.65024631, 0.67241379,\n",
      "       0.69458128, 0.69458128, 0.6453202 , 0.66009852, 0.69704433,\n",
      "       0.68965517, 0.65517241, 0.66502463, 0.70197044, 0.68965517,\n",
      "       0.59605911, 0.59605911, 0.59605911, 0.59605911, 0.68965517,\n",
      "       0.68965517, 0.68965517, 0.68965517, 0.68965517, 0.68965517,\n",
      "       0.68965517, 0.68965517, 0.71674877, 0.71921182, 0.72167488,\n",
      "       0.72167488, 0.72660099, 0.72660099, 0.72413793, 0.72167488,\n",
      "       0.73152709, 0.73399015, 0.73399015, 0.7364532 , 0.71674877,\n",
      "       0.72413793, 0.72660099, 0.71674877, 0.69950739, 0.72660099,\n",
      "       0.72660099, 0.72167488, 0.70197044, 0.70197044, 0.70935961,\n",
      "       0.7044335 , 0.66502463, 0.68226601, 0.70689655, 0.70935961,\n",
      "       0.68472906, 0.69211823, 0.71921182, 0.71428571, 0.67241379,\n",
      "       0.68226601, 0.70689655, 0.70935961, 0.65024631, 0.67241379,\n",
      "       0.69458128, 0.69458128, 0.6453202 , 0.66009852, 0.69704433,\n",
      "       0.68965517, 0.65517241, 0.66502463, 0.70197044, 0.68965517]), 'split1_test_score': array([0.60344828, 0.60344828, 0.60344828, 0.60344828, 0.66502463,\n",
      "       0.66502463, 0.66502463, 0.66502463, 0.66256158, 0.66256158,\n",
      "       0.66256158, 0.66256158, 0.67487685, 0.68226601, 0.68226601,\n",
      "       0.68226601, 0.69704433, 0.69211823, 0.69211823, 0.69211823,\n",
      "       0.69211823, 0.69704433, 0.69211823, 0.69458128, 0.69458128,\n",
      "       0.68965517, 0.69950739, 0.69211823, 0.68472906, 0.68965517,\n",
      "       0.7044335 , 0.68472906, 0.68719212, 0.70197044, 0.70197044,\n",
      "       0.68472906, 0.67241379, 0.68965517, 0.6773399 , 0.67241379,\n",
      "       0.66256158, 0.68965517, 0.6773399 , 0.66995074, 0.66009852,\n",
      "       0.69458128, 0.68719212, 0.67487685, 0.65517241, 0.68965517,\n",
      "       0.68719212, 0.67980296, 0.64285714, 0.68965517, 0.69211823,\n",
      "       0.68226601, 0.65763547, 0.68965517, 0.69458128, 0.67980296,\n",
      "       0.60344828, 0.60344828, 0.60344828, 0.60344828, 0.66502463,\n",
      "       0.66502463, 0.66502463, 0.66502463, 0.66256158, 0.66256158,\n",
      "       0.66256158, 0.66256158, 0.67487685, 0.68226601, 0.68226601,\n",
      "       0.68226601, 0.68226601, 0.6773399 , 0.6773399 , 0.68965517,\n",
      "       0.69211823, 0.68965517, 0.68965517, 0.69950739, 0.68472906,\n",
      "       0.67980296, 0.69458128, 0.68965517, 0.68226601, 0.66995074,\n",
      "       0.67980296, 0.6773399 , 0.65517241, 0.66256158, 0.65763547,\n",
      "       0.66748768, 0.64285714, 0.65763547, 0.65763547, 0.66009852,\n",
      "       0.63546798, 0.65270936, 0.66009852, 0.66502463, 0.65517241,\n",
      "       0.64778325, 0.65763547, 0.66502463, 0.64285714, 0.65763547,\n",
      "       0.65763547, 0.66502463, 0.63793103, 0.65517241, 0.65763547,\n",
      "       0.66748768, 0.65024631, 0.65517241, 0.65763547, 0.66748768,\n",
      "       0.60344828, 0.60344828, 0.60344828, 0.60344828, 0.66502463,\n",
      "       0.66502463, 0.66502463, 0.66502463, 0.66256158, 0.66256158,\n",
      "       0.66256158, 0.66256158, 0.67487685, 0.68226601, 0.68226601,\n",
      "       0.68226601, 0.68226601, 0.6773399 , 0.6773399 , 0.68965517,\n",
      "       0.69211823, 0.68965517, 0.68965517, 0.69950739, 0.68472906,\n",
      "       0.67980296, 0.69458128, 0.68965517, 0.68226601, 0.66995074,\n",
      "       0.67980296, 0.6773399 , 0.65517241, 0.66256158, 0.65763547,\n",
      "       0.66748768, 0.64285714, 0.65763547, 0.65763547, 0.66009852,\n",
      "       0.63546798, 0.65270936, 0.66009852, 0.66502463, 0.65517241,\n",
      "       0.64778325, 0.65763547, 0.66502463, 0.64285714, 0.65763547,\n",
      "       0.65763547, 0.66502463, 0.63793103, 0.65517241, 0.65763547,\n",
      "       0.66748768, 0.65024631, 0.65517241, 0.65763547, 0.66748768]), 'split2_test_score': array([0.63209877, 0.63209877, 0.63209877, 0.63209877, 0.72345679,\n",
      "       0.72345679, 0.72345679, 0.72345679, 0.72592593, 0.72592593,\n",
      "       0.72592593, 0.72592593, 0.74074074, 0.74074074, 0.74074074,\n",
      "       0.74074074, 0.74320988, 0.74320988, 0.74074074, 0.74074074,\n",
      "       0.74814815, 0.75061728, 0.74814815, 0.75308642, 0.74074074,\n",
      "       0.7382716 , 0.74567901, 0.75061728, 0.76296296, 0.75308642,\n",
      "       0.73333333, 0.7382716 , 0.71111111, 0.6962963 , 0.69382716,\n",
      "       0.70617284, 0.68888889, 0.71358025, 0.69876543, 0.71111111,\n",
      "       0.7037037 , 0.71604938, 0.69135802, 0.70123457, 0.6962963 ,\n",
      "       0.72592593, 0.68888889, 0.71111111, 0.70123457, 0.73333333,\n",
      "       0.69135802, 0.71358025, 0.69876543, 0.7382716 , 0.70617284,\n",
      "       0.70617284, 0.67160494, 0.73333333, 0.69382716, 0.71604938,\n",
      "       0.63209877, 0.63209877, 0.63209877, 0.63209877, 0.72345679,\n",
      "       0.72345679, 0.72345679, 0.72345679, 0.72592593, 0.72592593,\n",
      "       0.72592593, 0.72592593, 0.74074074, 0.74074074, 0.74074074,\n",
      "       0.74074074, 0.74320988, 0.74320988, 0.74074074, 0.74074074,\n",
      "       0.75308642, 0.75061728, 0.74814815, 0.75308642, 0.7382716 ,\n",
      "       0.74074074, 0.74814815, 0.75061728, 0.76049383, 0.75555556,\n",
      "       0.73580247, 0.7382716 , 0.74567901, 0.72098765, 0.69876543,\n",
      "       0.70617284, 0.71604938, 0.71851852, 0.70123457, 0.71111111,\n",
      "       0.72839506, 0.73333333, 0.69876543, 0.70123457, 0.74074074,\n",
      "       0.71604938, 0.6962963 , 0.71111111, 0.7308642 , 0.72839506,\n",
      "       0.69382716, 0.71111111, 0.73333333, 0.7308642 , 0.71111111,\n",
      "       0.70617284, 0.72345679, 0.74814815, 0.69382716, 0.71111111,\n",
      "       0.63209877, 0.63209877, 0.63209877, 0.63209877, 0.72345679,\n",
      "       0.72345679, 0.72345679, 0.72345679, 0.72592593, 0.72592593,\n",
      "       0.72592593, 0.72592593, 0.74074074, 0.74074074, 0.74074074,\n",
      "       0.74074074, 0.74320988, 0.74320988, 0.74074074, 0.74074074,\n",
      "       0.75308642, 0.75061728, 0.74814815, 0.75308642, 0.7382716 ,\n",
      "       0.74074074, 0.74814815, 0.75061728, 0.76049383, 0.75555556,\n",
      "       0.73580247, 0.7382716 , 0.74567901, 0.72098765, 0.69876543,\n",
      "       0.70617284, 0.71604938, 0.71851852, 0.70123457, 0.71111111,\n",
      "       0.72839506, 0.73333333, 0.69876543, 0.70123457, 0.74074074,\n",
      "       0.71604938, 0.6962963 , 0.71111111, 0.7308642 , 0.72839506,\n",
      "       0.69382716, 0.71111111, 0.73333333, 0.7308642 , 0.71111111,\n",
      "       0.70617284, 0.72345679, 0.74814815, 0.69382716, 0.71111111]), 'split3_test_score': array([0.64691358, 0.64691358, 0.64691358, 0.64691358, 0.70123457,\n",
      "       0.70123457, 0.70123457, 0.70123457, 0.70123457, 0.70123457,\n",
      "       0.70123457, 0.70123457, 0.72592593, 0.72839506, 0.72592593,\n",
      "       0.72098765, 0.74074074, 0.74320988, 0.74814815, 0.74320988,\n",
      "       0.72839506, 0.73580247, 0.7382716 , 0.73333333, 0.72098765,\n",
      "       0.72345679, 0.71851852, 0.71111111, 0.71851852, 0.72098765,\n",
      "       0.71851852, 0.71358025, 0.71851852, 0.71111111, 0.70864198,\n",
      "       0.71358025, 0.71111111, 0.68888889, 0.68148148, 0.7037037 ,\n",
      "       0.68395062, 0.68888889, 0.67901235, 0.70617284, 0.67407407,\n",
      "       0.67160494, 0.65432099, 0.6962963 , 0.64691358, 0.68148148,\n",
      "       0.65432099, 0.6962963 , 0.64691358, 0.6691358 , 0.65432099,\n",
      "       0.69876543, 0.64444444, 0.6617284 , 0.66666667, 0.68888889,\n",
      "       0.64691358, 0.64691358, 0.64691358, 0.64691358, 0.70123457,\n",
      "       0.70123457, 0.70123457, 0.70123457, 0.69876543, 0.69876543,\n",
      "       0.69876543, 0.69382716, 0.70123457, 0.70123457, 0.7037037 ,\n",
      "       0.69876543, 0.7308642 , 0.7308642 , 0.73333333, 0.7308642 ,\n",
      "       0.7382716 , 0.73333333, 0.74814815, 0.74567901, 0.73333333,\n",
      "       0.72345679, 0.72592593, 0.72345679, 0.7308642 , 0.72839506,\n",
      "       0.72592593, 0.72839506, 0.71111111, 0.71851852, 0.71111111,\n",
      "       0.71358025, 0.7037037 , 0.69876543, 0.6962963 , 0.7037037 ,\n",
      "       0.69876543, 0.69135802, 0.69876543, 0.70617284, 0.68641975,\n",
      "       0.67160494, 0.67407407, 0.6962963 , 0.65185185, 0.6691358 ,\n",
      "       0.67407407, 0.6962963 , 0.63209877, 0.6691358 , 0.67407407,\n",
      "       0.69876543, 0.66419753, 0.6617284 , 0.68641975, 0.68888889,\n",
      "       0.64691358, 0.64691358, 0.64691358, 0.64691358, 0.70123457,\n",
      "       0.70123457, 0.70123457, 0.70123457, 0.69876543, 0.69876543,\n",
      "       0.69876543, 0.69382716, 0.70123457, 0.70123457, 0.7037037 ,\n",
      "       0.69876543, 0.7308642 , 0.7308642 , 0.73333333, 0.7308642 ,\n",
      "       0.7382716 , 0.73333333, 0.74814815, 0.74567901, 0.73333333,\n",
      "       0.72345679, 0.72592593, 0.72345679, 0.7308642 , 0.72839506,\n",
      "       0.72592593, 0.72839506, 0.71111111, 0.71851852, 0.71111111,\n",
      "       0.71358025, 0.7037037 , 0.69876543, 0.6962963 , 0.7037037 ,\n",
      "       0.69876543, 0.69135802, 0.69876543, 0.70617284, 0.68641975,\n",
      "       0.67160494, 0.67407407, 0.6962963 , 0.65185185, 0.6691358 ,\n",
      "       0.67407407, 0.6962963 , 0.63209877, 0.6691358 , 0.67407407,\n",
      "       0.69876543, 0.66419753, 0.6617284 , 0.68641975, 0.68888889]), 'split4_test_score': array([0.60740741, 0.60740741, 0.60740741, 0.60740741, 0.67901235,\n",
      "       0.67901235, 0.67901235, 0.67901235, 0.68641975, 0.68641975,\n",
      "       0.68641975, 0.68395062, 0.6962963 , 0.6962963 , 0.6962963 ,\n",
      "       0.6962963 , 0.67407407, 0.67654321, 0.67654321, 0.68148148,\n",
      "       0.68888889, 0.68641975, 0.67654321, 0.67654321, 0.68888889,\n",
      "       0.68888889, 0.68395062, 0.68641975, 0.68641975, 0.69135802,\n",
      "       0.67901235, 0.68395062, 0.65925926, 0.67407407, 0.67654321,\n",
      "       0.68395062, 0.64444444, 0.63950617, 0.6617284 , 0.67160494,\n",
      "       0.63209877, 0.64197531, 0.64691358, 0.65679012, 0.63209877,\n",
      "       0.62222222, 0.64938272, 0.6617284 , 0.61728395, 0.62716049,\n",
      "       0.64938272, 0.65925926, 0.61728395, 0.62469136, 0.64444444,\n",
      "       0.65679012, 0.59753086, 0.62469136, 0.65432099, 0.66419753,\n",
      "       0.60740741, 0.60740741, 0.60740741, 0.60740741, 0.67901235,\n",
      "       0.67901235, 0.67901235, 0.67901235, 0.68641975, 0.68641975,\n",
      "       0.68641975, 0.68395062, 0.6962963 , 0.6962963 , 0.6962963 ,\n",
      "       0.6962963 , 0.68148148, 0.68148148, 0.68148148, 0.68148148,\n",
      "       0.69135802, 0.68641975, 0.68148148, 0.67654321, 0.67901235,\n",
      "       0.68641975, 0.69135802, 0.68641975, 0.6691358 , 0.67654321,\n",
      "       0.67901235, 0.68395062, 0.66666667, 0.65432099, 0.67654321,\n",
      "       0.68148148, 0.65679012, 0.64691358, 0.67654321, 0.68148148,\n",
      "       0.6345679 , 0.63950617, 0.65432099, 0.6617284 , 0.65185185,\n",
      "       0.62222222, 0.6617284 , 0.66419753, 0.63950617, 0.62716049,\n",
      "       0.6617284 , 0.6617284 , 0.63209877, 0.62222222, 0.65925926,\n",
      "       0.65925926, 0.63703704, 0.61234568, 0.6691358 , 0.6691358 ,\n",
      "       0.60740741, 0.60740741, 0.60740741, 0.60740741, 0.67901235,\n",
      "       0.67901235, 0.67901235, 0.67901235, 0.68641975, 0.68641975,\n",
      "       0.68641975, 0.68395062, 0.6962963 , 0.6962963 , 0.6962963 ,\n",
      "       0.6962963 , 0.68148148, 0.68148148, 0.68148148, 0.68148148,\n",
      "       0.69135802, 0.68641975, 0.68148148, 0.67654321, 0.67901235,\n",
      "       0.68641975, 0.69135802, 0.68641975, 0.6691358 , 0.67654321,\n",
      "       0.67901235, 0.68395062, 0.66666667, 0.65432099, 0.67654321,\n",
      "       0.68148148, 0.65679012, 0.64691358, 0.67654321, 0.68148148,\n",
      "       0.6345679 , 0.63950617, 0.65432099, 0.6617284 , 0.65185185,\n",
      "       0.62222222, 0.6617284 , 0.66419753, 0.63950617, 0.62716049,\n",
      "       0.6617284 , 0.6617284 , 0.63209877, 0.62222222, 0.65925926,\n",
      "       0.65925926, 0.63703704, 0.61234568, 0.6691358 , 0.6691358 ]), 'split5_test_score': array([0.59259259, 0.59259259, 0.59259259, 0.59259259, 0.67901235,\n",
      "       0.67901235, 0.67901235, 0.67901235, 0.69876543, 0.69876543,\n",
      "       0.69876543, 0.69876543, 0.72345679, 0.72345679, 0.72839506,\n",
      "       0.72592593, 0.7382716 , 0.73580247, 0.74320988, 0.75061728,\n",
      "       0.71358025, 0.71358025, 0.71851852, 0.7308642 , 0.70617284,\n",
      "       0.71851852, 0.70617284, 0.73580247, 0.71604938, 0.71358025,\n",
      "       0.70123457, 0.7308642 , 0.68888889, 0.69135802, 0.69876543,\n",
      "       0.7308642 , 0.68888889, 0.7037037 , 0.70617284, 0.7382716 ,\n",
      "       0.67654321, 0.68888889, 0.68641975, 0.72098765, 0.67407407,\n",
      "       0.68888889, 0.69876543, 0.73333333, 0.65679012, 0.69135802,\n",
      "       0.70123457, 0.73580247, 0.6691358 , 0.6962963 , 0.6962963 ,\n",
      "       0.73580247, 0.65925926, 0.69135802, 0.6962963 , 0.73580247,\n",
      "       0.59259259, 0.59259259, 0.59259259, 0.59259259, 0.67901235,\n",
      "       0.67901235, 0.67901235, 0.67901235, 0.69876543, 0.69876543,\n",
      "       0.69876543, 0.69876543, 0.72345679, 0.72345679, 0.72839506,\n",
      "       0.72592593, 0.73580247, 0.7308642 , 0.74074074, 0.74320988,\n",
      "       0.70864198, 0.71111111, 0.71604938, 0.72345679, 0.69876543,\n",
      "       0.71111111, 0.71111111, 0.72592593, 0.71604938, 0.71111111,\n",
      "       0.70123457, 0.72098765, 0.69382716, 0.7037037 , 0.69876543,\n",
      "       0.72098765, 0.6962963 , 0.70864198, 0.70864198, 0.7308642 ,\n",
      "       0.67654321, 0.69135802, 0.68888889, 0.71358025, 0.6617284 ,\n",
      "       0.69135802, 0.70123457, 0.72592593, 0.64691358, 0.69135802,\n",
      "       0.7037037 , 0.72839506, 0.64938272, 0.70123457, 0.7037037 ,\n",
      "       0.72839506, 0.65185185, 0.69876543, 0.7037037 , 0.72839506,\n",
      "       0.59259259, 0.59259259, 0.59259259, 0.59259259, 0.67901235,\n",
      "       0.67901235, 0.67901235, 0.67901235, 0.69876543, 0.69876543,\n",
      "       0.69876543, 0.69876543, 0.72345679, 0.72345679, 0.72839506,\n",
      "       0.72592593, 0.73580247, 0.7308642 , 0.74074074, 0.74320988,\n",
      "       0.70864198, 0.71111111, 0.71604938, 0.72345679, 0.69876543,\n",
      "       0.71111111, 0.71111111, 0.72592593, 0.71604938, 0.71111111,\n",
      "       0.70123457, 0.72098765, 0.69382716, 0.7037037 , 0.69876543,\n",
      "       0.72098765, 0.6962963 , 0.70864198, 0.70864198, 0.7308642 ,\n",
      "       0.67654321, 0.69135802, 0.68888889, 0.71358025, 0.6617284 ,\n",
      "       0.69135802, 0.70123457, 0.72592593, 0.64691358, 0.69135802,\n",
      "       0.7037037 , 0.72839506, 0.64938272, 0.70123457, 0.7037037 ,\n",
      "       0.72839506, 0.65185185, 0.69876543, 0.7037037 , 0.72839506]), 'split6_test_score': array([0.62469136, 0.62469136, 0.62469136, 0.62469136, 0.67654321,\n",
      "       0.67654321, 0.67654321, 0.67654321, 0.67654321, 0.67654321,\n",
      "       0.67654321, 0.67160494, 0.68148148, 0.68148148, 0.68148148,\n",
      "       0.67901235, 0.69876543, 0.69876543, 0.6962963 , 0.69135802,\n",
      "       0.68888889, 0.69135802, 0.6962963 , 0.69135802, 0.67901235,\n",
      "       0.68148148, 0.69382716, 0.67901235, 0.68148148, 0.68888889,\n",
      "       0.7037037 , 0.67654321, 0.68641975, 0.68888889, 0.70864198,\n",
      "       0.67654321, 0.66666667, 0.6962963 , 0.70617284, 0.67654321,\n",
      "       0.65185185, 0.69135802, 0.7037037 , 0.67654321, 0.66666667,\n",
      "       0.6962963 , 0.7037037 , 0.68395062, 0.64938272, 0.70123457,\n",
      "       0.70864198, 0.67407407, 0.65925926, 0.70123457, 0.7037037 ,\n",
      "       0.6691358 , 0.64938272, 0.69876543, 0.70617284, 0.67901235,\n",
      "       0.62469136, 0.62469136, 0.62469136, 0.62469136, 0.67654321,\n",
      "       0.67654321, 0.67654321, 0.67654321, 0.67654321, 0.67654321,\n",
      "       0.67654321, 0.67160494, 0.68395062, 0.68395062, 0.68395062,\n",
      "       0.67901235, 0.69876543, 0.69382716, 0.69382716, 0.68888889,\n",
      "       0.68888889, 0.68641975, 0.69135802, 0.68888889, 0.67407407,\n",
      "       0.67901235, 0.69135802, 0.67901235, 0.66666667, 0.68888889,\n",
      "       0.70123457, 0.67901235, 0.68395062, 0.69135802, 0.7037037 ,\n",
      "       0.67901235, 0.67901235, 0.70123457, 0.70123457, 0.67901235,\n",
      "       0.66666667, 0.6962963 , 0.70123457, 0.67901235, 0.64938272,\n",
      "       0.6962963 , 0.69876543, 0.68641975, 0.65185185, 0.7037037 ,\n",
      "       0.7037037 , 0.67654321, 0.67160494, 0.70864198, 0.70123457,\n",
      "       0.67160494, 0.65679012, 0.69876543, 0.70123457, 0.68148148,\n",
      "       0.62469136, 0.62469136, 0.62469136, 0.62469136, 0.67654321,\n",
      "       0.67654321, 0.67654321, 0.67654321, 0.67654321, 0.67654321,\n",
      "       0.67654321, 0.67160494, 0.68395062, 0.68395062, 0.68395062,\n",
      "       0.67901235, 0.69876543, 0.69382716, 0.69382716, 0.68888889,\n",
      "       0.68888889, 0.68641975, 0.69135802, 0.68888889, 0.67407407,\n",
      "       0.67901235, 0.69135802, 0.67901235, 0.66666667, 0.68888889,\n",
      "       0.70123457, 0.67901235, 0.68395062, 0.69135802, 0.7037037 ,\n",
      "       0.67901235, 0.67901235, 0.70123457, 0.70123457, 0.67901235,\n",
      "       0.66666667, 0.6962963 , 0.70123457, 0.67901235, 0.64938272,\n",
      "       0.6962963 , 0.69876543, 0.68641975, 0.65185185, 0.7037037 ,\n",
      "       0.7037037 , 0.67654321, 0.67160494, 0.70864198, 0.70123457,\n",
      "       0.67160494, 0.65679012, 0.69876543, 0.70123457, 0.68148148]), 'split7_test_score': array([0.58518519, 0.58518519, 0.58518519, 0.58518519, 0.62716049,\n",
      "       0.62716049, 0.62716049, 0.62716049, 0.65679012, 0.65679012,\n",
      "       0.65679012, 0.65185185, 0.67407407, 0.67901235, 0.67901235,\n",
      "       0.67407407, 0.68395062, 0.68395062, 0.68395062, 0.67654321,\n",
      "       0.69135802, 0.69135802, 0.69135802, 0.69382716, 0.68148148,\n",
      "       0.68148148, 0.69135802, 0.67901235, 0.68888889, 0.68148148,\n",
      "       0.69135802, 0.68148148, 0.67407407, 0.68148148, 0.69382716,\n",
      "       0.68148148, 0.68641975, 0.68148148, 0.70123457, 0.68395062,\n",
      "       0.68148148, 0.68148148, 0.70617284, 0.69382716, 0.68641975,\n",
      "       0.68641975, 0.69876543, 0.68395062, 0.65679012, 0.67654321,\n",
      "       0.70123457, 0.67901235, 0.65925926, 0.66666667, 0.69382716,\n",
      "       0.67654321, 0.64938272, 0.65679012, 0.69135802, 0.67654321,\n",
      "       0.58518519, 0.58518519, 0.58518519, 0.58518519, 0.62716049,\n",
      "       0.62716049, 0.62716049, 0.62716049, 0.65185185, 0.65185185,\n",
      "       0.65185185, 0.65185185, 0.67901235, 0.67901235, 0.67407407,\n",
      "       0.67407407, 0.68641975, 0.68148148, 0.67160494, 0.67407407,\n",
      "       0.67654321, 0.68641975, 0.67654321, 0.68148148, 0.65185185,\n",
      "       0.67407407, 0.67901235, 0.67654321, 0.67160494, 0.68148148,\n",
      "       0.69135802, 0.68148148, 0.6617284 , 0.68641975, 0.6962963 ,\n",
      "       0.68395062, 0.66666667, 0.68888889, 0.70864198, 0.69135802,\n",
      "       0.65679012, 0.68641975, 0.70617284, 0.69382716, 0.64691358,\n",
      "       0.69135802, 0.70617284, 0.69135802, 0.6691358 , 0.69382716,\n",
      "       0.70617284, 0.68641975, 0.62962963, 0.68148148, 0.6962963 ,\n",
      "       0.68641975, 0.63703704, 0.69135802, 0.6962963 , 0.68641975,\n",
      "       0.58518519, 0.58518519, 0.58518519, 0.58518519, 0.62716049,\n",
      "       0.62716049, 0.62716049, 0.62716049, 0.65185185, 0.65185185,\n",
      "       0.65185185, 0.65185185, 0.67901235, 0.67901235, 0.67407407,\n",
      "       0.67407407, 0.68641975, 0.68148148, 0.67160494, 0.67407407,\n",
      "       0.67654321, 0.68641975, 0.67654321, 0.68148148, 0.65185185,\n",
      "       0.67407407, 0.67901235, 0.67654321, 0.67160494, 0.68148148,\n",
      "       0.69135802, 0.68148148, 0.6617284 , 0.68641975, 0.6962963 ,\n",
      "       0.68395062, 0.66666667, 0.68888889, 0.70864198, 0.69135802,\n",
      "       0.65679012, 0.68641975, 0.70617284, 0.69382716, 0.64691358,\n",
      "       0.69135802, 0.70617284, 0.69135802, 0.6691358 , 0.69382716,\n",
      "       0.70617284, 0.68641975, 0.62962963, 0.68148148, 0.6962963 ,\n",
      "       0.68641975, 0.63703704, 0.69135802, 0.6962963 , 0.68641975]), 'split8_test_score': array([0.62222222, 0.62222222, 0.62222222, 0.62222222, 0.66419753,\n",
      "       0.66419753, 0.66419753, 0.66419753, 0.68888889, 0.68888889,\n",
      "       0.68888889, 0.68641975, 0.71358025, 0.71851852, 0.71358025,\n",
      "       0.7037037 , 0.70617284, 0.71358025, 0.70864198, 0.7037037 ,\n",
      "       0.71604938, 0.72345679, 0.71111111, 0.70864198, 0.72098765,\n",
      "       0.72098765, 0.71358025, 0.71358025, 0.71111111, 0.71358025,\n",
      "       0.71111111, 0.71358025, 0.70864198, 0.71111111, 0.70864198,\n",
      "       0.71604938, 0.6962963 , 0.69382716, 0.69382716, 0.70123457,\n",
      "       0.67654321, 0.6962963 , 0.71358025, 0.71358025, 0.69135802,\n",
      "       0.6962963 , 0.68888889, 0.7037037 , 0.6617284 , 0.68148148,\n",
      "       0.68395062, 0.71111111, 0.67407407, 0.68395062, 0.69382716,\n",
      "       0.71111111, 0.66666667, 0.68395062, 0.69876543, 0.71111111,\n",
      "       0.62222222, 0.62222222, 0.62222222, 0.62222222, 0.66419753,\n",
      "       0.66419753, 0.66419753, 0.66419753, 0.66419753, 0.66419753,\n",
      "       0.66419753, 0.6617284 , 0.6962963 , 0.70123457, 0.6962963 ,\n",
      "       0.68395062, 0.68395062, 0.69135802, 0.68641975, 0.67654321,\n",
      "       0.69876543, 0.71604938, 0.70617284, 0.6962963 , 0.69876543,\n",
      "       0.71851852, 0.70617284, 0.70123457, 0.70864198, 0.71851852,\n",
      "       0.70864198, 0.70617284, 0.68148148, 0.71111111, 0.6962963 ,\n",
      "       0.70864198, 0.7037037 , 0.69382716, 0.68148148, 0.69382716,\n",
      "       0.66666667, 0.6962963 , 0.70123457, 0.70617284, 0.6617284 ,\n",
      "       0.67654321, 0.67407407, 0.6962963 , 0.62962963, 0.6691358 ,\n",
      "       0.67160494, 0.7037037 , 0.62469136, 0.67160494, 0.6691358 ,\n",
      "       0.69876543, 0.61975309, 0.66666667, 0.67407407, 0.69876543,\n",
      "       0.62222222, 0.62222222, 0.62222222, 0.62222222, 0.66419753,\n",
      "       0.66419753, 0.66419753, 0.66419753, 0.66419753, 0.66419753,\n",
      "       0.66419753, 0.6617284 , 0.6962963 , 0.70123457, 0.6962963 ,\n",
      "       0.68395062, 0.68395062, 0.69135802, 0.68641975, 0.67654321,\n",
      "       0.69876543, 0.71604938, 0.70617284, 0.6962963 , 0.69876543,\n",
      "       0.71851852, 0.70617284, 0.70123457, 0.70864198, 0.71851852,\n",
      "       0.70864198, 0.70617284, 0.68148148, 0.71111111, 0.6962963 ,\n",
      "       0.70864198, 0.7037037 , 0.69382716, 0.68148148, 0.69382716,\n",
      "       0.66666667, 0.6962963 , 0.70123457, 0.70617284, 0.6617284 ,\n",
      "       0.67654321, 0.67407407, 0.6962963 , 0.62962963, 0.6691358 ,\n",
      "       0.67160494, 0.7037037 , 0.62469136, 0.67160494, 0.6691358 ,\n",
      "       0.69876543, 0.61975309, 0.66666667, 0.67407407, 0.69876543]), 'split9_test_score': array([0.60493827, 0.60493827, 0.60493827, 0.60493827, 0.68395062,\n",
      "       0.68395062, 0.68395062, 0.68395062, 0.68395062, 0.68395062,\n",
      "       0.68395062, 0.67901235, 0.72098765, 0.71851852, 0.71851852,\n",
      "       0.71604938, 0.72098765, 0.72098765, 0.72098765, 0.71851852,\n",
      "       0.74074074, 0.7382716 , 0.7382716 , 0.73580247, 0.7308642 ,\n",
      "       0.74074074, 0.73580247, 0.72592593, 0.70864198, 0.72592593,\n",
      "       0.72345679, 0.71604938, 0.71604938, 0.7308642 , 0.72098765,\n",
      "       0.72345679, 0.68888889, 0.72345679, 0.71851852, 0.72345679,\n",
      "       0.68148148, 0.72098765, 0.71604938, 0.72345679, 0.67407407,\n",
      "       0.71111111, 0.7037037 , 0.72345679, 0.67654321, 0.71111111,\n",
      "       0.7037037 , 0.72345679, 0.67901235, 0.71111111, 0.7037037 ,\n",
      "       0.72345679, 0.67654321, 0.6962963 , 0.6962963 , 0.71604938,\n",
      "       0.60493827, 0.60493827, 0.60493827, 0.60493827, 0.68395062,\n",
      "       0.68395062, 0.68395062, 0.68395062, 0.68395062, 0.68395062,\n",
      "       0.68395062, 0.67901235, 0.72098765, 0.71851852, 0.71851852,\n",
      "       0.71604938, 0.72839506, 0.72839506, 0.72098765, 0.71851852,\n",
      "       0.74814815, 0.74814815, 0.7382716 , 0.73580247, 0.73580247,\n",
      "       0.74320988, 0.7308642 , 0.73580247, 0.72839506, 0.7382716 ,\n",
      "       0.72592593, 0.73333333, 0.7308642 , 0.74320988, 0.71851852,\n",
      "       0.72592593, 0.69382716, 0.7382716 , 0.71851852, 0.72592593,\n",
      "       0.67654321, 0.70123457, 0.70123457, 0.71358025, 0.67407407,\n",
      "       0.70617284, 0.70864198, 0.72098765, 0.67160494, 0.6962963 ,\n",
      "       0.69382716, 0.71358025, 0.65925926, 0.69876543, 0.69382716,\n",
      "       0.71358025, 0.65432099, 0.69876543, 0.68641975, 0.70617284,\n",
      "       0.60493827, 0.60493827, 0.60493827, 0.60493827, 0.68395062,\n",
      "       0.68395062, 0.68395062, 0.68395062, 0.68395062, 0.68395062,\n",
      "       0.68395062, 0.67901235, 0.72098765, 0.71851852, 0.71851852,\n",
      "       0.71604938, 0.72839506, 0.72839506, 0.72098765, 0.71851852,\n",
      "       0.74814815, 0.74814815, 0.7382716 , 0.73580247, 0.73580247,\n",
      "       0.74320988, 0.7308642 , 0.73580247, 0.72839506, 0.7382716 ,\n",
      "       0.72592593, 0.73333333, 0.7308642 , 0.74320988, 0.71851852,\n",
      "       0.72592593, 0.69382716, 0.7382716 , 0.71851852, 0.72592593,\n",
      "       0.67654321, 0.70123457, 0.70123457, 0.71358025, 0.67407407,\n",
      "       0.70617284, 0.70864198, 0.72098765, 0.67160494, 0.6962963 ,\n",
      "       0.69382716, 0.71358025, 0.65925926, 0.69876543, 0.69382716,\n",
      "       0.71358025, 0.65432099, 0.69876543, 0.68641975, 0.70617284]), 'mean_test_score': array([0.61155568, 0.61155568, 0.61155568, 0.61155568, 0.67892477,\n",
      "       0.67892477, 0.67892477, 0.67892477, 0.68805875, 0.68805875,\n",
      "       0.68805875, 0.68608344, 0.70460013, 0.70657301, 0.7065724 ,\n",
      "       0.70385635, 0.71322812, 0.71396947, 0.71397008, 0.71248921,\n",
      "       0.71421578, 0.71618987, 0.71446269, 0.71520282, 0.70804659,\n",
      "       0.71125464, 0.7102682 , 0.70854224, 0.70656997, 0.71076081,\n",
      "       0.70927629, 0.70484097, 0.69521255, 0.69891261, 0.70015022,\n",
      "       0.70212613, 0.68336739, 0.69249772, 0.69398224, 0.69916499,\n",
      "       0.6737408 , 0.69150885, 0.69249833, 0.69817552, 0.67201849,\n",
      "       0.68509822, 0.68534148, 0.69571368, 0.65868637, 0.68534574,\n",
      "       0.68706745, 0.69669768, 0.66165116, 0.685589  , 0.68608283,\n",
      "       0.69546251, 0.65350119, 0.68212978, 0.68854771, 0.69521863,\n",
      "       0.61155568, 0.61155568, 0.61155568, 0.61155568, 0.67892477,\n",
      "       0.67892477, 0.67892477, 0.67892477, 0.68386365, 0.68386365,\n",
      "       0.68386365, 0.68188834, 0.70336009, 0.70459223, 0.70459162,\n",
      "       0.70187557, 0.70977559, 0.70854224, 0.70706136, 0.7065651 ,\n",
      "       0.7127349 , 0.71421638, 0.71298182, 0.71371952, 0.70113544,\n",
      "       0.70804841, 0.71051329, 0.70854163, 0.70336253, 0.70953172,\n",
      "       0.70755397, 0.70706197, 0.69324515, 0.69941616, 0.69669951,\n",
      "       0.69916743, 0.68239312, 0.69349632, 0.69571246, 0.69867421,\n",
      "       0.67251353, 0.68806301, 0.69299276, 0.6954619 , 0.67004257,\n",
      "       0.68016542, 0.68855197, 0.69669768, 0.65844615, 0.68090616,\n",
      "       0.68608587, 0.69373837, 0.651535  , 0.67992216, 0.68633218,\n",
      "       0.69201058, 0.65498632, 0.67967403, 0.6870717 , 0.69275132,\n",
      "       0.61155568, 0.61155568, 0.61155568, 0.61155568, 0.67892477,\n",
      "       0.67892477, 0.67892477, 0.67892477, 0.68386365, 0.68386365,\n",
      "       0.68386365, 0.68188834, 0.70336009, 0.70459223, 0.70459162,\n",
      "       0.70187557, 0.70977559, 0.70854224, 0.70706136, 0.7065651 ,\n",
      "       0.7127349 , 0.71421638, 0.71298182, 0.71371952, 0.70113544,\n",
      "       0.70804841, 0.71051329, 0.70854163, 0.70336253, 0.70953172,\n",
      "       0.70755397, 0.70706197, 0.69324515, 0.69941616, 0.69669951,\n",
      "       0.69916743, 0.68239312, 0.69349632, 0.69571246, 0.69867421,\n",
      "       0.67251353, 0.68806301, 0.69299276, 0.6954619 , 0.67004257,\n",
      "       0.68016542, 0.68855197, 0.69669768, 0.65844615, 0.68090616,\n",
      "       0.68608587, 0.69373837, 0.651535  , 0.67992216, 0.68633218,\n",
      "       0.69201058, 0.65498632, 0.67967403, 0.6870717 , 0.69275132]), 'std_test_score': array([0.01838585, 0.01838585, 0.01838585, 0.01838585, 0.02390933,\n",
      "       0.02390933, 0.02390933, 0.02390933, 0.01906285, 0.01906285,\n",
      "       0.01906285, 0.02036513, 0.0223267 , 0.02095352, 0.02084588,\n",
      "       0.02082335, 0.02346292, 0.02356874, 0.02477305, 0.02573604,\n",
      "       0.02178188, 0.02218113, 0.02340609, 0.02403086, 0.02025032,\n",
      "       0.02225434, 0.01858544, 0.02315501, 0.02294107, 0.02152791,\n",
      "       0.01588995, 0.02069042, 0.01837724, 0.01556406, 0.0118455 ,\n",
      "       0.01827928, 0.01729473, 0.02121229, 0.01564818, 0.02146939,\n",
      "       0.01912239, 0.02032103, 0.01995487, 0.02215612, 0.01731106,\n",
      "       0.02755009, 0.01830115, 0.02114889, 0.02034084, 0.02721053,\n",
      "       0.01915971, 0.02292228, 0.02123303, 0.0287359 , 0.02052974,\n",
      "       0.02345848, 0.02100708, 0.02758367, 0.01503126, 0.02174609,\n",
      "       0.01838585, 0.01838585, 0.01838585, 0.01838585, 0.02390933,\n",
      "       0.02390933, 0.02390933, 0.02390933, 0.02042626, 0.02042626,\n",
      "       0.02042626, 0.02056068, 0.02043606, 0.01934037, 0.02086475,\n",
      "       0.02173504, 0.02400154, 0.02422524, 0.02615424, 0.02580119,\n",
      "       0.0261916 , 0.02483357, 0.0263473 , 0.02685877, 0.02791487,\n",
      "       0.02486637, 0.02079925, 0.02429175, 0.02970237, 0.02746353,\n",
      "       0.01940085, 0.02320831, 0.0281677 , 0.02556457, 0.01683519,\n",
      "       0.01876332, 0.02268057, 0.02559567, 0.01749489, 0.02078529,\n",
      "       0.02668603, 0.02450913, 0.01930275, 0.01900341, 0.02634459,\n",
      "       0.02640385, 0.01862879, 0.02001568, 0.02692793, 0.02658439,\n",
      "       0.01724234, 0.02049759, 0.03055768, 0.02958373, 0.01846747,\n",
      "       0.02051371, 0.02587433, 0.03428986, 0.01479151, 0.01792041,\n",
      "       0.01838585, 0.01838585, 0.01838585, 0.01838585, 0.02390933,\n",
      "       0.02390933, 0.02390933, 0.02390933, 0.02042626, 0.02042626,\n",
      "       0.02042626, 0.02056068, 0.02043606, 0.01934037, 0.02086475,\n",
      "       0.02173504, 0.02400154, 0.02422524, 0.02615424, 0.02580119,\n",
      "       0.0261916 , 0.02483357, 0.0263473 , 0.02685877, 0.02791487,\n",
      "       0.02486637, 0.02079925, 0.02429175, 0.02970237, 0.02746353,\n",
      "       0.01940085, 0.02320831, 0.0281677 , 0.02556457, 0.01683519,\n",
      "       0.01876332, 0.02268057, 0.02559567, 0.01749489, 0.02078529,\n",
      "       0.02668603, 0.02450913, 0.01930275, 0.01900341, 0.02634459,\n",
      "       0.02640385, 0.01862879, 0.02001568, 0.02692793, 0.02658439,\n",
      "       0.01724234, 0.02049759, 0.03055768, 0.02958373, 0.01846747,\n",
      "       0.02051371, 0.02587433, 0.03428986, 0.01479151, 0.01792041]), 'rank_test_score': array([169, 169, 169, 169, 142, 142, 142, 142, 106, 106, 106, 116,  47,\n",
      "        41,  42,  52,  11,   8,   7,  16,   6,   1,   3,   2,  34,  17,\n",
      "        21,  27,  43,  18,  26,  46,  84,  68,  62,  57, 128,  97,  85,\n",
      "        67, 154, 100,  96,  71, 157, 121, 120,  77, 161, 119, 111,  74,\n",
      "       160, 118, 117,  80, 166, 131, 103,  83, 169, 169, 169, 169, 142,\n",
      "       142, 142, 142, 122, 122, 122, 132,  55,  48,  50,  58,  22,  28,\n",
      "        39,  44,  14,   4,  12,   9,  60,  32,  19,  30,  53,  24,  35,\n",
      "        37,  90,  63,  72,  65, 129,  88,  78,  69, 155, 104,  92,  81,\n",
      "       158, 136, 101,  75, 162, 134, 114,  86, 167, 138, 112,  98, 164,\n",
      "       140, 109,  94, 169, 169, 169, 169, 142, 142, 142, 142, 122, 122,\n",
      "       122, 132,  55,  48,  50,  58,  22,  28,  39,  44,  14,   4,  12,\n",
      "         9,  60,  32,  19,  30,  53,  24,  35,  37,  90,  63,  72,  65,\n",
      "       129,  88,  78,  69, 155, 104,  92,  81, 158, 136, 101,  75, 162,\n",
      "       134, 114,  86, 167, 138, 112,  98, 164, 140, 109,  94]), 'split0_train_score': array([0.61327482, 0.61327482, 0.61327482, 0.61327482, 0.67772902,\n",
      "       0.67772902, 0.67772902, 0.67772902, 0.69775096, 0.69775096,\n",
      "       0.69775096, 0.69692814, 0.70597916, 0.70515634, 0.70405924,\n",
      "       0.70323642, 0.72929238, 0.72737246, 0.72462973, 0.72024136,\n",
      "       0.74602304, 0.74355458, 0.73834339, 0.73587493, 0.75891388,\n",
      "       0.75123423, 0.74547449, 0.7402633 , 0.77043335, 0.76001097,\n",
      "       0.75178278, 0.74465167, 0.77783873, 0.76467361, 0.75370269,\n",
      "       0.74492595, 0.78387274, 0.76796489, 0.75644542, 0.74821722,\n",
      "       0.79594076, 0.77537027, 0.7597367 , 0.74986286, 0.80746023,\n",
      "       0.78442128, 0.76522216, 0.75507405, 0.81733406, 0.7893582 ,\n",
      "       0.77070762, 0.75946242, 0.82611081, 0.79539221, 0.77317608,\n",
      "       0.76055952, 0.83653319, 0.79731212, 0.77427318, 0.76083379,\n",
      "       0.61327482, 0.61327482, 0.61327482, 0.61327482, 0.67772902,\n",
      "       0.67772902, 0.67772902, 0.67772902, 0.67910038, 0.67910038,\n",
      "       0.67910038, 0.67772902, 0.70981898, 0.70899616, 0.70789907,\n",
      "       0.70597916, 0.73148656, 0.73011519, 0.72737246, 0.721887  ,\n",
      "       0.74410313, 0.74218321, 0.73752057, 0.73395502, 0.75507405,\n",
      "       0.74904004, 0.74273176, 0.7372463 , 0.77015908, 0.76193088,\n",
      "       0.75068568, 0.74108612, 0.77674163, 0.76659353, 0.75178278,\n",
      "       0.74355458, 0.78606692, 0.77235326, 0.75699397, 0.74684586,\n",
      "       0.79511794, 0.77893582, 0.75863961, 0.7484915 , 0.80691168,\n",
      "       0.78387274, 0.7627537 , 0.75315414, 0.81376851, 0.78688974,\n",
      "       0.76604498, 0.75589687, 0.82172244, 0.79264948, 0.77125617,\n",
      "       0.7597367 , 0.82885354, 0.7964893 , 0.77207899, 0.7597367 ,\n",
      "       0.61327482, 0.61327482, 0.61327482, 0.61327482, 0.67772902,\n",
      "       0.67772902, 0.67772902, 0.67772902, 0.67910038, 0.67910038,\n",
      "       0.67910038, 0.67772902, 0.70981898, 0.70899616, 0.70789907,\n",
      "       0.70597916, 0.73148656, 0.73011519, 0.72737246, 0.721887  ,\n",
      "       0.74410313, 0.74218321, 0.73752057, 0.73395502, 0.75507405,\n",
      "       0.74904004, 0.74273176, 0.7372463 , 0.77015908, 0.76193088,\n",
      "       0.75068568, 0.74108612, 0.77674163, 0.76659353, 0.75178278,\n",
      "       0.74355458, 0.78606692, 0.77235326, 0.75699397, 0.74684586,\n",
      "       0.79511794, 0.77893582, 0.75863961, 0.7484915 , 0.80691168,\n",
      "       0.78387274, 0.7627537 , 0.75315414, 0.81376851, 0.78688974,\n",
      "       0.76604498, 0.75589687, 0.82172244, 0.79264948, 0.77125617,\n",
      "       0.7597367 , 0.82885354, 0.7964893 , 0.77207899, 0.7597367 ]), 'split1_train_score': array([0.612452  , 0.612452  , 0.612452  , 0.612452  , 0.68047175,\n",
      "       0.68047175, 0.68047175, 0.68047175, 0.70186506, 0.70186506,\n",
      "       0.70186506, 0.70049369, 0.71886999, 0.71969281, 0.71969281,\n",
      "       0.7177729 , 0.73642348, 0.7372463 , 0.7372463 , 0.73532639,\n",
      "       0.74876577, 0.74657159, 0.74382885, 0.74053758, 0.76302798,\n",
      "       0.75589687, 0.75370269, 0.74904004, 0.77537027, 0.76330225,\n",
      "       0.7556226 , 0.75068568, 0.78387274, 0.76659353, 0.75781679,\n",
      "       0.75068568, 0.79456939, 0.77125617, 0.76055952, 0.75342841,\n",
      "       0.8088316 , 0.77921009, 0.76577071, 0.75781679, 0.81870543,\n",
      "       0.78496983, 0.76906199, 0.76028524, 0.82940208, 0.78908393,\n",
      "       0.77070762, 0.76193088, 0.83379046, 0.79292375, 0.77290181,\n",
      "       0.76357652, 0.83790455, 0.79402084, 0.77290181, 0.76357652,\n",
      "       0.612452  , 0.612452  , 0.612452  , 0.612452  , 0.68047175,\n",
      "       0.68047175, 0.68047175, 0.68047175, 0.70186506, 0.70186506,\n",
      "       0.70186506, 0.70049369, 0.71749863, 0.71832145, 0.71832145,\n",
      "       0.7177729 , 0.7361492 , 0.7361492 , 0.7361492 , 0.73395502,\n",
      "       0.74547449, 0.74273176, 0.74218321, 0.73889194, 0.75287987,\n",
      "       0.74904004, 0.74766868, 0.74190894, 0.77180472, 0.75836533,\n",
      "       0.75233132, 0.74766868, 0.78113001, 0.76631925, 0.75699397,\n",
      "       0.74876577, 0.79621503, 0.77893582, 0.76604498, 0.75479978,\n",
      "       0.81075151, 0.78414701, 0.76851344, 0.75699397, 0.82254526,\n",
      "       0.78990675, 0.77262754, 0.7597367 , 0.8302249 , 0.79511794,\n",
      "       0.77207899, 0.7597367 , 0.83708173, 0.79539221, 0.77317608,\n",
      "       0.76110806, 0.84174438, 0.79786067, 0.77427318, 0.76110806,\n",
      "       0.612452  , 0.612452  , 0.612452  , 0.612452  , 0.68047175,\n",
      "       0.68047175, 0.68047175, 0.68047175, 0.70186506, 0.70186506,\n",
      "       0.70186506, 0.70049369, 0.71749863, 0.71832145, 0.71832145,\n",
      "       0.7177729 , 0.7361492 , 0.7361492 , 0.7361492 , 0.73395502,\n",
      "       0.74547449, 0.74273176, 0.74218321, 0.73889194, 0.75287987,\n",
      "       0.74904004, 0.74766868, 0.74190894, 0.77180472, 0.75836533,\n",
      "       0.75233132, 0.74766868, 0.78113001, 0.76631925, 0.75699397,\n",
      "       0.74876577, 0.79621503, 0.77893582, 0.76604498, 0.75479978,\n",
      "       0.81075151, 0.78414701, 0.76851344, 0.75699397, 0.82254526,\n",
      "       0.78990675, 0.77262754, 0.7597367 , 0.8302249 , 0.79511794,\n",
      "       0.77207899, 0.7597367 , 0.83708173, 0.79539221, 0.77317608,\n",
      "       0.76110806, 0.84174438, 0.79786067, 0.77427318, 0.76110806]), 'split2_train_score': array([0.60926789, 0.60926789, 0.60926789, 0.60926789, 0.67397861,\n",
      "       0.67397861, 0.67397861, 0.67397861, 0.69289827, 0.69289827,\n",
      "       0.69289827, 0.69289827, 0.71428571, 0.71428571, 0.71428571,\n",
      "       0.71236633, 0.73649575, 0.73485056, 0.73402797, 0.7293666 ,\n",
      "       0.74143131, 0.73676995, 0.73567316, 0.73265698, 0.75294763,\n",
      "       0.74499589, 0.74088292, 0.73594735, 0.76885111, 0.7565122 ,\n",
      "       0.75047985, 0.74115712, 0.78036743, 0.76446394, 0.75568961,\n",
      "       0.74554428, 0.79160954, 0.77241568, 0.75980258, 0.74828626,\n",
      "       0.80175487, 0.77680285, 0.76172196, 0.74938305, 0.81381958,\n",
      "       0.78064162, 0.76446394, 0.75239923, 0.82231971, 0.7833836 ,\n",
      "       0.76638333, 0.75377022, 0.83027146, 0.78804497, 0.76830271,\n",
      "       0.75568961, 0.83877159, 0.78941596, 0.7696737 , 0.7570606 ,\n",
      "       0.60926789, 0.60926789, 0.60926789, 0.60926789, 0.67397861,\n",
      "       0.67397861, 0.67397861, 0.67397861, 0.69289827, 0.69289827,\n",
      "       0.69289827, 0.69289827, 0.71401152, 0.71428571, 0.71428571,\n",
      "       0.71236633, 0.73594735, 0.73485056, 0.73402797, 0.7293666 ,\n",
      "       0.74088292, 0.73676995, 0.73567316, 0.73265698, 0.75431862,\n",
      "       0.74527009, 0.74143131, 0.73594735, 0.76418974, 0.7567864 ,\n",
      "       0.75102824, 0.74115712, 0.77406087, 0.76227036, 0.75596381,\n",
      "       0.74554428, 0.78694818, 0.7699479 , 0.76035097, 0.74828626,\n",
      "       0.80175487, 0.77680285, 0.76227036, 0.74938305, 0.81299698,\n",
      "       0.78119002, 0.76501234, 0.75239923, 0.81985193, 0.78256101,\n",
      "       0.76775432, 0.75239923, 0.83136825, 0.78749657, 0.7696737 ,\n",
      "       0.75541541, 0.8384974 , 0.78886756, 0.77104469, 0.756238  ,\n",
      "       0.60926789, 0.60926789, 0.60926789, 0.60926789, 0.67397861,\n",
      "       0.67397861, 0.67397861, 0.67397861, 0.69289827, 0.69289827,\n",
      "       0.69289827, 0.69289827, 0.71401152, 0.71428571, 0.71428571,\n",
      "       0.71236633, 0.73594735, 0.73485056, 0.73402797, 0.7293666 ,\n",
      "       0.74088292, 0.73676995, 0.73567316, 0.73265698, 0.75431862,\n",
      "       0.74527009, 0.74143131, 0.73594735, 0.76418974, 0.7567864 ,\n",
      "       0.75102824, 0.74115712, 0.77406087, 0.76227036, 0.75596381,\n",
      "       0.74554428, 0.78694818, 0.7699479 , 0.76035097, 0.74828626,\n",
      "       0.80175487, 0.77680285, 0.76227036, 0.74938305, 0.81299698,\n",
      "       0.78119002, 0.76501234, 0.75239923, 0.81985193, 0.78256101,\n",
      "       0.76775432, 0.75239923, 0.83136825, 0.78749657, 0.7696737 ,\n",
      "       0.75541541, 0.8384974 , 0.78886756, 0.77104469, 0.756238  ]), 'split3_train_score': array([0.6076227 , 0.6076227 , 0.6076227 , 0.6076227 , 0.67644639,\n",
      "       0.67644639, 0.67644639, 0.67644639, 0.69755964, 0.69755964,\n",
      "       0.69755964, 0.69646285, 0.72415684, 0.72360845, 0.72306005,\n",
      "       0.72086647, 0.73485056, 0.73430217, 0.73402797, 0.73183438,\n",
      "       0.7430765 , 0.74088292, 0.73951193, 0.73731834, 0.75514121,\n",
      "       0.74828626, 0.74581848, 0.74225391, 0.76939951, 0.75952838,\n",
      "       0.75322183, 0.74773787, 0.77899644, 0.76391555, 0.75568961,\n",
      "       0.74773787, 0.78585138, 0.76748012, 0.76062517, 0.75157664,\n",
      "       0.79819029, 0.7696737 , 0.76610913, 0.756238  , 0.80833562,\n",
      "       0.77323828, 0.76885111, 0.75788319, 0.82040033, 0.78119002,\n",
      "       0.77296408, 0.76144777, 0.83164245, 0.78667398, 0.77351248,\n",
      "       0.76254456, 0.83520702, 0.78969016, 0.77625446, 0.76336715,\n",
      "       0.6076227 , 0.6076227 , 0.6076227 , 0.6076227 , 0.67644639,\n",
      "       0.67644639, 0.67644639, 0.67644639, 0.67809158, 0.67809158,\n",
      "       0.67809158, 0.67726899, 0.70962435, 0.70962435, 0.70715657,\n",
      "       0.70633397, 0.72607623, 0.72443104, 0.72114066, 0.71894708,\n",
      "       0.74225391, 0.73951193, 0.73594735, 0.73375377, 0.75157664,\n",
      "       0.74636688, 0.74170551, 0.73786674, 0.76748012, 0.75952838,\n",
      "       0.75185084, 0.7438991 , 0.78009323, 0.76309295, 0.75404442,\n",
      "       0.7438991 , 0.78777077, 0.76665753, 0.75870579, 0.74773787,\n",
      "       0.79819029, 0.76912531, 0.76336715, 0.75239923, 0.80641623,\n",
      "       0.77433507, 0.76610913, 0.75404442, 0.81601316, 0.7842062 ,\n",
      "       0.7702221 , 0.75760899, 0.82752948, 0.79051275, 0.7707705 ,\n",
      "       0.75870579, 0.83411023, 0.79325473, 0.77351248, 0.75952838,\n",
      "       0.6076227 , 0.6076227 , 0.6076227 , 0.6076227 , 0.67644639,\n",
      "       0.67644639, 0.67644639, 0.67644639, 0.67809158, 0.67809158,\n",
      "       0.67809158, 0.67726899, 0.70962435, 0.70962435, 0.70715657,\n",
      "       0.70633397, 0.72607623, 0.72443104, 0.72114066, 0.71894708,\n",
      "       0.74225391, 0.73951193, 0.73594735, 0.73375377, 0.75157664,\n",
      "       0.74636688, 0.74170551, 0.73786674, 0.76748012, 0.75952838,\n",
      "       0.75185084, 0.7438991 , 0.78009323, 0.76309295, 0.75404442,\n",
      "       0.7438991 , 0.78777077, 0.76665753, 0.75870579, 0.74773787,\n",
      "       0.79819029, 0.76912531, 0.76336715, 0.75239923, 0.80641623,\n",
      "       0.77433507, 0.76610913, 0.75404442, 0.81601316, 0.7842062 ,\n",
      "       0.7702221 , 0.75760899, 0.82752948, 0.79051275, 0.7707705 ,\n",
      "       0.75870579, 0.83411023, 0.79325473, 0.77351248, 0.75952838]), 'split4_train_score': array([0.61200987, 0.61200987, 0.61200987, 0.61200987, 0.67891418,\n",
      "       0.67891418, 0.67891418, 0.67891418, 0.69920483, 0.69947902,\n",
      "       0.69947902, 0.69865643, 0.71976967, 0.71922128, 0.71922128,\n",
      "       0.7167535 , 0.74252811, 0.74033452, 0.73923773, 0.73594735,\n",
      "       0.75047985, 0.74746367, 0.74499589, 0.74033452, 0.76309295,\n",
      "       0.75541541, 0.75322183, 0.74554428, 0.77460927, 0.76446394,\n",
      "       0.75952838, 0.74883466, 0.78722237, 0.7704963 , 0.76117357,\n",
      "       0.74883466, 0.79846449, 0.77598026, 0.76391555, 0.75075404,\n",
      "       0.80943241, 0.78036743, 0.76748012, 0.75404442, 0.81738415,\n",
      "       0.7833836 , 0.77406087, 0.75870579, 0.8236907 , 0.78914176,\n",
      "       0.77598026, 0.76117357, 0.82917466, 0.79078695, 0.77762545,\n",
      "       0.76281876, 0.83493282, 0.79243214, 0.78009323, 0.76473814,\n",
      "       0.61200987, 0.61200987, 0.61200987, 0.61200987, 0.67891418,\n",
      "       0.67891418, 0.67891418, 0.67891418, 0.69920483, 0.69947902,\n",
      "       0.69947902, 0.69865643, 0.71976967, 0.71922128, 0.71922128,\n",
      "       0.7167535 , 0.74006032, 0.73978613, 0.73868933, 0.73594735,\n",
      "       0.74691527, 0.74554428, 0.74444749, 0.74033452, 0.75870579,\n",
      "       0.75239923, 0.75157664, 0.74554428, 0.77104469, 0.76281876,\n",
      "       0.75897998, 0.74883466, 0.78173842, 0.76912531, 0.75952838,\n",
      "       0.74883466, 0.79106115, 0.77186729, 0.75980258, 0.74883466,\n",
      "       0.80340005, 0.77899644, 0.76528654, 0.75431862, 0.81327118,\n",
      "       0.7831094 , 0.77214149, 0.75897998, 0.82341651, 0.78694818,\n",
      "       0.77406087, 0.76144777, 0.82972306, 0.78996435, 0.77488347,\n",
      "       0.76309295, 0.83520702, 0.79188374, 0.77735125, 0.76501234,\n",
      "       0.61200987, 0.61200987, 0.61200987, 0.61200987, 0.67891418,\n",
      "       0.67891418, 0.67891418, 0.67891418, 0.69920483, 0.69947902,\n",
      "       0.69947902, 0.69865643, 0.71976967, 0.71922128, 0.71922128,\n",
      "       0.7167535 , 0.74006032, 0.73978613, 0.73868933, 0.73594735,\n",
      "       0.74691527, 0.74554428, 0.74444749, 0.74033452, 0.75870579,\n",
      "       0.75239923, 0.75157664, 0.74554428, 0.77104469, 0.76281876,\n",
      "       0.75897998, 0.74883466, 0.78173842, 0.76912531, 0.75952838,\n",
      "       0.74883466, 0.79106115, 0.77186729, 0.75980258, 0.74883466,\n",
      "       0.80340005, 0.77899644, 0.76528654, 0.75431862, 0.81327118,\n",
      "       0.7831094 , 0.77214149, 0.75897998, 0.82341651, 0.78694818,\n",
      "       0.77406087, 0.76144777, 0.82972306, 0.78996435, 0.77488347,\n",
      "       0.76309295, 0.83520702, 0.79188374, 0.77735125, 0.76501234]), 'split5_train_score': array([0.61365506, 0.61365506, 0.61365506, 0.61365506, 0.67891418,\n",
      "       0.67891418, 0.67891418, 0.67891418, 0.69755964, 0.69755964,\n",
      "       0.69755964, 0.69618865, 0.72278585, 0.72278585, 0.72168906,\n",
      "       0.72059227, 0.73676995, 0.73512476, 0.73512476, 0.73375377,\n",
      "       0.75020565, 0.74664107, 0.74664107, 0.7433507 , 0.7565122 ,\n",
      "       0.75459282, 0.75075404, 0.74527009, 0.76665753, 0.76227036,\n",
      "       0.75514121, 0.74636688, 0.77954483, 0.76939951, 0.75541541,\n",
      "       0.74636688, 0.78722237, 0.77241568, 0.75596381, 0.74691527,\n",
      "       0.79928709, 0.77981903, 0.76281876, 0.75239923, 0.8108034 ,\n",
      "       0.78694818, 0.76665753, 0.756238  , 0.82122292, 0.78969016,\n",
      "       0.76857691, 0.75815739, 0.82752948, 0.79270633, 0.7699479 ,\n",
      "       0.75980258, 0.83438443, 0.79489992, 0.77214149, 0.75980258,\n",
      "       0.61365506, 0.61365506, 0.61365506, 0.61365506, 0.67891418,\n",
      "       0.67891418, 0.67891418, 0.67891418, 0.69755964, 0.69755964,\n",
      "       0.69755964, 0.69618865, 0.72278585, 0.72278585, 0.72168906,\n",
      "       0.72059227, 0.73594735, 0.73485056, 0.73539896, 0.73539896,\n",
      "       0.74801206, 0.74691527, 0.74691527, 0.74499589, 0.75568961,\n",
      "       0.75404442, 0.75047985, 0.74746367, 0.76556073, 0.76035097,\n",
      "       0.75431862, 0.74773787, 0.77899644, 0.76583493, 0.75541541,\n",
      "       0.74773787, 0.78694818, 0.7704963 , 0.756238  , 0.74856046,\n",
      "       0.80367425, 0.78064162, 0.76391555, 0.75404442, 0.81354538,\n",
      "       0.78749657, 0.76802852, 0.75788319, 0.82149712, 0.78941596,\n",
      "       0.7699479 , 0.75980258, 0.83027146, 0.79325473, 0.77131889,\n",
      "       0.76144777, 0.83520702, 0.79627091, 0.77351248, 0.76144777,\n",
      "       0.61365506, 0.61365506, 0.61365506, 0.61365506, 0.67891418,\n",
      "       0.67891418, 0.67891418, 0.67891418, 0.69755964, 0.69755964,\n",
      "       0.69755964, 0.69618865, 0.72278585, 0.72278585, 0.72168906,\n",
      "       0.72059227, 0.73594735, 0.73485056, 0.73539896, 0.73539896,\n",
      "       0.74801206, 0.74691527, 0.74691527, 0.74499589, 0.75568961,\n",
      "       0.75404442, 0.75047985, 0.74746367, 0.76556073, 0.76035097,\n",
      "       0.75431862, 0.74773787, 0.77899644, 0.76583493, 0.75541541,\n",
      "       0.74773787, 0.78694818, 0.7704963 , 0.756238  , 0.74856046,\n",
      "       0.80367425, 0.78064162, 0.76391555, 0.75404442, 0.81354538,\n",
      "       0.78749657, 0.76802852, 0.75788319, 0.82149712, 0.78941596,\n",
      "       0.7699479 , 0.75980258, 0.83027146, 0.79325473, 0.77131889,\n",
      "       0.76144777, 0.83520702, 0.79627091, 0.77351248, 0.76144777]), 'split6_train_score': array([0.61009049, 0.61009049, 0.61009049, 0.61009049, 0.67918837,\n",
      "       0.67918837, 0.67918837, 0.67918837, 0.70030162, 0.70030162,\n",
      "       0.70030162, 0.69947902, 0.72306005, 0.72306005, 0.72251165,\n",
      "       0.72059227, 0.7438991 , 0.7433507 , 0.74252811, 0.73841514,\n",
      "       0.75294763, 0.75130244, 0.74773787, 0.74252811, 0.76857691,\n",
      "       0.76254456, 0.75760899, 0.74828626, 0.78146422, 0.76912531,\n",
      "       0.76254456, 0.74993145, 0.78585138, 0.77241568, 0.76281876,\n",
      "       0.74993145, 0.79352893, 0.77406087, 0.76391555, 0.74993145,\n",
      "       0.79983548, 0.77680285, 0.76556073, 0.74993145, 0.80641623,\n",
      "       0.77844804, 0.76720592, 0.75239923, 0.8110776 , 0.7833836 ,\n",
      "       0.77214149, 0.75568961, 0.81519057, 0.78694818, 0.77296408,\n",
      "       0.75788319, 0.81957774, 0.79078695, 0.77735125, 0.76144777,\n",
      "       0.61009049, 0.61009049, 0.61009049, 0.61009049, 0.67918837,\n",
      "       0.67918837, 0.67918837, 0.67918837, 0.70030162, 0.70030162,\n",
      "       0.70030162, 0.69947902, 0.72141486, 0.72141486, 0.72141486,\n",
      "       0.72059227, 0.74115712, 0.74060872, 0.73868933, 0.73704415,\n",
      "       0.74910886, 0.74938305, 0.74554428, 0.74088292, 0.76391555,\n",
      "       0.75843159, 0.75486701, 0.74581848, 0.77735125, 0.76583493,\n",
      "       0.75980258, 0.74883466, 0.78256101, 0.7699479 , 0.76117357,\n",
      "       0.74883466, 0.79435152, 0.77406087, 0.76172196, 0.74883466,\n",
      "       0.79983548, 0.77680285, 0.76473814, 0.74883466, 0.80778722,\n",
      "       0.77844804, 0.76638333, 0.75130244, 0.81354538, 0.78448039,\n",
      "       0.77131889, 0.75459282, 0.81656156, 0.78722237, 0.77296408,\n",
      "       0.7567864 , 0.8239649 , 0.79106115, 0.77570606, 0.76035097,\n",
      "       0.61009049, 0.61009049, 0.61009049, 0.61009049, 0.67918837,\n",
      "       0.67918837, 0.67918837, 0.67918837, 0.70030162, 0.70030162,\n",
      "       0.70030162, 0.69947902, 0.72141486, 0.72141486, 0.72141486,\n",
      "       0.72059227, 0.74115712, 0.74060872, 0.73868933, 0.73704415,\n",
      "       0.74910886, 0.74938305, 0.74554428, 0.74088292, 0.76391555,\n",
      "       0.75843159, 0.75486701, 0.74581848, 0.77735125, 0.76583493,\n",
      "       0.75980258, 0.74883466, 0.78256101, 0.7699479 , 0.76117357,\n",
      "       0.74883466, 0.79435152, 0.77406087, 0.76172196, 0.74883466,\n",
      "       0.79983548, 0.77680285, 0.76473814, 0.74883466, 0.80778722,\n",
      "       0.77844804, 0.76638333, 0.75130244, 0.81354538, 0.78448039,\n",
      "       0.77131889, 0.75459282, 0.81656156, 0.78722237, 0.77296408,\n",
      "       0.7567864 , 0.8239649 , 0.79106115, 0.77570606, 0.76035097]), 'split7_train_score': array([0.61447765, 0.61447765, 0.61447765, 0.61447765, 0.68467233,\n",
      "       0.68467233, 0.68467233, 0.68467233, 0.7024952 , 0.7024952 ,\n",
      "       0.7024952 , 0.70167261, 0.72251165, 0.72196326, 0.72196326,\n",
      "       0.72114066, 0.74636688, 0.74554428, 0.7430765 , 0.73896353,\n",
      "       0.75568961, 0.75294763, 0.74910886, 0.74527009, 0.76748012,\n",
      "       0.76117357, 0.75239923, 0.74938305, 0.78036743, 0.76473814,\n",
      "       0.75788319, 0.75157664, 0.78530299, 0.76885111, 0.76007678,\n",
      "       0.75212503, 0.79133534, 0.77131889, 0.76117357, 0.75267343,\n",
      "       0.80230326, 0.77927063, 0.76610913, 0.756238  , 0.8105292 ,\n",
      "       0.78585138, 0.77214149, 0.76117357, 0.82149712, 0.78859336,\n",
      "       0.77460927, 0.76254456, 0.82835207, 0.79133534, 0.77652865,\n",
      "       0.76309295, 0.83465862, 0.79435152, 0.77844804, 0.76309295,\n",
      "       0.61447765, 0.61447765, 0.61447765, 0.61447765, 0.68467233,\n",
      "       0.68467233, 0.68467233, 0.68467233, 0.70167261, 0.70167261,\n",
      "       0.70167261, 0.70167261, 0.72223746, 0.72223746, 0.72114066,\n",
      "       0.72114066, 0.74252811, 0.7428023 , 0.74143131, 0.73923773,\n",
      "       0.74938305, 0.74883466, 0.7436249 , 0.7430765 , 0.76089937,\n",
      "       0.7567864 , 0.74527009, 0.74527009, 0.77378667, 0.76446394,\n",
      "       0.75486701, 0.75267343, 0.78228681, 0.76830271, 0.7570606 ,\n",
      "       0.75377022, 0.79462572, 0.77762545, 0.76309295, 0.756238  ,\n",
      "       0.80833562, 0.78502879, 0.76775432, 0.76035097, 0.81930354,\n",
      "       0.78777077, 0.7699479 , 0.76199616, 0.82698108, 0.79270633,\n",
      "       0.77323828, 0.76473814, 0.83548122, 0.79572251, 0.77543186,\n",
      "       0.76473814, 0.84398135, 0.79983548, 0.77543186, 0.76473814,\n",
      "       0.61447765, 0.61447765, 0.61447765, 0.61447765, 0.68467233,\n",
      "       0.68467233, 0.68467233, 0.68467233, 0.70167261, 0.70167261,\n",
      "       0.70167261, 0.70167261, 0.72223746, 0.72223746, 0.72114066,\n",
      "       0.72114066, 0.74252811, 0.7428023 , 0.74143131, 0.73923773,\n",
      "       0.74938305, 0.74883466, 0.7436249 , 0.7430765 , 0.76089937,\n",
      "       0.7567864 , 0.74527009, 0.74527009, 0.77378667, 0.76446394,\n",
      "       0.75486701, 0.75267343, 0.78228681, 0.76830271, 0.7570606 ,\n",
      "       0.75377022, 0.79462572, 0.77762545, 0.76309295, 0.756238  ,\n",
      "       0.80833562, 0.78502879, 0.76775432, 0.76035097, 0.81930354,\n",
      "       0.78777077, 0.7699479 , 0.76199616, 0.82698108, 0.79270633,\n",
      "       0.77323828, 0.76473814, 0.83548122, 0.79572251, 0.77543186,\n",
      "       0.76473814, 0.84398135, 0.79983548, 0.77543186, 0.76473814]), 'split8_train_score': array([0.61036468, 0.61036468, 0.61036468, 0.61036468, 0.68055936,\n",
      "       0.68055936, 0.68055936, 0.68055936, 0.70030162, 0.70030162,\n",
      "       0.70030162, 0.69920483, 0.71785029, 0.71757609, 0.71702769,\n",
      "       0.71510831, 0.73923773, 0.73649575, 0.73594735, 0.73265698,\n",
      "       0.74801206, 0.7438991 , 0.7428023 , 0.73759254, 0.75760899,\n",
      "       0.74773787, 0.74554428, 0.73841514, 0.77104469, 0.75294763,\n",
      "       0.75130244, 0.7430765 , 0.78009323, 0.75843159, 0.75294763,\n",
      "       0.7433507 , 0.79051275, 0.76281876, 0.75431862, 0.74472169,\n",
      "       0.79956128, 0.76857691, 0.76007678, 0.74910886, 0.80504524,\n",
      "       0.77598026, 0.76556073, 0.75130244, 0.81848094, 0.77927063,\n",
      "       0.76720592, 0.75267343, 0.8245133 , 0.78557719, 0.76912531,\n",
      "       0.75541541, 0.82944886, 0.78530299, 0.7707705 , 0.75541541,\n",
      "       0.61036468, 0.61036468, 0.61036468, 0.61036468, 0.68055936,\n",
      "       0.68055936, 0.68055936, 0.68055936, 0.68330134, 0.68330134,\n",
      "       0.68330134, 0.68220455, 0.70935015, 0.70907595, 0.70825336,\n",
      "       0.70578558, 0.72689882, 0.72552783, 0.72470524, 0.72196326,\n",
      "       0.7430765 , 0.7430765 , 0.74033452, 0.73622155, 0.75541541,\n",
      "       0.74746367, 0.74417329, 0.73759254, 0.76885111, 0.7567864 ,\n",
      "       0.75185084, 0.7438991 , 0.78091582, 0.76254456, 0.75294763,\n",
      "       0.74417329, 0.78886756, 0.76446394, 0.75431862, 0.74554428,\n",
      "       0.79846449, 0.7696737 , 0.75897998, 0.74993145, 0.80586784,\n",
      "       0.77817384, 0.76473814, 0.75212503, 0.81710995, 0.78256101,\n",
      "       0.76693172, 0.75349602, 0.82506169, 0.78804497, 0.76885111,\n",
      "       0.756238  , 0.83273924, 0.78941596, 0.7704963 , 0.756238  ,\n",
      "       0.61036468, 0.61036468, 0.61036468, 0.61036468, 0.68055936,\n",
      "       0.68055936, 0.68055936, 0.68055936, 0.68330134, 0.68330134,\n",
      "       0.68330134, 0.68220455, 0.70935015, 0.70907595, 0.70825336,\n",
      "       0.70578558, 0.72689882, 0.72552783, 0.72470524, 0.72196326,\n",
      "       0.7430765 , 0.7430765 , 0.74033452, 0.73622155, 0.75541541,\n",
      "       0.74746367, 0.74417329, 0.73759254, 0.76885111, 0.7567864 ,\n",
      "       0.75185084, 0.7438991 , 0.78091582, 0.76254456, 0.75294763,\n",
      "       0.74417329, 0.78886756, 0.76446394, 0.75431862, 0.74554428,\n",
      "       0.79846449, 0.7696737 , 0.75897998, 0.74993145, 0.80586784,\n",
      "       0.77817384, 0.76473814, 0.75212503, 0.81710995, 0.78256101,\n",
      "       0.76693172, 0.75349602, 0.82506169, 0.78804497, 0.76885111,\n",
      "       0.756238  , 0.83273924, 0.78941596, 0.7704963 , 0.756238  ]), 'split9_train_score': array([0.61228407, 0.61228407, 0.61228407, 0.61228407, 0.67836578,\n",
      "       0.67836578, 0.67836578, 0.67836578, 0.67973677, 0.67973677,\n",
      "       0.67973677, 0.67946257, 0.71154373, 0.71126954, 0.71126954,\n",
      "       0.70825336, 0.73539896, 0.73265698, 0.7290924 , 0.72470524,\n",
      "       0.74993145, 0.74527009, 0.74170551, 0.73457636, 0.76089937,\n",
      "       0.75294763, 0.74910886, 0.74472169, 0.7707705 , 0.76007678,\n",
      "       0.75294763, 0.74773787, 0.78119002, 0.76775432, 0.76309295,\n",
      "       0.75075404, 0.79462572, 0.77625446, 0.76528654, 0.75102824,\n",
      "       0.80394845, 0.77899644, 0.76528654, 0.75102824, 0.81217439,\n",
      "       0.7833836 , 0.76802852, 0.75322183, 0.81985193, 0.78667398,\n",
      "       0.7704963 , 0.75568961, 0.82149712, 0.78694818, 0.7704963 ,\n",
      "       0.75568961, 0.8239649 , 0.78941596, 0.77351248, 0.75870579,\n",
      "       0.61228407, 0.61228407, 0.61228407, 0.61228407, 0.67836578,\n",
      "       0.67836578, 0.67836578, 0.67836578, 0.67973677, 0.67973677,\n",
      "       0.67973677, 0.67946257, 0.71154373, 0.71126954, 0.71126954,\n",
      "       0.70825336, 0.73347957, 0.73156019, 0.7290924 , 0.72470524,\n",
      "       0.74938305, 0.74472169, 0.74170551, 0.73457636, 0.76007678,\n",
      "       0.75239923, 0.75075404, 0.74417329, 0.76775432, 0.7570606 ,\n",
      "       0.75239923, 0.74444749, 0.77598026, 0.76336715, 0.76117357,\n",
      "       0.74746367, 0.78941596, 0.7704963 , 0.76281876, 0.74746367,\n",
      "       0.79846449, 0.77762545, 0.76610913, 0.75075404, 0.80860982,\n",
      "       0.7842062 , 0.7704963 , 0.75431862, 0.81848094, 0.78777077,\n",
      "       0.77186729, 0.75541541, 0.82533589, 0.78914176, 0.77186729,\n",
      "       0.75541541, 0.83273924, 0.79160954, 0.77488347, 0.75843159,\n",
      "       0.61228407, 0.61228407, 0.61228407, 0.61228407, 0.67836578,\n",
      "       0.67836578, 0.67836578, 0.67836578, 0.67973677, 0.67973677,\n",
      "       0.67973677, 0.67946257, 0.71154373, 0.71126954, 0.71126954,\n",
      "       0.70825336, 0.73347957, 0.73156019, 0.7290924 , 0.72470524,\n",
      "       0.74938305, 0.74472169, 0.74170551, 0.73457636, 0.76007678,\n",
      "       0.75239923, 0.75075404, 0.74417329, 0.76775432, 0.7570606 ,\n",
      "       0.75239923, 0.74444749, 0.77598026, 0.76336715, 0.76117357,\n",
      "       0.74746367, 0.78941596, 0.7704963 , 0.76281876, 0.74746367,\n",
      "       0.79846449, 0.77762545, 0.76610913, 0.75075404, 0.80860982,\n",
      "       0.7842062 , 0.7704963 , 0.75431862, 0.81848094, 0.78777077,\n",
      "       0.77186729, 0.75541541, 0.82533589, 0.78914176, 0.77186729,\n",
      "       0.75541541, 0.83273924, 0.79160954, 0.77488347, 0.75843159]), 'mean_train_score': array([0.61154992, 0.61154992, 0.61154992, 0.61154992, 0.678924  ,\n",
      "       0.678924  , 0.678924  , 0.678924  , 0.69696736, 0.69699478,\n",
      "       0.69699478, 0.69614471, 0.7180813 , 0.71786194, 0.71747803,\n",
      "       0.71566825, 0.73812629, 0.73672785, 0.73549388, 0.73212107,\n",
      "       0.74865629, 0.7455303 , 0.74303488, 0.73900401, 0.76042012,\n",
      "       0.75348251, 0.74945158, 0.74391251, 0.77289679, 0.7612976 ,\n",
      "       0.75504545, 0.74717563, 0.78202802, 0.76669951, 0.75784238,\n",
      "       0.74802565, 0.79115927, 0.77119658, 0.76020063, 0.74975327,\n",
      "       0.80190855, 0.77648902, 0.76406706, 0.75260509, 0.81106735,\n",
      "       0.78172661, 0.76812543, 0.75586826, 0.82052774, 0.78597692,\n",
      "       0.77097728, 0.75825395, 0.82680724, 0.78973371, 0.77245808,\n",
      "       0.75970727, 0.83253837, 0.79176286, 0.77454201, 0.76080407,\n",
      "       0.61154992, 0.61154992, 0.61154992, 0.61154992, 0.678924  ,\n",
      "       0.678924  , 0.678924  , 0.678924  , 0.69137321, 0.69140063,\n",
      "       0.69140063, 0.69060538, 0.71580552, 0.71572326, 0.71506516,\n",
      "       0.713557  , 0.73497306, 0.73406817, 0.73266969, 0.72984524,\n",
      "       0.74585932, 0.74396723, 0.74138963, 0.73793454, 0.75685517,\n",
      "       0.75112416, 0.74706582, 0.74188317, 0.76979824, 0.76039266,\n",
      "       0.75381143, 0.74602382, 0.77945045, 0.76573987, 0.75660841,\n",
      "       0.74725781, 0.7902271 , 0.77169047, 0.76000886, 0.74931455,\n",
      "       0.8017989 , 0.77777798, 0.76395742, 0.75255019, 0.81172551,\n",
      "       0.78285094, 0.76782384, 0.75559399, 0.82008895, 0.78726575,\n",
      "       0.77034653, 0.75751345, 0.82801368, 0.79094017, 0.77201932,\n",
      "       0.75926846, 0.83470443, 0.7936549 , 0.77382907, 0.760283  ,\n",
      "       0.61154992, 0.61154992, 0.61154992, 0.61154992, 0.678924  ,\n",
      "       0.678924  , 0.678924  , 0.678924  , 0.69137321, 0.69140063,\n",
      "       0.69140063, 0.69060538, 0.71580552, 0.71572326, 0.71506516,\n",
      "       0.713557  , 0.73497306, 0.73406817, 0.73266969, 0.72984524,\n",
      "       0.74585932, 0.74396723, 0.74138963, 0.73793454, 0.75685517,\n",
      "       0.75112416, 0.74706582, 0.74188317, 0.76979824, 0.76039266,\n",
      "       0.75381143, 0.74602382, 0.77945045, 0.76573987, 0.75660841,\n",
      "       0.74725781, 0.7902271 , 0.77169047, 0.76000886, 0.74931455,\n",
      "       0.8017989 , 0.77777798, 0.76395742, 0.75255019, 0.81172551,\n",
      "       0.78285094, 0.76782384, 0.75559399, 0.82008895, 0.78726575,\n",
      "       0.77034653, 0.75751345, 0.82801368, 0.79094017, 0.77201932,\n",
      "       0.75926846, 0.83470443, 0.7936549 , 0.77382907, 0.760283  ]), 'std_train_score': array([0.00204226, 0.00204226, 0.00204226, 0.00204226, 0.00265553,\n",
      "       0.00265553, 0.00265553, 0.00265553, 0.00629723, 0.00630751,\n",
      "       0.00630751, 0.00604824, 0.00557311, 0.00569273, 0.00575581,\n",
      "       0.00576034, 0.00474814, 0.00500995, 0.00536388, 0.00563998,\n",
      "       0.00407346, 0.00446502, 0.0040857 , 0.0038628 , 0.00489591,\n",
      "       0.00537993, 0.00476485, 0.00436166, 0.00468838, 0.00432434,\n",
      "       0.00371423, 0.00320497, 0.00309577, 0.00381241, 0.00353097,\n",
      "       0.00275801, 0.00424317, 0.00392562, 0.00348615, 0.0025671 ,\n",
      "       0.00418326, 0.00397565, 0.00261423, 0.0030892 , 0.00431015,\n",
      "       0.00429591, 0.00290146, 0.00335341, 0.00444477, 0.00365461,\n",
      "       0.0029153 , 0.00341352, 0.00511419, 0.00315777, 0.00289613,\n",
      "       0.00314534, 0.00596149, 0.00332983, 0.00323121, 0.00289558,\n",
      "       0.00204226, 0.00204226, 0.00204226, 0.00204226, 0.00265553,\n",
      "       0.00265553, 0.00265553, 0.00265553, 0.00961972, 0.00964237,\n",
      "       0.00964237, 0.00968839, 0.00526535, 0.00540588, 0.00569471,\n",
      "       0.00619702, 0.00532181, 0.00587402, 0.0063863 , 0.00704195,\n",
      "       0.00299804, 0.00376727, 0.00375832, 0.00408719, 0.00369746,\n",
      "       0.00419794, 0.00444617, 0.00409908, 0.0037219 , 0.00310511,\n",
      "       0.00305563, 0.00353895, 0.00277435, 0.00267757, 0.00309292,\n",
      "       0.00295595, 0.00346784, 0.00421011, 0.00338115, 0.00326082,\n",
      "       0.00461204, 0.00496626, 0.00313736, 0.0036929 , 0.0054102 ,\n",
      "       0.00463744, 0.00318686, 0.0035425 , 0.00523631, 0.00397197,\n",
      "       0.00255883, 0.00368385, 0.00586614, 0.00299002, 0.00200685,\n",
      "       0.00313448, 0.00555123, 0.00354769, 0.00204768, 0.0028509 ,\n",
      "       0.00204226, 0.00204226, 0.00204226, 0.00204226, 0.00265553,\n",
      "       0.00265553, 0.00265553, 0.00265553, 0.00961972, 0.00964237,\n",
      "       0.00964237, 0.00968839, 0.00526535, 0.00540588, 0.00569471,\n",
      "       0.00619702, 0.00532181, 0.00587402, 0.0063863 , 0.00704195,\n",
      "       0.00299804, 0.00376727, 0.00375832, 0.00408719, 0.00369746,\n",
      "       0.00419794, 0.00444617, 0.00409908, 0.0037219 , 0.00310511,\n",
      "       0.00305563, 0.00353895, 0.00277435, 0.00267757, 0.00309292,\n",
      "       0.00295595, 0.00346784, 0.00421011, 0.00338115, 0.00326082,\n",
      "       0.00461204, 0.00496626, 0.00313736, 0.0036929 , 0.0054102 ,\n",
      "       0.00463744, 0.00318686, 0.0035425 , 0.00523631, 0.00397197,\n",
      "       0.00255883, 0.00368385, 0.00586614, 0.00299002, 0.00200685,\n",
      "       0.00313448, 0.00555123, 0.00354769, 0.00204768, 0.0028509 ])}\n"
     ]
    }
   ],
   "source": [
    "# grid search CV\n",
    "params = {'criterion': ['gini', 'entropy', 'log_loss'],\n",
    "          'max_depth': range(1, 16),\n",
    "          'min_samples_leaf': range(0, 25, 5)[1:]}\n",
    "\n",
    "cv_1 = GridSearchCV(param_grid=params, estimator=DecisionTreeClassifier(random_state=rs),\n",
    "                    return_train_score=True, cv=10)\n",
    "cv_1.fit(X_train, y_train)\n",
    "\n",
    "result_set = cv_1.cv_results_\n",
    "print(result_set)"
   ]
  },
  {
   "cell_type": "code",
   "execution_count": 21,
   "id": "a1a05544-e64d-4c72-b8a5-457a6c4b14c5",
   "metadata": {},
   "outputs": [
    {
     "name": "stdout",
     "output_type": "stream",
     "text": [
      "Total number of models:  180\n"
     ]
    }
   ],
   "source": [
    "train_result = result_set['mean_train_score']\n",
    "test_result = result_set['mean_test_score']\n",
    "print(\"Total number of models: \", len(test_result))"
   ]
  },
  {
   "cell_type": "code",
   "execution_count": 22,
   "id": "ef9c688c-3b7a-4fcd-baee-68a0260d18c5",
   "metadata": {},
   "outputs": [
    {
     "data": {
      "image/png": "[encoded data removed]",
      "text/plain": [
       "<Figure size 640x480 with 1 Axes>"
      ]
     },
     "metadata": {},
     "output_type": "display_data"
    }
   ],
   "source": [
    "# plot max depth hyperparameter values vs training and test accuracy score\n",
    "plt.plot(range(0, len(train_result)), train_result, 'b', range(0,len(test_result)), test_result, 'r')\n",
    "plt.xlabel('Combination of hyperparameters\\nBlue = training acc. Red = test acc.')\n",
    "plt.ylabel('score')\n",
    "plt.show()"
   ]
  },
  {
   "cell_type": "code",
   "execution_count": 23,
   "id": "0979845d-49e9-4782-ba9f-23f9fffa79e4",
   "metadata": {},
   "outputs": [
    {
     "data": {
      "image/png": "[encoded data removed]",
      "text/plain": [
       "<Figure size 640x480 with 1 Axes>"
      ]
     },
     "metadata": {},
     "output_type": "display_data"
    }
   ],
   "source": [
    "result_set['params']\n",
    "dd = pd.DataFrame(result_set['params'])\n",
    "\n",
    "index_ = list(dd.index[(dd['criterion']=='entropy') & (dd['min_samples_leaf']==10)])\n",
    "max_depth_train = []\n",
    "max_depth_test = []\n",
    "for i in range(0,len(index_)):\n",
    "    max_depth_train.append(train_result[index_[i]])\n",
    "    max_depth_test.append(test_result[index_[i]])\n",
    "plt.plot(range(1, len(max_depth_train)+1), max_depth_train, 'b', range(1,len(max_depth_test)+1), max_depth_test, 'r')\n",
    "plt.xlabel('Maximum depth (model complexity)\\nBlue = training acc. Red = test acc.')\n",
    "plt.ylabel('score')\n",
    "plt.xticks(np.arange(1, len(max_depth_train)+1, 1))\n",
    "plt.show()"
   ]
  },
  {
   "cell_type": "code",
   "execution_count": 24,
   "id": "ba84754c-ef4e-41c4-b3ec-da170cb529b2",
   "metadata": {},
   "outputs": [
    {
     "name": "stdout",
     "output_type": "stream",
     "text": [
      "Train accuracy: 0.7492596248766041\n"
     ]
    }
   ],
   "source": [
    "print(\"Train accuracy:\", cv_1.best_estimator_.score(X_train, y_train))"
   ]
  },
  {
   "cell_type": "code",
   "execution_count": 25,
   "id": "17bc1024-d8d8-4583-bb49-9f648a572b38",
   "metadata": {},
   "outputs": [
    {
     "name": "stdout",
     "output_type": "stream",
     "text": [
      "Test accuracy: 0.697754749568221\n"
     ]
    }
   ],
   "source": [
    "print(\"Test accuracy:\", cv_1.best_estimator_.score(X_test, y_test))"
   ]
  },
  {
   "cell_type": "code",
   "execution_count": 26,
   "id": "c12dd2ed-826e-418e-a83a-618faa6aa270",
   "metadata": {},
   "outputs": [
    {
     "name": "stdout",
     "output_type": "stream",
     "text": [
      "Number of Nodes:  99\n",
      "Number of Leaf Nodes:  50\n",
      "Number of Rules:  49\n"
     ]
    }
   ],
   "source": [
    "get_tree_size(cv_1.best_estimator_)"
   ]
  },
  {
   "cell_type": "code",
   "execution_count": 27,
   "id": "0d77867c-3cf7-4033-a306-560cf1cb66d1",
   "metadata": {},
   "outputs": [
    {
     "name": "stdout",
     "output_type": "stream",
     "text": [
      "income_high : 0.3838319431244043\n",
      "worried : 0.20433285356370615\n",
      "age : 0.098921939739157\n",
      "working : 0.057544469278257245\n",
      "income_low : 0.05005299540373858\n",
      "weight : 0.04158031738238462\n",
      "contacts_count : 0.03247759889790322\n",
      "smoking : 0.03029368324024604\n",
      "insurance : 0.02644928384231397\n",
      "height : 0.02403880581873819\n",
      "alcohol : 0.014680038842922658\n",
      "blood_type_unknown : 0.009082377965631772\n",
      "income_gov : 0.00825304038104269\n",
      "gender_female : 0.0080049219146138\n",
      "gender_male : 0.005896383453381909\n",
      "blood_type_ap : 0.0029514021918557024\n",
      "income_med : 0.0016079449597021951\n",
      "gender_other : 0.0\n",
      "blood_type_abp : 0.0\n",
      "blood_type_an : 0.0\n"
     ]
    }
   ],
   "source": [
    "feature_importances(cv_1.best_estimator_)"
   ]
  },
  {
   "cell_type": "code",
   "execution_count": 28,
   "id": "9859c54f-a3ad-4ec4-85a8-e57729c02c0c",
   "metadata": {},
   "outputs": [
    {
     "name": "stdout",
     "output_type": "stream",
     "text": [
      "{'criterion': 'gini', 'max_depth': 6, 'min_samples_leaf': 10}\n",
      "              precision    recall  f1-score   support\n",
      "\n",
      "           0       0.73      0.78      0.75      1036\n",
      "           1       0.64      0.58      0.61       701\n",
      "\n",
      "    accuracy                           0.70      1737\n",
      "   macro avg       0.69      0.68      0.68      1737\n",
      "weighted avg       0.69      0.70      0.70      1737\n",
      "\n"
     ]
    }
   ],
   "source": [
    "print(cv_1.best_params_)\n",
    "y_pred = cv_1.best_estimator_.predict(X_test)\n",
    "print(classification_report(y_test, y_pred))"
   ]
  },
  {
   "cell_type": "code",
   "execution_count": 29,
   "id": "de93523e-7d5f-4960-93d4-9f81fe976bb9",
   "metadata": {},
   "outputs": [
    {
     "name": "stdout",
     "output_type": "stream",
     "text": [
      "[ 65 168 100   1   0   2   1   2   4   0   1   0   0   0   0   1   0   0\n",
      "   0   0   0   0   1   0   0]\n",
      "[0]\n"
     ]
    }
   ],
   "source": [
    "sample_row = X_test[0]\n",
    "print(sample_row)\n",
    "prediction = cv_1.best_estimator_.predict([sample_row])\n",
    "print(prediction)"
   ]
  },
  {
   "cell_type": "code",
   "execution_count": 30,
   "id": "b1d85e55-a6da-4637-9140-d5529afef1eb",
   "metadata": {},
   "outputs": [],
   "source": [
    "graph_decision_tree(cv_1.best_estimator_, \"best_estimator\")"
   ]
  },
  {
   "cell_type": "markdown",
   "id": "3c82f6e0",
   "metadata": {},
   "source": [
    "## Model Comparison"
   ]
  },
  {
   "cell_type": "code",
   "execution_count": 31,
   "id": "dcb0f520-f21e-46d6-b27c-d523295756e7",
   "metadata": {},
   "outputs": [
    {
     "name": "stdout",
     "output_type": "stream",
     "text": [
      "ROC index (Area Under Curve) on test for DT_default: 0.6219596660038885\n",
      "ROC index (Area Under Curve) on test for DT_optimal: 0.7166416977401286\n"
     ]
    }
   ],
   "source": [
    "from sklearn.metrics import roc_auc_score\n",
    "\n",
    "dt_cv_best = cv_1.best_estimator_\n",
    "\n",
    "y_pred_proba_dt = model.predict_proba(X_test)\n",
    "y_pred_proba_dt_cv = dt_cv_best.predict_proba(X_test)\n",
    "\n",
    "roc_index_dt = roc_auc_score(y_test, y_pred_proba_dt[:, 1])\n",
    "roc_index_dt_cv = roc_auc_score(y_test, y_pred_proba_dt_cv[:, 1])\n",
    "\n",
    "print(\"ROC index (Area Under Curve) on test for DT_default:\", roc_index_dt)\n",
    "print(\"ROC index (Area Under Curve) on test for DT_optimal:\", roc_index_dt_cv)"
   ]
  },
  {
   "cell_type": "code",
   "execution_count": 32,
   "id": "677fa503-cd6a-4415-8ffe-f859eed6ee07",
   "metadata": {},
   "outputs": [],
   "source": [
    "from sklearn.metrics import roc_curve\n",
    "\n",
    "fpr_dt, tpr_dt, thresholds_dt = roc_curve(y_test, y_pred_proba_dt[:,1])\n",
    "fpr_dt_cv, tpr_dt_cv, thresholds_dt_cv = roc_curve(y_test, y_pred_proba_dt_cv[:,1])"
   ]
  },
  {
   "cell_type": "code",
   "execution_count": 33,
   "id": "8442f788-a29d-40a5-94aa-8d49ac33a737",
   "metadata": {},
   "outputs": [
    {
     "data": {
      "image/png": "[encoded data removed]",
      "text/plain": [
       "<Figure size 640x480 with 1 Axes>"
      ]
     },
     "metadata": {},
     "output_type": "display_data"
    }
   ],
   "source": [
    "import matplotlib.pyplot as plt\n",
    "\n",
    "plt.plot(fpr_dt, tpr_dt, label='ROC Curve for DT_default {:.3f}'.format(roc_index_dt), color='red', lw=0.5)\n",
    "plt.plot(fpr_dt_cv, tpr_dt_cv, label='ROC Curve for DT_optimal {:.3f}'.format(roc_index_dt_cv), color='blue', lw=0.5)\n",
    "\n",
    "# plt.plot(fpr[2], tpr[2], color='darkorange',\n",
    "#          lw=lw, label='ROC curve (area = %0.2f)' % roc_auc[2])\n",
    "plt.plot([0, 1], [0, 1], color='navy', lw=0.5, linestyle='--')\n",
    "plt.xlim([0.0, 1.0])\n",
    "plt.ylim([0.0, 1.0])\n",
    "plt.xlabel('False Positive Rate')\n",
    "plt.ylabel('True Positive Rate')\n",
    "plt.title('Receiver operating characteristic for both models')\n",
    "plt.legend(loc=\"lower right\")\n",
    "plt.show()"
   ]
  },
  {
   "cell_type": "code",
   "execution_count": 34,
   "id": "2a365979-4044-419d-93bb-d3ecc1aaeaa2",
   "metadata": {},
   "outputs": [],
   "source": [
    "import pickle\n",
    "dt_best = cv_1\n",
    "with open('DT.pickle', 'wb') as f:\n",
    "    pickle.dump(dt_best, f)"
   ]
  },
  {
   "cell_type": "markdown",
   "id": "e7d07244-6b68-4aa6-9851-ee0c20d740f3",
   "metadata": {},
   "source": [
    "# 2. Regression"
   ]
  },
  {
   "cell_type": "code",
   "execution_count": 35,
   "id": "0b33d9ba-4b02-4972-845c-784ddbb02793",
   "metadata": {},
   "outputs": [],
   "source": [
    "import pandas as pd\n",
    "import matplotlib.pyplot as plt\n",
    "import scipy.stats as stats\n",
    "import numpy as np\n",
    "from itertools import permutations\n",
    "import seaborn as sns\n",
    "from sklearn.model_selection import train_test_split\n",
    "from sklearn.metrics import classification_report, accuracy_score\n",
    "from sklearn.model_selection import GridSearchCV\n",
    "\n",
    "# read the veteran dataset\n",
    "df = pd.read_csv('data/D2.csv', keep_default_na=False)"
   ]
  },
  {
   "cell_type": "markdown",
   "id": "874864b2",
   "metadata": {},
   "source": [
    "## Pre-processing"
   ]
  },
  {
   "cell_type": "code",
   "execution_count": 36,
   "id": "32d71f96-87c1-4162-b56b-ce55e78df91e",
   "metadata": {},
   "outputs": [],
   "source": [
    "def variable_type_counts(header):\n",
    "    column_data = list(df[header])\n",
    "    data_types = [type(i).__name__ for i in column_data]\n",
    "    type_counts = {i:data_types.count(i) for i in data_types}\n",
    "    return type_counts"
   ]
  },
  {
   "cell_type": "code",
   "execution_count": 37,
   "id": "bf3f3162-3d7a-4306-8c2f-3fef1503b5f2",
   "metadata": {},
   "outputs": [],
   "source": [
    "def all_variable_types():\n",
    "    headers = list(df.columns.values)\n",
    "    for header in headers:\n",
    "        print(header,\": \",variable_type_counts(header))"
   ]
  },
  {
   "cell_type": "code",
   "execution_count": 39,
   "id": "1830aafd-d84a-4c4a-bebf-0cc99ce53ebf",
   "metadata": {},
   "outputs": [],
   "source": [
    "def all_value_counts(df):\n",
    "    headers = list(df.columns.values)\n",
    "    for header in headers:\n",
    "        print(df[header].value_counts())\n",
    "        print()"
   ]
  },
  {
   "cell_type": "code",
   "execution_count": 40,
   "id": "082c33f6-8128-4041-ae04-f7c14270f5e7",
   "metadata": {},
   "outputs": [],
   "source": [
    "# Generic error finder\n",
    "missing = [float(\"nan\"),-1,\"-1\",\"\",\" \",\"blank\",\"unknown\"]\n",
    "def find_errors(column, error_list=missing):\n",
    "    errors = {}\n",
    "    for value in list(column):\n",
    "        if (value in error_list):\n",
    "            if value not in errors: errors[value] = 0\n",
    "            errors[value] += 1\n",
    "    return errors"
   ]
  },
  {
   "cell_type": "code",
   "execution_count": 41,
   "id": "ead65afa-a4b1-46e0-bf9b-bff0c38344e7",
   "metadata": {},
   "outputs": [
    {
     "name": "stdout",
     "output_type": "stream",
     "text": [
      "                                0\n",
      "gender                           \n",
      "age                              \n",
      "height                           \n",
      "weight                           \n",
      "blood_type        'unknown': 1884\n",
      "insurance                        \n",
      "income                           \n",
      "smoking                          \n",
      "alcohol                          \n",
      "contacts_count                   \n",
      "working                          \n",
      "worried                          \n",
      "covid19_positive                 \n"
     ]
    }
   ],
   "source": [
    "def find_all_missing(df=df):\n",
    "    missing_values = []\n",
    "    \n",
    "    headers = list(df.columns.values)\n",
    "    for header in headers:\n",
    "        error_string = [str((find_errors(df[header])))[1:-1]]\n",
    "        missing_values.append(error_string)\n",
    "    missing_df = pd.DataFrame.from_records(missing_values,index=headers)\n",
    "    return missing_df\n",
    "\n",
    "missing_df = find_all_missing()\n",
    "print(missing_df)"
   ]
  },
  {
   "cell_type": "markdown",
   "id": "6a0a316f",
   "metadata": {},
   "source": [
    "### Ordinals to Numericals"
   ]
  },
  {
   "cell_type": "code",
   "execution_count": 42,
   "id": "6ad9adc2-4146-45ba-81db-9acfe8174450",
   "metadata": {},
   "outputs": [],
   "source": [
    "df_proc = df.copy()\n",
    "def ordinal_to_rankings(df_proc=df_proc):\n",
    "    header = \"age\"\n",
    "    age_ranks = {\"0_10\":5, \"10_20\":15, \"20_30\":25, \"30_40\":35, \"40_50\":45, \"50_60\":55, \"60_70\":65,\n",
    "                \"70_80\":75, \"80_90\":85, \"90_100\":95, \"100_110\":105}\n",
    "    \n",
    "    df_proc[header] = df_proc[header].map(age_ranks)\n",
    "    \n",
    "    header = \"smoking\"\n",
    "    smoking_ranks = {'never': 0, 'yesmedium': 4, \n",
    "                     'quit0': 5, 'quit10': 1, 'quit5': 2, \n",
    "                     'yesheavy': 7, 'yeslight': 3, 'vape': 6}\n",
    "    \n",
    "    df_proc[header] = df_proc[header].map(smoking_ranks)\n",
    "    \n",
    "    header = \"working\"\n",
    "    working_ranks = {\"never\":0, \"stopped\":1, \"home\":2, \"travel non critical\":3, \n",
    "                     \"travel critical\":4}\n",
    "    \n",
    "    df_proc[header] = df_proc[header].map(working_ranks)\n",
    "    \n",
    "    header = \"insurance\"\n",
    "    insurance_ranks = {\"yes\":1, \"no\":0}\n",
    "    \n",
    "    df_proc[header] = df_proc[header].map(insurance_ranks)\n",
    "\n",
    "ordinal_to_rankings()"
   ]
  },
  {
   "cell_type": "code",
   "execution_count": 43,
   "id": "f59a58a7-d0f0-4785-8be3-80e04bc47890",
   "metadata": {},
   "outputs": [
    {
     "name": "stdout",
     "output_type": "stream",
     "text": [
      "age\n",
      "35     1412\n",
      "45     1111\n",
      "25      996\n",
      "55      926\n",
      "65      765\n",
      "75      354\n",
      "15      205\n",
      "5        14\n",
      "105       6\n",
      "Name: count, dtype: int64 \n",
      "\n",
      "smoking\n",
      "0    3749\n",
      "2     485\n",
      "1     473\n",
      "5     319\n",
      "6     247\n",
      "4     230\n",
      "3     206\n",
      "7      80\n",
      "Name: count, dtype: int64 \n",
      "\n",
      "insurance\n",
      "1    5167\n",
      "0     622\n",
      "Name: count, dtype: int64 \n",
      "\n",
      "working\n",
      "1    1774\n",
      "0    1577\n",
      "4    1312\n",
      "3     620\n",
      "2     506\n",
      "Name: count, dtype: int64\n"
     ]
    }
   ],
   "source": [
    "print(df_proc[\"age\"].value_counts(),'\\n')\n",
    "print(df_proc[\"smoking\"].value_counts(),'\\n')\n",
    "print(df_proc[\"insurance\"].value_counts(),'\\n')\n",
    "print(df_proc[\"working\"].value_counts())"
   ]
  },
  {
   "cell_type": "markdown",
   "id": "a72aefd8-0f7d-4073-a8bd-68f7a32b847d",
   "metadata": {},
   "source": [
    "## Nominals to Numericals"
   ]
  },
  {
   "cell_type": "markdown",
   "id": "13bd70a1-7360-4d99-9781-3d35a5ed355c",
   "metadata": {},
   "source": [
    "### Label Encoding"
   ]
  },
  {
   "cell_type": "code",
   "execution_count": 44,
   "id": "edbda570-b34a-446c-b870-7bf41ac110a7",
   "metadata": {},
   "outputs": [],
   "source": [
    "# Best not to use as sklearn will treat as if ordinal.\n",
    "def nominal_label_encoding():\n",
    "    header = \"gender\"\n",
    "    df_proc[header+'_encoded'] = pd.factorize(df[header])[0] + 1\n",
    "    \n",
    "    header = \"blood_type\"\n",
    "    df_proc[header+'_encoded'] = pd.factorize(df[header])[0] + 1\n",
    "    \n",
    "    header = \"income\"\n",
    "    df_proc[header+'_encoded'] = pd.factorize(df[header])[0] + 1\n",
    "    \n",
    "    nominals = [\"gender_encoded\", \"blood_type_encoded\", \"income_encoded\"]\n",
    "    for header in nominals:\n",
    "        print(df_proc[header].value_counts(),'\\n')"
   ]
  },
  {
   "cell_type": "code",
   "execution_count": 45,
   "id": "46f87383-e265-496d-9606-33e25f6724b1",
   "metadata": {},
   "outputs": [],
   "source": [
    "# nominal_label_encoding()"
   ]
  },
  {
   "cell_type": "markdown",
   "id": "26b39a66-7e10-44db-9aed-a2fb5a973a72",
   "metadata": {},
   "source": [
    "### One-Hot Encoding"
   ]
  },
  {
   "cell_type": "code",
   "execution_count": 46,
   "id": "fcf3561a-62a9-49d0-a25d-6f855406be42",
   "metadata": {},
   "outputs": [
    {
     "data": {
      "text/html": [
       "<div>\n",
       "<style scoped>\n",
       "    .dataframe tbody tr th:only-of-type {\n",
       "        vertical-align: middle;\n",
       "    }\n",
       "\n",
       "    .dataframe tbody tr th {\n",
       "        vertical-align: top;\n",
       "    }\n",
       "\n",
       "    .dataframe thead th {\n",
       "        text-align: right;\n",
       "    }\n",
       "</style>\n",
       "<table border=\"1\" class=\"dataframe\">\n",
       "  <thead>\n",
       "    <tr style=\"text-align: right;\">\n",
       "      <th></th>\n",
       "      <th>age</th>\n",
       "      <th>height</th>\n",
       "      <th>weight</th>\n",
       "      <th>insurance</th>\n",
       "      <th>smoking</th>\n",
       "      <th>alcohol</th>\n",
       "      <th>contacts_count</th>\n",
       "      <th>working</th>\n",
       "      <th>worried</th>\n",
       "      <th>covid19_positive</th>\n",
       "      <th>...</th>\n",
       "      <th>blood_type_ap</th>\n",
       "      <th>blood_type_bn</th>\n",
       "      <th>blood_type_bp</th>\n",
       "      <th>blood_type_on</th>\n",
       "      <th>blood_type_op</th>\n",
       "      <th>blood_type_unknown</th>\n",
       "      <th>income_gov</th>\n",
       "      <th>income_high</th>\n",
       "      <th>income_low</th>\n",
       "      <th>income_med</th>\n",
       "    </tr>\n",
       "  </thead>\n",
       "  <tbody>\n",
       "    <tr>\n",
       "      <th>0</th>\n",
       "      <td>25</td>\n",
       "      <td>188</td>\n",
       "      <td>104</td>\n",
       "      <td>1</td>\n",
       "      <td>0</td>\n",
       "      <td>0</td>\n",
       "      <td>9</td>\n",
       "      <td>3</td>\n",
       "      <td>3</td>\n",
       "      <td>1</td>\n",
       "      <td>...</td>\n",
       "      <td>0</td>\n",
       "      <td>0</td>\n",
       "      <td>0</td>\n",
       "      <td>0</td>\n",
       "      <td>1</td>\n",
       "      <td>0</td>\n",
       "      <td>0</td>\n",
       "      <td>0</td>\n",
       "      <td>0</td>\n",
       "      <td>1</td>\n",
       "    </tr>\n",
       "    <tr>\n",
       "      <th>1</th>\n",
       "      <td>75</td>\n",
       "      <td>164</td>\n",
       "      <td>62</td>\n",
       "      <td>1</td>\n",
       "      <td>0</td>\n",
       "      <td>0</td>\n",
       "      <td>2</td>\n",
       "      <td>0</td>\n",
       "      <td>3</td>\n",
       "      <td>1</td>\n",
       "      <td>...</td>\n",
       "      <td>0</td>\n",
       "      <td>0</td>\n",
       "      <td>1</td>\n",
       "      <td>0</td>\n",
       "      <td>0</td>\n",
       "      <td>0</td>\n",
       "      <td>0</td>\n",
       "      <td>0</td>\n",
       "      <td>0</td>\n",
       "      <td>1</td>\n",
       "    </tr>\n",
       "    <tr>\n",
       "      <th>2</th>\n",
       "      <td>45</td>\n",
       "      <td>164</td>\n",
       "      <td>78</td>\n",
       "      <td>1</td>\n",
       "      <td>0</td>\n",
       "      <td>2</td>\n",
       "      <td>5</td>\n",
       "      <td>1</td>\n",
       "      <td>3</td>\n",
       "      <td>1</td>\n",
       "      <td>...</td>\n",
       "      <td>0</td>\n",
       "      <td>0</td>\n",
       "      <td>0</td>\n",
       "      <td>0</td>\n",
       "      <td>0</td>\n",
       "      <td>1</td>\n",
       "      <td>0</td>\n",
       "      <td>0</td>\n",
       "      <td>0</td>\n",
       "      <td>1</td>\n",
       "    </tr>\n",
       "    <tr>\n",
       "      <th>3</th>\n",
       "      <td>45</td>\n",
       "      <td>170</td>\n",
       "      <td>60</td>\n",
       "      <td>1</td>\n",
       "      <td>4</td>\n",
       "      <td>2</td>\n",
       "      <td>6</td>\n",
       "      <td>4</td>\n",
       "      <td>3</td>\n",
       "      <td>1</td>\n",
       "      <td>...</td>\n",
       "      <td>0</td>\n",
       "      <td>0</td>\n",
       "      <td>1</td>\n",
       "      <td>0</td>\n",
       "      <td>0</td>\n",
       "      <td>0</td>\n",
       "      <td>0</td>\n",
       "      <td>0</td>\n",
       "      <td>0</td>\n",
       "      <td>1</td>\n",
       "    </tr>\n",
       "    <tr>\n",
       "      <th>4</th>\n",
       "      <td>35</td>\n",
       "      <td>164</td>\n",
       "      <td>64</td>\n",
       "      <td>1</td>\n",
       "      <td>0</td>\n",
       "      <td>2</td>\n",
       "      <td>2</td>\n",
       "      <td>4</td>\n",
       "      <td>4</td>\n",
       "      <td>1</td>\n",
       "      <td>...</td>\n",
       "      <td>0</td>\n",
       "      <td>0</td>\n",
       "      <td>0</td>\n",
       "      <td>0</td>\n",
       "      <td>1</td>\n",
       "      <td>0</td>\n",
       "      <td>0</td>\n",
       "      <td>0</td>\n",
       "      <td>0</td>\n",
       "      <td>1</td>\n",
       "    </tr>\n",
       "  </tbody>\n",
       "</table>\n",
       "<p>5 rows × 26 columns</p>\n",
       "</div>"
      ],
      "text/plain": [
       "   age  height  weight  insurance  smoking  alcohol  contacts_count  working  \\\n",
       "0   25     188     104          1        0        0               9        3   \n",
       "1   75     164      62          1        0        0               2        0   \n",
       "2   45     164      78          1        0        2               5        1   \n",
       "3   45     170      60          1        4        2               6        4   \n",
       "4   35     164      64          1        0        2               2        4   \n",
       "\n",
       "   worried  covid19_positive  ...  blood_type_ap  blood_type_bn  \\\n",
       "0        3                 1  ...              0              0   \n",
       "1        3                 1  ...              0              0   \n",
       "2        3                 1  ...              0              0   \n",
       "3        3                 1  ...              0              0   \n",
       "4        4                 1  ...              0              0   \n",
       "\n",
       "   blood_type_bp  blood_type_on  blood_type_op  blood_type_unknown  \\\n",
       "0              0              0              1                   0   \n",
       "1              1              0              0                   0   \n",
       "2              0              0              0                   1   \n",
       "3              1              0              0                   0   \n",
       "4              0              0              1                   0   \n",
       "\n",
       "   income_gov  income_high  income_low  income_med  \n",
       "0           0            0           0           1  \n",
       "1           0            0           0           1  \n",
       "2           0            0           0           1  \n",
       "3           0            0           0           1  \n",
       "4           0            0           0           1  \n",
       "\n",
       "[5 rows x 26 columns]"
      ]
     },
     "execution_count": 46,
     "metadata": {},
     "output_type": "execute_result"
    }
   ],
   "source": [
    "# Nominal values: gender, blood_type, income\n",
    "df_proc = pd.get_dummies(df_proc, dtype='int')\n",
    "df_proc.head()"
   ]
  },
  {
   "cell_type": "markdown",
   "id": "626ac7e2-1b49-41f3-a35f-913df772e5aa",
   "metadata": {},
   "source": [
    "## Normalization"
   ]
  },
  {
   "cell_type": "code",
   "execution_count": 47,
   "id": "9f87c188-96c3-4b67-b733-b6b96c53da6b",
   "metadata": {},
   "outputs": [],
   "source": [
    "def min_max_normalize(df_proc=df_proc):\n",
    "    column_list = list(df_proc.columns.values)\n",
    "\n",
    "    for column in column_list:\n",
    "        range = df_proc[column].max() - df_proc[column].min()\n",
    "        df_proc[column] = (df_proc[column] - df_proc[column].min()) / range"
   ]
  },
  {
   "cell_type": "code",
   "execution_count": 48,
   "id": "2706493e-33f3-4af0-a4c2-de955957ecd9",
   "metadata": {},
   "outputs": [],
   "source": [
    "min_max_normalize()"
   ]
  },
  {
   "cell_type": "code",
   "execution_count": 49,
   "id": "8604621d-65ed-45f7-b225-c8b54e71c241",
   "metadata": {},
   "outputs": [],
   "source": [
    "\n",
    "def z_score_normalize(df_proc=df_proc):\n",
    "    z_score_columns = list(df_proc.columns.values)\n",
    "\n",
    "    for column in z_score_columns:\n",
    "        df_proc[column] = (df_proc[column] - df_proc[column].mean()) / df_proc[column].std()\n"
   ]
  },
  {
   "cell_type": "code",
   "execution_count": 50,
   "id": "8e62aac3-8f84-48f5-b074-2ce600517a5d",
   "metadata": {},
   "outputs": [],
   "source": [
    "df_proc.to_csv('data/D2-processed.csv', index=False)"
   ]
  },
  {
   "cell_type": "markdown",
   "id": "e328920c-db6e-4713-b852-da4c23cdb111",
   "metadata": {},
   "source": [
    "## Identify Variables"
   ]
  },
  {
   "cell_type": "code",
   "execution_count": 51,
   "id": "71aa48a4-76a3-4824-ad91-fc3cf7372c2c",
   "metadata": {},
   "outputs": [],
   "source": [
    "y = df_proc['covid19_positive']\n",
    "X = df_proc.drop(['covid19_positive'], axis=1)\n",
    "X_mat = X.to_numpy()"
   ]
  },
  {
   "cell_type": "markdown",
   "id": "fbe36ea7",
   "metadata": {},
   "source": [
    "## Training/Test Split"
   ]
  },
  {
   "cell_type": "code",
   "execution_count": 52,
   "id": "bd503a18-32ab-4818-84c0-55ab893d30c3",
   "metadata": {},
   "outputs": [],
   "source": [
    "rs = 10\n",
    "\n",
    "X_train, X_test, y_train, y_test = train_test_split(\n",
    "    X_mat, y, test_size=0.3, stratify=y, random_state=rs)"
   ]
  },
  {
   "cell_type": "markdown",
   "id": "efe72cd9-aedf-445f-9838-17e5da182777",
   "metadata": {},
   "source": [
    "## Model 1 (Default Setting)"
   ]
  },
  {
   "cell_type": "code",
   "execution_count": 53,
   "id": "cfcab00b-663d-4d28-8a96-d32fcdc657be",
   "metadata": {},
   "outputs": [],
   "source": [
    "from sklearn.linear_model import LogisticRegression"
   ]
  },
  {
   "cell_type": "code",
   "execution_count": 54,
   "id": "139b907c-e5fc-4cf3-a989-2b702ca51d90",
   "metadata": {},
   "outputs": [
    {
     "data": {
      "text/html": [
       "<style>#sk-container-id-1 {color: black;background-color: white;}#sk-container-id-1 pre{padding: 0;}#sk-container-id-1 div.sk-toggleable {background-color: white;}#sk-container-id-1 label.sk-toggleable__label {cursor: pointer;display: block;width: 100%;margin-bottom: 0;padding: 0.3em;box-sizing: border-box;text-align: center;}#sk-container-id-1 label.sk-toggleable__label-arrow:before {content: \"▸\";float: left;margin-right: 0.25em;color: #696969;}#sk-container-id-1 label.sk-toggleable__label-arrow:hover:before {color: black;}#sk-container-id-1 div.sk-estimator:hover label.sk-toggleable__label-arrow:before {color: black;}#sk-container-id-1 div.sk-toggleable__content {max-height: 0;max-width: 0;overflow: hidden;text-align: left;background-color: #f0f8ff;}#sk-container-id-1 div.sk-toggleable__content pre {margin: 0.2em;color: black;border-radius: 0.25em;background-color: #f0f8ff;}#sk-container-id-1 input.sk-toggleable__control:checked~div.sk-toggleable__content {max-height: 200px;max-width: 100%;overflow: auto;}#sk-container-id-1 input.sk-toggleable__control:checked~label.sk-toggleable__label-arrow:before {content: \"▾\";}#sk-container-id-1 div.sk-estimator input.sk-toggleable__control:checked~label.sk-toggleable__label {background-color: #d4ebff;}#sk-container-id-1 div.sk-label input.sk-toggleable__control:checked~label.sk-toggleable__label {background-color: #d4ebff;}#sk-container-id-1 input.sk-hidden--visually {border: 0;clip: rect(1px 1px 1px 1px);clip: rect(1px, 1px, 1px, 1px);height: 1px;margin: -1px;overflow: hidden;padding: 0;position: absolute;width: 1px;}#sk-container-id-1 div.sk-estimator {font-family: monospace;background-color: #f0f8ff;border: 1px dotted black;border-radius: 0.25em;box-sizing: border-box;margin-bottom: 0.5em;}#sk-container-id-1 div.sk-estimator:hover {background-color: #d4ebff;}#sk-container-id-1 div.sk-parallel-item::after {content: \"\";width: 100%;border-bottom: 1px solid gray;flex-grow: 1;}#sk-container-id-1 div.sk-label:hover label.sk-toggleable__label {background-color: #d4ebff;}#sk-container-id-1 div.sk-serial::before {content: \"\";position: absolute;border-left: 1px solid gray;box-sizing: border-box;top: 0;bottom: 0;left: 50%;z-index: 0;}#sk-container-id-1 div.sk-serial {display: flex;flex-direction: column;align-items: center;background-color: white;padding-right: 0.2em;padding-left: 0.2em;position: relative;}#sk-container-id-1 div.sk-item {position: relative;z-index: 1;}#sk-container-id-1 div.sk-parallel {display: flex;align-items: stretch;justify-content: center;background-color: white;position: relative;}#sk-container-id-1 div.sk-item::before, #sk-container-id-1 div.sk-parallel-item::before {content: \"\";position: absolute;border-left: 1px solid gray;box-sizing: border-box;top: 0;bottom: 0;left: 50%;z-index: -1;}#sk-container-id-1 div.sk-parallel-item {display: flex;flex-direction: column;z-index: 1;position: relative;background-color: white;}#sk-container-id-1 div.sk-parallel-item:first-child::after {align-self: flex-end;width: 50%;}#sk-container-id-1 div.sk-parallel-item:last-child::after {align-self: flex-start;width: 50%;}#sk-container-id-1 div.sk-parallel-item:only-child::after {width: 0;}#sk-container-id-1 div.sk-dashed-wrapped {border: 1px dashed gray;margin: 0 0.4em 0.5em 0.4em;box-sizing: border-box;padding-bottom: 0.4em;background-color: white;}#sk-container-id-1 div.sk-label label {font-family: monospace;font-weight: bold;display: inline-block;line-height: 1.2em;}#sk-container-id-1 div.sk-label-container {text-align: center;}#sk-container-id-1 div.sk-container {/* jupyter's `normalize.less` sets `[hidden] { display: none; }` but bootstrap.min.css set `[hidden] { display: none !important; }` so we also need the `!important` here to be able to override the default hidden behavior on the sphinx rendered scikit-learn.org. See: https://github.com/scikit-learn/scikit-learn/issues/21755 */display: inline-block !important;position: relative;}#sk-container-id-1 div.sk-text-repr-fallback {display: none;}</style><div id=\"sk-container-id-1\" class=\"sk-top-container\"><div class=\"sk-text-repr-fallback\"><pre>LogisticRegression(random_state=10)</pre><b>In a Jupyter environment, please rerun this cell to show the HTML representation or trust the notebook. <br />On GitHub, the HTML representation is unable to render, please try loading this page with nbviewer.org.</b></div><div class=\"sk-container\" hidden><div class=\"sk-item\"><div class=\"sk-estimator sk-toggleable\"><input class=\"sk-toggleable__control sk-hidden--visually\" id=\"sk-estimator-id-1\" type=\"checkbox\" checked><label for=\"sk-estimator-id-1\" class=\"sk-toggleable__label sk-toggleable__label-arrow\">LogisticRegression</label><div class=\"sk-toggleable__content\"><pre>LogisticRegression(random_state=10)</pre></div></div></div></div></div>"
      ],
      "text/plain": [
       "LogisticRegression(random_state=10)"
      ]
     },
     "execution_count": 54,
     "metadata": {},
     "output_type": "execute_result"
    }
   ],
   "source": [
    "model = LogisticRegression(random_state=rs)\n",
    "\n",
    "model.fit(X_train, y_train)"
   ]
  },
  {
   "cell_type": "code",
   "execution_count": 55,
   "id": "8ea38ff6-277a-4b52-b583-60011a811180",
   "metadata": {},
   "outputs": [
    {
     "name": "stdout",
     "output_type": "stream",
     "text": [
      "Train accuracy: 0.6821322803553801\n",
      "Test accuracy: 0.6758779504893494\n",
      "              precision    recall  f1-score   support\n",
      "\n",
      "         0.0       0.71      0.76      0.74      1036\n",
      "         1.0       0.61      0.55      0.58       701\n",
      "\n",
      "    accuracy                           0.68      1737\n",
      "   macro avg       0.66      0.66      0.66      1737\n",
      "weighted avg       0.67      0.68      0.67      1737\n",
      "\n"
     ]
    }
   ],
   "source": [
    "print(\"Train accuracy:\", model.score(X_train, y_train))\n",
    "print(\"Test accuracy:\", model.score(X_test, y_test))\n",
    "\n",
    "y_pred = model.predict(X_test)\n",
    "print(classification_report(y_test, y_pred))"
   ]
  },
  {
   "cell_type": "markdown",
   "id": "3941f0d9-7304-4be9-8481-5153f5aaf2b2",
   "metadata": {},
   "source": [
    "### Understanding the Model"
   ]
  },
  {
   "cell_type": "code",
   "execution_count": 56,
   "id": "1ca2a06a-4099-4277-bacf-13612ae970a8",
   "metadata": {},
   "outputs": [
    {
     "name": "stdout",
     "output_type": "stream",
     "text": [
      "[[-1.20056817 -1.70668254  1.63495086  0.26321473  0.34018405  0.30627648\n",
      "   0.12780741  0.37428429  0.70382276 -0.28562415 -0.15798096  0.44470726\n",
      "  -0.19790827  0.34331344 -0.1232417   0.05715149 -0.17992195  0.14566232\n",
      "  -0.08421229  0.07574531 -0.0354862   0.52808981 -0.91092654 -0.19363566\n",
      "   0.57757454]]\n"
     ]
    }
   ],
   "source": [
    "print(model.coef_)"
   ]
  },
  {
   "cell_type": "code",
   "execution_count": 57,
   "id": "962a3c9f-2e4e-4d09-ab99-918b090c8a85",
   "metadata": {},
   "outputs": [
    {
     "name": "stdout",
     "output_type": "stream",
     "text": [
      "height : -1.7066825418251692\n",
      "weight : 1.6349508573271663\n",
      "age : -1.200568173988439\n",
      "income_high : -0.9109265429561124\n",
      "worried : 0.7038227572364988\n",
      "income_med : 0.5775745448536088\n",
      "income_gov : 0.5280898124787305\n",
      "gender_other : 0.4447072587492971\n",
      "working : 0.37428429372832955\n",
      "blood_type_abp : 0.3433134400053781\n",
      "smoking : 0.3401840544127811\n",
      "alcohol : 0.3062764822122812\n",
      "gender_female : -0.28562414846660505\n",
      "insurance : 0.26321472853276334\n",
      "blood_type_abn : -0.19790827235867778\n",
      "income_low : -0.19363566224581338\n",
      "blood_type_bn : -0.17992195370717984\n",
      "gender_male : -0.15798095815227156\n",
      "blood_type_bp : 0.14566232248501165\n",
      "contacts_count : 0.12780741165349688\n"
     ]
    }
   ],
   "source": [
    "coef = model.coef_[0]\n",
    "feature_names = X.columns\n",
    "\n",
    "indices = np.argsort(np.absolute(coef))\n",
    "indices = np.flip(indices, axis=0)\n",
    "\n",
    "indices = indices[:20]\n",
    "\n",
    "for i in indices:\n",
    "    print(feature_names[i], ':', coef[i])"
   ]
  },
  {
   "cell_type": "markdown",
   "id": "b4318205-a632-4d72-a91c-41c3032376cb",
   "metadata": {},
   "source": [
    "## Model 2 (Finding Optimal Hyperparameters with GridSearchCV)"
   ]
  },
  {
   "cell_type": "code",
   "execution_count": 58,
   "id": "1e4a188f-b326-455b-b8c6-87c1154afbfd",
   "metadata": {},
   "outputs": [
    {
     "data": {
      "text/html": [
       "<style>#sk-container-id-2 {color: black;background-color: white;}#sk-container-id-2 pre{padding: 0;}#sk-container-id-2 div.sk-toggleable {background-color: white;}#sk-container-id-2 label.sk-toggleable__label {cursor: pointer;display: block;width: 100%;margin-bottom: 0;padding: 0.3em;box-sizing: border-box;text-align: center;}#sk-container-id-2 label.sk-toggleable__label-arrow:before {content: \"▸\";float: left;margin-right: 0.25em;color: #696969;}#sk-container-id-2 label.sk-toggleable__label-arrow:hover:before {color: black;}#sk-container-id-2 div.sk-estimator:hover label.sk-toggleable__label-arrow:before {color: black;}#sk-container-id-2 div.sk-toggleable__content {max-height: 0;max-width: 0;overflow: hidden;text-align: left;background-color: #f0f8ff;}#sk-container-id-2 div.sk-toggleable__content pre {margin: 0.2em;color: black;border-radius: 0.25em;background-color: #f0f8ff;}#sk-container-id-2 input.sk-toggleable__control:checked~div.sk-toggleable__content {max-height: 200px;max-width: 100%;overflow: auto;}#sk-container-id-2 input.sk-toggleable__control:checked~label.sk-toggleable__label-arrow:before {content: \"▾\";}#sk-container-id-2 div.sk-estimator input.sk-toggleable__control:checked~label.sk-toggleable__label {background-color: #d4ebff;}#sk-container-id-2 div.sk-label input.sk-toggleable__control:checked~label.sk-toggleable__label {background-color: #d4ebff;}#sk-container-id-2 input.sk-hidden--visually {border: 0;clip: rect(1px 1px 1px 1px);clip: rect(1px, 1px, 1px, 1px);height: 1px;margin: -1px;overflow: hidden;padding: 0;position: absolute;width: 1px;}#sk-container-id-2 div.sk-estimator {font-family: monospace;background-color: #f0f8ff;border: 1px dotted black;border-radius: 0.25em;box-sizing: border-box;margin-bottom: 0.5em;}#sk-container-id-2 div.sk-estimator:hover {background-color: #d4ebff;}#sk-container-id-2 div.sk-parallel-item::after {content: \"\";width: 100%;border-bottom: 1px solid gray;flex-grow: 1;}#sk-container-id-2 div.sk-label:hover label.sk-toggleable__label {background-color: #d4ebff;}#sk-container-id-2 div.sk-serial::before {content: \"\";position: absolute;border-left: 1px solid gray;box-sizing: border-box;top: 0;bottom: 0;left: 50%;z-index: 0;}#sk-container-id-2 div.sk-serial {display: flex;flex-direction: column;align-items: center;background-color: white;padding-right: 0.2em;padding-left: 0.2em;position: relative;}#sk-container-id-2 div.sk-item {position: relative;z-index: 1;}#sk-container-id-2 div.sk-parallel {display: flex;align-items: stretch;justify-content: center;background-color: white;position: relative;}#sk-container-id-2 div.sk-item::before, #sk-container-id-2 div.sk-parallel-item::before {content: \"\";position: absolute;border-left: 1px solid gray;box-sizing: border-box;top: 0;bottom: 0;left: 50%;z-index: -1;}#sk-container-id-2 div.sk-parallel-item {display: flex;flex-direction: column;z-index: 1;position: relative;background-color: white;}#sk-container-id-2 div.sk-parallel-item:first-child::after {align-self: flex-end;width: 50%;}#sk-container-id-2 div.sk-parallel-item:last-child::after {align-self: flex-start;width: 50%;}#sk-container-id-2 div.sk-parallel-item:only-child::after {width: 0;}#sk-container-id-2 div.sk-dashed-wrapped {border: 1px dashed gray;margin: 0 0.4em 0.5em 0.4em;box-sizing: border-box;padding-bottom: 0.4em;background-color: white;}#sk-container-id-2 div.sk-label label {font-family: monospace;font-weight: bold;display: inline-block;line-height: 1.2em;}#sk-container-id-2 div.sk-label-container {text-align: center;}#sk-container-id-2 div.sk-container {/* jupyter's `normalize.less` sets `[hidden] { display: none; }` but bootstrap.min.css set `[hidden] { display: none !important; }` so we also need the `!important` here to be able to override the default hidden behavior on the sphinx rendered scikit-learn.org. See: https://github.com/scikit-learn/scikit-learn/issues/21755 */display: inline-block !important;position: relative;}#sk-container-id-2 div.sk-text-repr-fallback {display: none;}</style><div id=\"sk-container-id-2\" class=\"sk-top-container\"><div class=\"sk-text-repr-fallback\"><pre>GridSearchCV(cv=10, estimator=LogisticRegression(random_state=10), n_jobs=-1,\n",
       "             param_grid={&#x27;C&#x27;: [1e-06, 1e-05, 0.0001, 0.001, 0.01, 0.1, 1, 10,\n",
       "                               100, 1000]},\n",
       "             return_train_score=True)</pre><b>In a Jupyter environment, please rerun this cell to show the HTML representation or trust the notebook. <br />On GitHub, the HTML representation is unable to render, please try loading this page with nbviewer.org.</b></div><div class=\"sk-container\" hidden><div class=\"sk-item sk-dashed-wrapped\"><div class=\"sk-label-container\"><div class=\"sk-label sk-toggleable\"><input class=\"sk-toggleable__control sk-hidden--visually\" id=\"sk-estimator-id-2\" type=\"checkbox\" ><label for=\"sk-estimator-id-2\" class=\"sk-toggleable__label sk-toggleable__label-arrow\">GridSearchCV</label><div class=\"sk-toggleable__content\"><pre>GridSearchCV(cv=10, estimator=LogisticRegression(random_state=10), n_jobs=-1,\n",
       "             param_grid={&#x27;C&#x27;: [1e-06, 1e-05, 0.0001, 0.001, 0.01, 0.1, 1, 10,\n",
       "                               100, 1000]},\n",
       "             return_train_score=True)</pre></div></div></div><div class=\"sk-parallel\"><div class=\"sk-parallel-item\"><div class=\"sk-item\"><div class=\"sk-label-container\"><div class=\"sk-label sk-toggleable\"><input class=\"sk-toggleable__control sk-hidden--visually\" id=\"sk-estimator-id-3\" type=\"checkbox\" ><label for=\"sk-estimator-id-3\" class=\"sk-toggleable__label sk-toggleable__label-arrow\">estimator: LogisticRegression</label><div class=\"sk-toggleable__content\"><pre>LogisticRegression(random_state=10)</pre></div></div></div><div class=\"sk-serial\"><div class=\"sk-item\"><div class=\"sk-estimator sk-toggleable\"><input class=\"sk-toggleable__control sk-hidden--visually\" id=\"sk-estimator-id-4\" type=\"checkbox\" ><label for=\"sk-estimator-id-4\" class=\"sk-toggleable__label sk-toggleable__label-arrow\">LogisticRegression</label><div class=\"sk-toggleable__content\"><pre>LogisticRegression(random_state=10)</pre></div></div></div></div></div></div></div></div></div></div>"
      ],
      "text/plain": [
       "GridSearchCV(cv=10, estimator=LogisticRegression(random_state=10), n_jobs=-1,\n",
       "             param_grid={'C': [1e-06, 1e-05, 0.0001, 0.001, 0.01, 0.1, 1, 10,\n",
       "                               100, 1000]},\n",
       "             return_train_score=True)"
      ]
     },
     "execution_count": 58,
     "metadata": {},
     "output_type": "execute_result"
    }
   ],
   "source": [
    "params = {'C': [pow(10, x) for x in range(-6, 4)]}\n",
    "\n",
    "cv = GridSearchCV(param_grid=params, estimator=LogisticRegression(random_state=rs),return_train_score=True, cv=10, n_jobs=-1)\n",
    "cv.fit(X_train, y_train)"
   ]
  },
  {
   "cell_type": "code",
   "execution_count": 59,
   "id": "5a0e1f0c-3b2c-4ae0-8343-dd881cc2f1ae",
   "metadata": {},
   "outputs": [
    {
     "name": "stdout",
     "output_type": "stream",
     "text": [
      "{'mean_fit_time': array([0.02210345, 0.00937538, 0.00427375, 0.00781744, 0.00583947,\n",
      "       0.00983028, 0.02881629, 0.02509515, 0.02500746, 0.02301528]), 'std_fit_time': array([0.00698858, 0.00765497, 0.00514179, 0.00781744, 0.0072395 ,\n",
      "       0.01004171, 0.0061509 , 0.00730512, 0.00765462, 0.00894157]), 'mean_score_time': array([0.00156271, 0.00156219, 0.        , 0.00156271, 0.00316701,\n",
      "       0.00312719, 0.        , 0.        , 0.        , 0.        ]), 'std_score_time': array([0.00468814, 0.00468657, 0.        , 0.00468814, 0.0054508 ,\n",
      "       0.00625439, 0.        , 0.        , 0.        , 0.        ]), 'param_C': masked_array(data=[1e-06, 1e-05, 0.0001, 0.001, 0.01, 0.1, 1, 10, 100,\n",
      "                   1000],\n",
      "             mask=[False, False, False, False, False, False, False, False,\n",
      "                   False, False],\n",
      "       fill_value='?',\n",
      "            dtype=object), 'params': [{'C': 1e-06}, {'C': 1e-05}, {'C': 0.0001}, {'C': 0.001}, {'C': 0.01}, {'C': 0.1}, {'C': 1}, {'C': 10}, {'C': 100}, {'C': 1000}], 'split0_test_score': array([0.59605911, 0.59605911, 0.59605911, 0.59605911, 0.6773399 ,\n",
      "       0.68719212, 0.70197044, 0.68965517, 0.68719212, 0.68719212]), 'split1_test_score': array([0.59605911, 0.59605911, 0.59605911, 0.59605911, 0.68226601,\n",
      "       0.68226601, 0.66995074, 0.66748768, 0.66502463, 0.66502463]), 'split2_test_score': array([0.59753086, 0.59753086, 0.59753086, 0.59753086, 0.67654321,\n",
      "       0.70617284, 0.6962963 , 0.7037037 , 0.70123457, 0.70123457]), 'split3_test_score': array([0.59753086, 0.59753086, 0.59753086, 0.59753086, 0.65679012,\n",
      "       0.67654321, 0.69876543, 0.6962963 , 0.6962963 , 0.6962963 ]), 'split4_test_score': array([0.59753086, 0.59753086, 0.59753086, 0.59753086, 0.62222222,\n",
      "       0.63950617, 0.64938272, 0.65185185, 0.65185185, 0.65185185]), 'split5_test_score': array([0.59753086, 0.59753086, 0.59753086, 0.59753086, 0.63703704,\n",
      "       0.63703704, 0.64938272, 0.64938272, 0.64938272, 0.64938272]), 'split6_test_score': array([0.59753086, 0.59753086, 0.59753086, 0.59753086, 0.66666667,\n",
      "       0.67654321, 0.69382716, 0.68395062, 0.68395062, 0.68395062]), 'split7_test_score': array([0.59753086, 0.59753086, 0.59753086, 0.59753086, 0.63703704,\n",
      "       0.63703704, 0.65432099, 0.64691358, 0.64938272, 0.64938272]), 'split8_test_score': array([0.59506173, 0.59506173, 0.59506173, 0.59506173, 0.6345679 ,\n",
      "       0.67407407, 0.66419753, 0.65925926, 0.65925926, 0.65925926]), 'split9_test_score': array([0.59506173, 0.59506173, 0.59506173, 0.59506173, 0.67901235,\n",
      "       0.68641975, 0.69135802, 0.7037037 , 0.70617284, 0.70617284]), 'mean_test_score': array([0.59674269, 0.59674269, 0.59674269, 0.59674269, 0.65694825,\n",
      "       0.67027915, 0.6769452 , 0.67522046, 0.67497476, 0.67497476]), 'std_test_score': array([0.00101554, 0.00101554, 0.00101554, 0.00101554, 0.02126442,\n",
      "       0.022866  , 0.02052375, 0.02163533, 0.02130233, 0.02130233]), 'rank_test_score': array([7, 7, 7, 7, 6, 5, 1, 2, 3, 3]), 'split0_train_score': array([0.59681843, 0.59681843, 0.59681843, 0.59681843, 0.66072408,\n",
      "       0.67443774, 0.67910038, 0.67772902, 0.67772902, 0.67800329]), 'split1_train_score': array([0.59681843, 0.59681843, 0.59681843, 0.59681843, 0.66319254,\n",
      "       0.67800329, 0.6799232 , 0.68019748, 0.6810203 , 0.6810203 ]), 'split2_train_score': array([0.59665478, 0.59665478, 0.59665478, 0.59665478, 0.66136551,\n",
      "       0.67096243, 0.67754319, 0.67672059, 0.6756238 , 0.6756238 ]), 'split3_train_score': array([0.59665478, 0.59665478, 0.59665478, 0.59665478, 0.66355909,\n",
      "       0.67836578, 0.68165616, 0.68055936, 0.68193035, 0.68193035]), 'split4_train_score': array([0.59665478, 0.59665478, 0.59665478, 0.59665478, 0.66657527,\n",
      "       0.67946257, 0.68138196, 0.68439814, 0.68576913, 0.68576913]), 'split5_train_score': array([0.59665478, 0.59665478, 0.59665478, 0.59665478, 0.66794626,\n",
      "       0.68220455, 0.68768851, 0.68165616, 0.68028517, 0.68028517]), 'split6_train_score': array([0.59665478, 0.59665478, 0.59665478, 0.59665478, 0.66794626,\n",
      "       0.67836578, 0.68138196, 0.68001097, 0.68055936, 0.68028517]), 'split7_train_score': array([0.59665478, 0.59665478, 0.59665478, 0.59665478, 0.66794626,\n",
      "       0.68275295, 0.68330134, 0.68659172, 0.68741431, 0.68741431]), 'split8_train_score': array([0.59692898, 0.59692898, 0.59692898, 0.59692898, 0.66602687,\n",
      "       0.67672059, 0.68439814, 0.68549493, 0.68576913, 0.68604332]), 'split9_train_score': array([0.59692898, 0.59692898, 0.59692898, 0.59692898, 0.66081711,\n",
      "       0.67343022, 0.67973677, 0.67891418, 0.67973677, 0.67973677]), 'mean_train_score': array([0.59674235, 0.59674235, 0.59674235, 0.59674235, 0.66460992,\n",
      "       0.67747059, 0.68161116, 0.68122725, 0.68158373, 0.68161116]), 'std_train_score': array([0.0001128 , 0.0001128 , 0.0001128 , 0.0001128 , 0.00287034,\n",
      "       0.00353001, 0.00277273, 0.0031323 , 0.00354957, 0.00356308])}\n"
     ]
    }
   ],
   "source": [
    "result_set = cv.cv_results_\n",
    "print(result_set)"
   ]
  },
  {
   "cell_type": "code",
   "execution_count": 60,
   "id": "dd6a5e3f-ed49-44e2-8caa-53878fdb7a50",
   "metadata": {},
   "outputs": [
    {
     "name": "stdout",
     "output_type": "stream",
     "text": [
      "Total number of models:  10\n"
     ]
    },
    {
     "data": {
      "image/png": "[encoded data removed]",
      "text/plain": [
       "<Figure size 640x480 with 1 Axes>"
      ]
     },
     "metadata": {},
     "output_type": "display_data"
    }
   ],
   "source": [
    "import matplotlib.pyplot as plt\n",
    "train_result = result_set['split0_train_score']\n",
    "test_result = result_set['split0_test_score']\n",
    "print(\"Total number of models: \", len(test_result))\n",
    "\n",
    "plt.plot(range(0, len(train_result)), train_result, 'b', range(0,len(test_result)), test_result, 'r')\n",
    "plt.xlabel('Hyperparameter C\\nBlue = training acc. Red = test acc.')\n",
    "plt.xticks(range(0, len(train_result)),[pow(10, x) for x in range(-6, 4)])\n",
    "plt.ylabel('score')\n",
    "plt.show()"
   ]
  },
  {
   "cell_type": "code",
   "execution_count": 61,
   "id": "d78c1c8a-7846-4468-8883-71eb94bcbf01",
   "metadata": {},
   "outputs": [
    {
     "name": "stdout",
     "output_type": "stream",
     "text": [
      "Total number of models:  10\n"
     ]
    },
    {
     "data": {
      "image/png": "[encoded data removed]",
      "text/plain": [
       "<Figure size 640x480 with 1 Axes>"
      ]
     },
     "metadata": {},
     "output_type": "display_data"
    }
   ],
   "source": [
    "import matplotlib.pyplot as plt\n",
    "\n",
    "train_result = result_set['mean_train_score']\n",
    "test_result = result_set['mean_test_score']\n",
    "print(\"Total number of models: \", len(test_result))\n",
    "\n",
    "plt.plot(range(0, len(train_result)), train_result, 'b', range(0,len(test_result)), test_result, 'r')\n",
    "plt.xlabel('Hyperparameter C\\nBlue = training acc. Red = test acc.')\n",
    "plt.xticks(range(0, len(train_result)),[pow(10, x) for x in range(-6, 4)])\n",
    "plt.ylabel('score')\n",
    "plt.show()"
   ]
  },
  {
   "cell_type": "code",
   "execution_count": 62,
   "id": "1c833844-e42c-4bd6-a3d5-99c9e3f0173f",
   "metadata": {},
   "outputs": [
    {
     "name": "stdout",
     "output_type": "stream",
     "text": [
      "{'C': 1}\n"
     ]
    }
   ],
   "source": [
    "print(cv.best_params_)"
   ]
  },
  {
   "cell_type": "code",
   "execution_count": 63,
   "id": "04a1ffc2-6366-4523-9c7c-3d7a8eaa8614",
   "metadata": {},
   "outputs": [
    {
     "name": "stdout",
     "output_type": "stream",
     "text": [
      "Train accuracy: 0.6821322803553801\n",
      "Test accuracy: 0.6758779504893494\n",
      "              precision    recall  f1-score   support\n",
      "\n",
      "         0.0       0.71      0.76      0.74      1036\n",
      "         1.0       0.61      0.55      0.58       701\n",
      "\n",
      "    accuracy                           0.68      1737\n",
      "   macro avg       0.66      0.66      0.66      1737\n",
      "weighted avg       0.67      0.68      0.67      1737\n",
      "\n"
     ]
    }
   ],
   "source": [
    "cv.fit(X_train, y_train)\n",
    "\n",
    "print(\"Train accuracy:\", cv.score(X_train, y_train))\n",
    "print(\"Test accuracy:\", cv.score(X_test, y_test))\n",
    "\n",
    "y_pred = cv.predict(X_test)\n",
    "print(classification_report(y_test, y_pred))"
   ]
  },
  {
   "cell_type": "code",
   "execution_count": 64,
   "id": "f18133f5-96fc-4190-a249-d775e60b0fce",
   "metadata": {},
   "outputs": [
    {
     "name": "stdout",
     "output_type": "stream",
     "text": [
      "Top 20 most important variables after finding optimal hyperparameters with GridSearchCV:\n",
      "height : -1.7066825418251692\n",
      "weight : 1.6349508573271663\n",
      "age : -1.200568173988439\n",
      "income_high : -0.9109265429561124\n",
      "worried : 0.7038227572364988\n",
      "income_med : 0.5775745448536088\n",
      "income_gov : 0.5280898124787305\n",
      "gender_other : 0.4447072587492971\n",
      "working : 0.37428429372832955\n",
      "blood_type_abp : 0.3433134400053781\n",
      "smoking : 0.3401840544127811\n",
      "alcohol : 0.3062764822122812\n",
      "gender_female : -0.28562414846660505\n",
      "insurance : 0.26321472853276334\n",
      "blood_type_abn : -0.19790827235867778\n",
      "income_low : -0.19363566224581338\n",
      "blood_type_bn : -0.17992195370717984\n",
      "gender_male : -0.15798095815227156\n",
      "blood_type_bp : 0.14566232248501165\n",
      "contacts_count : 0.12780741165349688\n"
     ]
    }
   ],
   "source": [
    "best_model = cv.best_estimator_\n",
    "coef = best_model.coef_[0]\n",
    "feature_names = X.columns\n",
    "\n",
    "indices = np.argsort(np.absolute(coef))\n",
    "indices = np.flip(indices, axis=0)\n",
    "\n",
    "indices = indices[:20]\n",
    "\n",
    "print(\"Top 20 most important variables after finding optimal hyperparameters with GridSearchCV:\")\n",
    "for i in indices:\n",
    "    print(feature_names[i], ':', coef[i])"
   ]
  },
  {
   "cell_type": "markdown",
   "id": "a63533e0-35f9-4865-81a1-3e8bb337eb55",
   "metadata": {},
   "source": [
    "## Model 3 (Feature selection using Recursive Feature Elimination)"
   ]
  },
  {
   "cell_type": "code",
   "execution_count": 65,
   "id": "0316b503-fbb7-4c9a-9545-1db78cca7477",
   "metadata": {},
   "outputs": [
    {
     "name": "stdout",
     "output_type": "stream",
     "text": [
      "Original feature set 25\n",
      "Number of features after elimination 15\n"
     ]
    }
   ],
   "source": [
    "from sklearn.feature_selection import RFECV\n",
    "\n",
    "rfe = RFECV(estimator = LogisticRegression(random_state=rs), cv=10)\n",
    "rfe.fit(X_train, y_train) \n",
    "\n",
    "\n",
    "print(\"Original feature set\", X_train.shape[1])\n",
    "print(\"Number of features after elimination\", rfe.n_features_)"
   ]
  },
  {
   "cell_type": "code",
   "execution_count": 66,
   "id": "b5def3a2-d3ef-4a84-a901-21561a8ffac9",
   "metadata": {},
   "outputs": [],
   "source": [
    "X_train_sel = rfe.transform(X_train)\n",
    "X_test_sel = rfe.transform(X_test)"
   ]
  },
  {
   "cell_type": "code",
   "execution_count": 67,
   "id": "e17ff6a0-ecbe-42b0-a6fe-3c83b7af3d5e",
   "metadata": {},
   "outputs": [
    {
     "name": "stdout",
     "output_type": "stream",
     "text": [
      "Train accuracy: 0.6848469891411648\n",
      "Test accuracy: 0.6856649395509499\n",
      "              precision    recall  f1-score   support\n",
      "\n",
      "         0.0       0.72      0.78      0.75      1036\n",
      "         1.0       0.63      0.55      0.59       701\n",
      "\n",
      "    accuracy                           0.69      1737\n",
      "   macro avg       0.67      0.66      0.67      1737\n",
      "weighted avg       0.68      0.69      0.68      1737\n",
      "\n",
      "{'C': 100}\n"
     ]
    }
   ],
   "source": [
    "params = {'C': [pow(10, x) for x in range(-6, 4)]}\n",
    "\n",
    "rfe_cv = GridSearchCV(param_grid=params, estimator=LogisticRegression(random_state=rs), cv=10, n_jobs=-1)\n",
    "rfe_cv.fit(X_train_sel, y_train)\n",
    "\n",
    "print(\"Train accuracy:\", rfe_cv.score(X_train_sel, y_train))\n",
    "print(\"Test accuracy:\", rfe_cv.score(X_test_sel, y_test))\n",
    "\n",
    "y_pred = rfe_cv.predict(X_test_sel)\n",
    "print(classification_report(y_test, y_pred))\n",
    "\n",
    "print(rfe_cv.best_params_)"
   ]
  },
  {
   "cell_type": "code",
   "execution_count": 68,
   "id": "f2207d0f-aa33-45e3-8270-5e7eb9852bd3",
   "metadata": {},
   "outputs": [
    {
     "name": "stdout",
     "output_type": "stream",
     "text": [
      "Top 14 most important variables after Recursive Feature Elimination:\n",
      "weight : 1.7785915531558811\n",
      "height : -1.6815642168089215\n",
      "age : -1.251696689658755\n",
      "income_high : -1.0381959454866314\n",
      "gender_other : 0.8709008579202093\n",
      "worried : 0.6636319916665523\n",
      "income_med : 0.4310601353142977\n",
      "working : 0.4179996753097404\n",
      "income_gov : 0.39464913836998994\n",
      "income_low : -0.3598253546277152\n",
      "smoking : 0.34859127100920245\n",
      "blood_type_abp : 0.3424949894291983\n",
      "alcohol : 0.3045545379940412\n",
      "insurance : 0.25111253575073134\n"
     ]
    }
   ],
   "source": [
    "best_model_rfe = rfe_cv.best_estimator_\n",
    "coef_rfe = best_model_rfe.coef_[0]\n",
    "feature_names_rfe = X.columns[rfe.support_]  \n",
    "\n",
    "indices_rfe = np.argsort(np.absolute(coef_rfe))\n",
    "indices_rfe = np.flip(indices_rfe, axis=0)\n",
    "\n",
    "indices_rfe = indices_rfe[:14]\n",
    "\n",
    "print(\"Top 14 most important variables after Recursive Feature Elimination:\")\n",
    "for i in indices_rfe:\n",
    "    print(feature_names_rfe[i], ':', coef_rfe[i])"
   ]
  },
  {
   "cell_type": "markdown",
   "id": "a11ae26e-f60c-481e-b457-792808704be7",
   "metadata": {},
   "source": [
    "## Model Comparision"
   ]
  },
  {
   "cell_type": "code",
   "execution_count": 69,
   "id": "9782a738-29fd-4da1-a49b-778fa519c8f1",
   "metadata": {},
   "outputs": [
    {
     "name": "stdout",
     "output_type": "stream",
     "text": [
      "ROC index on test for `model`: 0.717891980017515\n",
      "ROC index on test for `cv`: 0.717891980017515\n",
      "ROC index on test for `rfe_cv`: 0.722513755858977\n"
     ]
    }
   ],
   "source": [
    "from sklearn.metrics import roc_auc_score\n",
    "\n",
    "y_pred_proba_lr = model.predict_proba(X_test)\n",
    "y_pred_proba_lr_cv = cv.predict_proba(X_test)\n",
    "y_pred_proba_rfe_cv = rfe_cv.predict_proba(X_test_sel)\n",
    "\n",
    "roc_index_lr = roc_auc_score(y_test, y_pred_proba_lr[:, 1])\n",
    "roc_index_lr_cv = roc_auc_score(y_test, y_pred_proba_lr_cv[:, 1])\n",
    "roc_index_rfe_cv = roc_auc_score(y_test, y_pred_proba_rfe_cv[:, 1])\n",
    "\n",
    "print(\"ROC index on test for `model`:\", roc_index_lr)\n",
    "print(\"ROC index on test for `cv`:\", roc_index_lr_cv)\n",
    "print(\"ROC index on test for `rfe_cv`:\", roc_index_rfe_cv)"
   ]
  },
  {
   "cell_type": "code",
   "execution_count": 70,
   "id": "8542f85d-a290-4e78-a9c5-69af8b04f4bb",
   "metadata": {},
   "outputs": [],
   "source": [
    "from sklearn.metrics import roc_curve\n",
    "\n",
    "fpr_lr, tpr_lr, thresholds_lr = roc_curve(y_test, y_pred_proba_lr[:,1])\n",
    "fpr_lr_cv, tpr_lr_cv, thresholds_lr_cv = roc_curve(y_test, y_pred_proba_lr_cv[:,1])\n",
    "fpr_rfe_cv, tpr_rfe_cv, thresholds_rfe_cv = roc_curve(y_test, y_pred_proba_rfe_cv[:,1])"
   ]
  },
  {
   "cell_type": "code",
   "execution_count": 71,
   "id": "9349f8c6-d201-41e3-8bf0-4d50b71d6af3",
   "metadata": {},
   "outputs": [
    {
     "data": {
      "image/png": "[encoded data removed]",
      "text/plain": [
       "<Figure size 640x480 with 1 Axes>"
      ]
     },
     "metadata": {},
     "output_type": "display_data"
    }
   ],
   "source": [
    "import matplotlib.pyplot as plt\n",
    "\n",
    "plt.plot(fpr_lr, tpr_lr, label='ROC Curve for `model` {:.3f}'.format(roc_index_lr), color='red', lw=0.5)\n",
    "plt.plot(fpr_lr_cv, tpr_lr_cv, label='ROC Curve for `cv` {:.3f}'.format(roc_index_lr_cv), color='green', lw=0.5)\n",
    "plt.plot(fpr_rfe_cv, tpr_rfe_cv, label='ROC Curve for `rfe_cv` {:.3f}'.format(roc_index_rfe_cv), color='blue', lw=0.5)\n",
    "\n",
    "plt.plot([0, 1], [0, 1], color='navy', lw=0.5, linestyle='--')\n",
    "plt.xlim([0.0, 1.0])\n",
    "plt.ylim([0.0, 1.0])\n",
    "plt.xlabel('False Positive Rate')\n",
    "plt.ylabel('True Positive Rate')\n",
    "plt.title('Receiver operating characteristic for all models')\n",
    "plt.legend(loc=\"lower right\")\n",
    "plt.show()"
   ]
  },
  {
   "cell_type": "markdown",
   "id": "c31f29f2-d86f-4121-9129-395018410f91",
   "metadata": {},
   "source": [
    "# 3. Neural Networks"
   ]
  },
  {
   "cell_type": "code",
   "execution_count": 72,
   "id": "c9b5af92-4274-42cb-a14c-628f97bd194d",
   "metadata": {},
   "outputs": [
    {
     "data": {
      "text/html": [
       "<div>\n",
       "<style scoped>\n",
       "    .dataframe tbody tr th:only-of-type {\n",
       "        vertical-align: middle;\n",
       "    }\n",
       "\n",
       "    .dataframe tbody tr th {\n",
       "        vertical-align: top;\n",
       "    }\n",
       "\n",
       "    .dataframe thead th {\n",
       "        text-align: right;\n",
       "    }\n",
       "</style>\n",
       "<table border=\"1\" class=\"dataframe\">\n",
       "  <thead>\n",
       "    <tr style=\"text-align: right;\">\n",
       "      <th></th>\n",
       "      <th>age</th>\n",
       "      <th>height</th>\n",
       "      <th>weight</th>\n",
       "      <th>insurance</th>\n",
       "      <th>smoking</th>\n",
       "      <th>alcohol</th>\n",
       "      <th>contacts_count</th>\n",
       "      <th>working</th>\n",
       "      <th>worried</th>\n",
       "      <th>covid19_positive</th>\n",
       "      <th>...</th>\n",
       "      <th>blood_type_ap</th>\n",
       "      <th>blood_type_bn</th>\n",
       "      <th>blood_type_bp</th>\n",
       "      <th>blood_type_on</th>\n",
       "      <th>blood_type_op</th>\n",
       "      <th>blood_type_unknown</th>\n",
       "      <th>income_gov</th>\n",
       "      <th>income_high</th>\n",
       "      <th>income_low</th>\n",
       "      <th>income_med</th>\n",
       "    </tr>\n",
       "  </thead>\n",
       "  <tbody>\n",
       "    <tr>\n",
       "      <th>0</th>\n",
       "      <td>0.2</td>\n",
       "      <td>0.609375</td>\n",
       "      <td>0.441176</td>\n",
       "      <td>1.0</td>\n",
       "      <td>0.000000</td>\n",
       "      <td>0.000000</td>\n",
       "      <td>0.428571</td>\n",
       "      <td>0.75</td>\n",
       "      <td>0.50</td>\n",
       "      <td>1.0</td>\n",
       "      <td>...</td>\n",
       "      <td>0.0</td>\n",
       "      <td>0.0</td>\n",
       "      <td>0.0</td>\n",
       "      <td>0.0</td>\n",
       "      <td>1.0</td>\n",
       "      <td>0.0</td>\n",
       "      <td>0.0</td>\n",
       "      <td>0.0</td>\n",
       "      <td>0.0</td>\n",
       "      <td>1.0</td>\n",
       "    </tr>\n",
       "    <tr>\n",
       "      <th>1</th>\n",
       "      <td>0.7</td>\n",
       "      <td>0.421875</td>\n",
       "      <td>0.132353</td>\n",
       "      <td>1.0</td>\n",
       "      <td>0.000000</td>\n",
       "      <td>0.000000</td>\n",
       "      <td>0.095238</td>\n",
       "      <td>0.00</td>\n",
       "      <td>0.50</td>\n",
       "      <td>1.0</td>\n",
       "      <td>...</td>\n",
       "      <td>0.0</td>\n",
       "      <td>0.0</td>\n",
       "      <td>1.0</td>\n",
       "      <td>0.0</td>\n",
       "      <td>0.0</td>\n",
       "      <td>0.0</td>\n",
       "      <td>0.0</td>\n",
       "      <td>0.0</td>\n",
       "      <td>0.0</td>\n",
       "      <td>1.0</td>\n",
       "    </tr>\n",
       "    <tr>\n",
       "      <th>2</th>\n",
       "      <td>0.4</td>\n",
       "      <td>0.421875</td>\n",
       "      <td>0.250000</td>\n",
       "      <td>1.0</td>\n",
       "      <td>0.000000</td>\n",
       "      <td>0.142857</td>\n",
       "      <td>0.238095</td>\n",
       "      <td>0.25</td>\n",
       "      <td>0.50</td>\n",
       "      <td>1.0</td>\n",
       "      <td>...</td>\n",
       "      <td>0.0</td>\n",
       "      <td>0.0</td>\n",
       "      <td>0.0</td>\n",
       "      <td>0.0</td>\n",
       "      <td>0.0</td>\n",
       "      <td>1.0</td>\n",
       "      <td>0.0</td>\n",
       "      <td>0.0</td>\n",
       "      <td>0.0</td>\n",
       "      <td>1.0</td>\n",
       "    </tr>\n",
       "    <tr>\n",
       "      <th>3</th>\n",
       "      <td>0.4</td>\n",
       "      <td>0.468750</td>\n",
       "      <td>0.117647</td>\n",
       "      <td>1.0</td>\n",
       "      <td>0.571429</td>\n",
       "      <td>0.142857</td>\n",
       "      <td>0.285714</td>\n",
       "      <td>1.00</td>\n",
       "      <td>0.50</td>\n",
       "      <td>1.0</td>\n",
       "      <td>...</td>\n",
       "      <td>0.0</td>\n",
       "      <td>0.0</td>\n",
       "      <td>1.0</td>\n",
       "      <td>0.0</td>\n",
       "      <td>0.0</td>\n",
       "      <td>0.0</td>\n",
       "      <td>0.0</td>\n",
       "      <td>0.0</td>\n",
       "      <td>0.0</td>\n",
       "      <td>1.0</td>\n",
       "    </tr>\n",
       "    <tr>\n",
       "      <th>4</th>\n",
       "      <td>0.3</td>\n",
       "      <td>0.421875</td>\n",
       "      <td>0.147059</td>\n",
       "      <td>1.0</td>\n",
       "      <td>0.000000</td>\n",
       "      <td>0.142857</td>\n",
       "      <td>0.095238</td>\n",
       "      <td>1.00</td>\n",
       "      <td>0.75</td>\n",
       "      <td>1.0</td>\n",
       "      <td>...</td>\n",
       "      <td>0.0</td>\n",
       "      <td>0.0</td>\n",
       "      <td>0.0</td>\n",
       "      <td>0.0</td>\n",
       "      <td>1.0</td>\n",
       "      <td>0.0</td>\n",
       "      <td>0.0</td>\n",
       "      <td>0.0</td>\n",
       "      <td>0.0</td>\n",
       "      <td>1.0</td>\n",
       "    </tr>\n",
       "    <tr>\n",
       "      <th>...</th>\n",
       "      <td>...</td>\n",
       "      <td>...</td>\n",
       "      <td>...</td>\n",
       "      <td>...</td>\n",
       "      <td>...</td>\n",
       "      <td>...</td>\n",
       "      <td>...</td>\n",
       "      <td>...</td>\n",
       "      <td>...</td>\n",
       "      <td>...</td>\n",
       "      <td>...</td>\n",
       "      <td>...</td>\n",
       "      <td>...</td>\n",
       "      <td>...</td>\n",
       "      <td>...</td>\n",
       "      <td>...</td>\n",
       "      <td>...</td>\n",
       "      <td>...</td>\n",
       "      <td>...</td>\n",
       "      <td>...</td>\n",
       "      <td>...</td>\n",
       "    </tr>\n",
       "    <tr>\n",
       "      <th>5784</th>\n",
       "      <td>0.4</td>\n",
       "      <td>0.578125</td>\n",
       "      <td>0.367647</td>\n",
       "      <td>1.0</td>\n",
       "      <td>0.142857</td>\n",
       "      <td>0.214286</td>\n",
       "      <td>0.142857</td>\n",
       "      <td>1.00</td>\n",
       "      <td>0.75</td>\n",
       "      <td>1.0</td>\n",
       "      <td>...</td>\n",
       "      <td>1.0</td>\n",
       "      <td>0.0</td>\n",
       "      <td>0.0</td>\n",
       "      <td>0.0</td>\n",
       "      <td>0.0</td>\n",
       "      <td>0.0</td>\n",
       "      <td>0.0</td>\n",
       "      <td>0.0</td>\n",
       "      <td>0.0</td>\n",
       "      <td>1.0</td>\n",
       "    </tr>\n",
       "    <tr>\n",
       "      <th>5785</th>\n",
       "      <td>0.2</td>\n",
       "      <td>0.453125</td>\n",
       "      <td>0.117647</td>\n",
       "      <td>1.0</td>\n",
       "      <td>0.000000</td>\n",
       "      <td>0.142857</td>\n",
       "      <td>0.952381</td>\n",
       "      <td>1.00</td>\n",
       "      <td>0.75</td>\n",
       "      <td>0.0</td>\n",
       "      <td>...</td>\n",
       "      <td>1.0</td>\n",
       "      <td>0.0</td>\n",
       "      <td>0.0</td>\n",
       "      <td>0.0</td>\n",
       "      <td>0.0</td>\n",
       "      <td>0.0</td>\n",
       "      <td>0.0</td>\n",
       "      <td>0.0</td>\n",
       "      <td>0.0</td>\n",
       "      <td>1.0</td>\n",
       "    </tr>\n",
       "    <tr>\n",
       "      <th>5786</th>\n",
       "      <td>0.2</td>\n",
       "      <td>0.390625</td>\n",
       "      <td>0.073529</td>\n",
       "      <td>1.0</td>\n",
       "      <td>0.000000</td>\n",
       "      <td>0.142857</td>\n",
       "      <td>0.952381</td>\n",
       "      <td>1.00</td>\n",
       "      <td>0.50</td>\n",
       "      <td>0.0</td>\n",
       "      <td>...</td>\n",
       "      <td>0.0</td>\n",
       "      <td>0.0</td>\n",
       "      <td>0.0</td>\n",
       "      <td>0.0</td>\n",
       "      <td>1.0</td>\n",
       "      <td>0.0</td>\n",
       "      <td>0.0</td>\n",
       "      <td>0.0</td>\n",
       "      <td>0.0</td>\n",
       "      <td>1.0</td>\n",
       "    </tr>\n",
       "    <tr>\n",
       "      <th>5787</th>\n",
       "      <td>0.4</td>\n",
       "      <td>0.625000</td>\n",
       "      <td>0.691176</td>\n",
       "      <td>1.0</td>\n",
       "      <td>0.000000</td>\n",
       "      <td>0.142857</td>\n",
       "      <td>0.476190</td>\n",
       "      <td>0.75</td>\n",
       "      <td>0.50</td>\n",
       "      <td>1.0</td>\n",
       "      <td>...</td>\n",
       "      <td>0.0</td>\n",
       "      <td>0.0</td>\n",
       "      <td>0.0</td>\n",
       "      <td>0.0</td>\n",
       "      <td>1.0</td>\n",
       "      <td>0.0</td>\n",
       "      <td>0.0</td>\n",
       "      <td>0.0</td>\n",
       "      <td>0.0</td>\n",
       "      <td>1.0</td>\n",
       "    </tr>\n",
       "    <tr>\n",
       "      <th>5788</th>\n",
       "      <td>0.5</td>\n",
       "      <td>0.484375</td>\n",
       "      <td>0.382353</td>\n",
       "      <td>1.0</td>\n",
       "      <td>0.000000</td>\n",
       "      <td>0.142857</td>\n",
       "      <td>1.000000</td>\n",
       "      <td>0.25</td>\n",
       "      <td>0.75</td>\n",
       "      <td>1.0</td>\n",
       "      <td>...</td>\n",
       "      <td>0.0</td>\n",
       "      <td>0.0</td>\n",
       "      <td>0.0</td>\n",
       "      <td>1.0</td>\n",
       "      <td>0.0</td>\n",
       "      <td>0.0</td>\n",
       "      <td>0.0</td>\n",
       "      <td>0.0</td>\n",
       "      <td>0.0</td>\n",
       "      <td>1.0</td>\n",
       "    </tr>\n",
       "  </tbody>\n",
       "</table>\n",
       "<p>5789 rows × 26 columns</p>\n",
       "</div>"
      ],
      "text/plain": [
       "      age    height    weight  insurance   smoking   alcohol  contacts_count  \\\n",
       "0     0.2  0.609375  0.441176        1.0  0.000000  0.000000        0.428571   \n",
       "1     0.7  0.421875  0.132353        1.0  0.000000  0.000000        0.095238   \n",
       "2     0.4  0.421875  0.250000        1.0  0.000000  0.142857        0.238095   \n",
       "3     0.4  0.468750  0.117647        1.0  0.571429  0.142857        0.285714   \n",
       "4     0.3  0.421875  0.147059        1.0  0.000000  0.142857        0.095238   \n",
       "...   ...       ...       ...        ...       ...       ...             ...   \n",
       "5784  0.4  0.578125  0.367647        1.0  0.142857  0.214286        0.142857   \n",
       "5785  0.2  0.453125  0.117647        1.0  0.000000  0.142857        0.952381   \n",
       "5786  0.2  0.390625  0.073529        1.0  0.000000  0.142857        0.952381   \n",
       "5787  0.4  0.625000  0.691176        1.0  0.000000  0.142857        0.476190   \n",
       "5788  0.5  0.484375  0.382353        1.0  0.000000  0.142857        1.000000   \n",
       "\n",
       "      working  worried  covid19_positive  ...  blood_type_ap  blood_type_bn  \\\n",
       "0        0.75     0.50               1.0  ...            0.0            0.0   \n",
       "1        0.00     0.50               1.0  ...            0.0            0.0   \n",
       "2        0.25     0.50               1.0  ...            0.0            0.0   \n",
       "3        1.00     0.50               1.0  ...            0.0            0.0   \n",
       "4        1.00     0.75               1.0  ...            0.0            0.0   \n",
       "...       ...      ...               ...  ...            ...            ...   \n",
       "5784     1.00     0.75               1.0  ...            1.0            0.0   \n",
       "5785     1.00     0.75               0.0  ...            1.0            0.0   \n",
       "5786     1.00     0.50               0.0  ...            0.0            0.0   \n",
       "5787     0.75     0.50               1.0  ...            0.0            0.0   \n",
       "5788     0.25     0.75               1.0  ...            0.0            0.0   \n",
       "\n",
       "      blood_type_bp  blood_type_on  blood_type_op  blood_type_unknown  \\\n",
       "0               0.0            0.0            1.0                 0.0   \n",
       "1               1.0            0.0            0.0                 0.0   \n",
       "2               0.0            0.0            0.0                 1.0   \n",
       "3               1.0            0.0            0.0                 0.0   \n",
       "4               0.0            0.0            1.0                 0.0   \n",
       "...             ...            ...            ...                 ...   \n",
       "5784            0.0            0.0            0.0                 0.0   \n",
       "5785            0.0            0.0            0.0                 0.0   \n",
       "5786            0.0            0.0            1.0                 0.0   \n",
       "5787            0.0            0.0            1.0                 0.0   \n",
       "5788            0.0            1.0            0.0                 0.0   \n",
       "\n",
       "      income_gov  income_high  income_low  income_med  \n",
       "0            0.0          0.0         0.0         1.0  \n",
       "1            0.0          0.0         0.0         1.0  \n",
       "2            0.0          0.0         0.0         1.0  \n",
       "3            0.0          0.0         0.0         1.0  \n",
       "4            0.0          0.0         0.0         1.0  \n",
       "...          ...          ...         ...         ...  \n",
       "5784         0.0          0.0         0.0         1.0  \n",
       "5785         0.0          0.0         0.0         1.0  \n",
       "5786         0.0          0.0         0.0         1.0  \n",
       "5787         0.0          0.0         0.0         1.0  \n",
       "5788         0.0          0.0         0.0         1.0  \n",
       "\n",
       "[5789 rows x 26 columns]"
      ]
     },
     "execution_count": 72,
     "metadata": {},
     "output_type": "execute_result"
    }
   ],
   "source": [
    "file_path = \"data/\"\n",
    "file_name = \"D2-processed.csv\"\n",
    "df_proc = pd.read_csv(f\"{file_path}{file_name}\")\n",
    "\n",
    "df_proc"
   ]
  },
  {
   "cell_type": "markdown",
   "id": "0c37b820-9675-4379-bd7d-59465aa9b038",
   "metadata": {},
   "source": [
    "## Splitting Data"
   ]
  },
  {
   "cell_type": "code",
   "execution_count": 73,
   "id": "a638dc31-59e2-455e-a6df-76f19ea21492",
   "metadata": {},
   "outputs": [],
   "source": [
    "# target/input split\n",
    "# nominals = [\"gender\", \"blood_type\", \"income\"]\n",
    "y = df_proc['covid19_positive']\n",
    "X = df_proc.drop(['covid19_positive'], axis=1)\n",
    "X_mat = X.to_numpy()"
   ]
  },
  {
   "cell_type": "code",
   "execution_count": 74,
   "id": "25eb2760-3867-4fa5-9b90-b4c0cc801888",
   "metadata": {},
   "outputs": [],
   "source": [
    "# setting random state\n",
    "rs = 10\n",
    "\n",
    "# 30 70 split\n",
    "X_train, X_test, y_train, y_test = train_test_split(X_mat, y, test_size=0.3, stratify=y, random_state=rs)"
   ]
  },
  {
   "cell_type": "markdown",
   "id": "c7885207-2809-4061-bce9-b31074380b15",
   "metadata": {},
   "source": [
    "## Model 1 (Default Model)"
   ]
  },
  {
   "cell_type": "code",
   "execution_count": 75,
   "id": "96bb2711-c9ed-4283-9865-07d572a5a46f",
   "metadata": {},
   "outputs": [
    {
     "name": "stderr",
     "output_type": "stream",
     "text": [
      "C:\\Users\\amygo\\AppData\\Roaming\\Python\\Python311\\site-packages\\sklearn\\neural_network\\_multilayer_perceptron.py:686: ConvergenceWarning: Stochastic Optimizer: Maximum iterations (200) reached and the optimization hasn't converged yet.\n",
      "  warnings.warn(\n"
     ]
    },
    {
     "data": {
      "text/html": [
       "<style>#sk-container-id-3 {color: black;background-color: white;}#sk-container-id-3 pre{padding: 0;}#sk-container-id-3 div.sk-toggleable {background-color: white;}#sk-container-id-3 label.sk-toggleable__label {cursor: pointer;display: block;width: 100%;margin-bottom: 0;padding: 0.3em;box-sizing: border-box;text-align: center;}#sk-container-id-3 label.sk-toggleable__label-arrow:before {content: \"▸\";float: left;margin-right: 0.25em;color: #696969;}#sk-container-id-3 label.sk-toggleable__label-arrow:hover:before {color: black;}#sk-container-id-3 div.sk-estimator:hover label.sk-toggleable__label-arrow:before {color: black;}#sk-container-id-3 div.sk-toggleable__content {max-height: 0;max-width: 0;overflow: hidden;text-align: left;background-color: #f0f8ff;}#sk-container-id-3 div.sk-toggleable__content pre {margin: 0.2em;color: black;border-radius: 0.25em;background-color: #f0f8ff;}#sk-container-id-3 input.sk-toggleable__control:checked~div.sk-toggleable__content {max-height: 200px;max-width: 100%;overflow: auto;}#sk-container-id-3 input.sk-toggleable__control:checked~label.sk-toggleable__label-arrow:before {content: \"▾\";}#sk-container-id-3 div.sk-estimator input.sk-toggleable__control:checked~label.sk-toggleable__label {background-color: #d4ebff;}#sk-container-id-3 div.sk-label input.sk-toggleable__control:checked~label.sk-toggleable__label {background-color: #d4ebff;}#sk-container-id-3 input.sk-hidden--visually {border: 0;clip: rect(1px 1px 1px 1px);clip: rect(1px, 1px, 1px, 1px);height: 1px;margin: -1px;overflow: hidden;padding: 0;position: absolute;width: 1px;}#sk-container-id-3 div.sk-estimator {font-family: monospace;background-color: #f0f8ff;border: 1px dotted black;border-radius: 0.25em;box-sizing: border-box;margin-bottom: 0.5em;}#sk-container-id-3 div.sk-estimator:hover {background-color: #d4ebff;}#sk-container-id-3 div.sk-parallel-item::after {content: \"\";width: 100%;border-bottom: 1px solid gray;flex-grow: 1;}#sk-container-id-3 div.sk-label:hover label.sk-toggleable__label {background-color: #d4ebff;}#sk-container-id-3 div.sk-serial::before {content: \"\";position: absolute;border-left: 1px solid gray;box-sizing: border-box;top: 0;bottom: 0;left: 50%;z-index: 0;}#sk-container-id-3 div.sk-serial {display: flex;flex-direction: column;align-items: center;background-color: white;padding-right: 0.2em;padding-left: 0.2em;position: relative;}#sk-container-id-3 div.sk-item {position: relative;z-index: 1;}#sk-container-id-3 div.sk-parallel {display: flex;align-items: stretch;justify-content: center;background-color: white;position: relative;}#sk-container-id-3 div.sk-item::before, #sk-container-id-3 div.sk-parallel-item::before {content: \"\";position: absolute;border-left: 1px solid gray;box-sizing: border-box;top: 0;bottom: 0;left: 50%;z-index: -1;}#sk-container-id-3 div.sk-parallel-item {display: flex;flex-direction: column;z-index: 1;position: relative;background-color: white;}#sk-container-id-3 div.sk-parallel-item:first-child::after {align-self: flex-end;width: 50%;}#sk-container-id-3 div.sk-parallel-item:last-child::after {align-self: flex-start;width: 50%;}#sk-container-id-3 div.sk-parallel-item:only-child::after {width: 0;}#sk-container-id-3 div.sk-dashed-wrapped {border: 1px dashed gray;margin: 0 0.4em 0.5em 0.4em;box-sizing: border-box;padding-bottom: 0.4em;background-color: white;}#sk-container-id-3 div.sk-label label {font-family: monospace;font-weight: bold;display: inline-block;line-height: 1.2em;}#sk-container-id-3 div.sk-label-container {text-align: center;}#sk-container-id-3 div.sk-container {/* jupyter's `normalize.less` sets `[hidden] { display: none; }` but bootstrap.min.css set `[hidden] { display: none !important; }` so we also need the `!important` here to be able to override the default hidden behavior on the sphinx rendered scikit-learn.org. See: https://github.com/scikit-learn/scikit-learn/issues/21755 */display: inline-block !important;position: relative;}#sk-container-id-3 div.sk-text-repr-fallback {display: none;}</style><div id=\"sk-container-id-3\" class=\"sk-top-container\"><div class=\"sk-text-repr-fallback\"><pre>MLPClassifier(random_state=10)</pre><b>In a Jupyter environment, please rerun this cell to show the HTML representation or trust the notebook. <br />On GitHub, the HTML representation is unable to render, please try loading this page with nbviewer.org.</b></div><div class=\"sk-container\" hidden><div class=\"sk-item\"><div class=\"sk-estimator sk-toggleable\"><input class=\"sk-toggleable__control sk-hidden--visually\" id=\"sk-estimator-id-5\" type=\"checkbox\" checked><label for=\"sk-estimator-id-5\" class=\"sk-toggleable__label sk-toggleable__label-arrow\">MLPClassifier</label><div class=\"sk-toggleable__content\"><pre>MLPClassifier(random_state=10)</pre></div></div></div></div></div>"
      ],
      "text/plain": [
       "MLPClassifier(random_state=10)"
      ]
     },
     "execution_count": 75,
     "metadata": {},
     "output_type": "execute_result"
    }
   ],
   "source": [
    "from sklearn.neural_network import MLPClassifier\n",
    "\n",
    "model_1 = MLPClassifier(random_state=rs)\n",
    "model_1.fit(X_train, y_train)"
   ]
  },
  {
   "cell_type": "code",
   "execution_count": 76,
   "id": "69c1f283-eedf-4268-85fa-63f6e17eabcb",
   "metadata": {},
   "outputs": [
    {
     "data": {
      "text/plain": [
       "{'activation': 'relu',\n",
       " 'alpha': 0.0001,\n",
       " 'batch_size': 'auto',\n",
       " 'beta_1': 0.9,\n",
       " 'beta_2': 0.999,\n",
       " 'early_stopping': False,\n",
       " 'epsilon': 1e-08,\n",
       " 'hidden_layer_sizes': (100,),\n",
       " 'learning_rate': 'constant',\n",
       " 'learning_rate_init': 0.001,\n",
       " 'max_fun': 15000,\n",
       " 'max_iter': 200,\n",
       " 'momentum': 0.9,\n",
       " 'n_iter_no_change': 10,\n",
       " 'nesterovs_momentum': True,\n",
       " 'power_t': 0.5,\n",
       " 'random_state': 10,\n",
       " 'shuffle': True,\n",
       " 'solver': 'adam',\n",
       " 'tol': 0.0001,\n",
       " 'validation_fraction': 0.1,\n",
       " 'verbose': False,\n",
       " 'warm_start': False}"
      ]
     },
     "execution_count": 76,
     "metadata": {},
     "output_type": "execute_result"
    }
   ],
   "source": [
    "model_1.get_params()"
   ]
  },
  {
   "cell_type": "code",
   "execution_count": 77,
   "id": "49286833-703e-4a8f-ac3a-79a139dfb5c1",
   "metadata": {},
   "outputs": [
    {
     "name": "stdout",
     "output_type": "stream",
     "text": [
      "Train accuracy: 0.7677690029615005\n",
      "Test accuracy: 0.687392055267703\n",
      "              precision    recall  f1-score   support\n",
      "\n",
      "         0.0       0.72      0.77      0.75      1036\n",
      "         1.0       0.62      0.57      0.60       701\n",
      "\n",
      "    accuracy                           0.69      1737\n",
      "   macro avg       0.67      0.67      0.67      1737\n",
      "weighted avg       0.68      0.69      0.68      1737\n",
      "\n",
      "MLPClassifier(random_state=10)\n"
     ]
    }
   ],
   "source": [
    "print(\"Train accuracy:\", model_1.score(X_train, y_train))\n",
    "print(\"Test accuracy:\", model_1.score(X_test, y_test))\n",
    "\n",
    "y_pred = model_1.predict(X_test)\n",
    "print(classification_report(y_test, y_pred))\n",
    "\n",
    "print(model_1)"
   ]
  },
  {
   "cell_type": "code",
   "execution_count": 78,
   "id": "45f49018-52be-4288-891f-3420dd84b957",
   "metadata": {},
   "outputs": [
    {
     "name": "stdout",
     "output_type": "stream",
     "text": [
      "Training Iterations: 200\n"
     ]
    }
   ],
   "source": [
    "print(\"Training Iterations:\", model_1.n_iter_)"
   ]
  },
  {
   "cell_type": "markdown",
   "id": "b4eb3c37-19c6-4190-9626-fd63302ca735",
   "metadata": {},
   "source": [
    "## Model 2 (Default Model w/ Maximum Iterations)"
   ]
  },
  {
   "cell_type": "code",
   "execution_count": 79,
   "id": "eb1f15c7-a642-4fe5-9900-206fa97d1f19",
   "metadata": {},
   "outputs": [
    {
     "name": "stdout",
     "output_type": "stream",
     "text": [
      "Train accuracy: 0.7966436327739388\n",
      "Test accuracy: 0.6793321819228555\n",
      "              precision    recall  f1-score   support\n",
      "\n",
      "         0.0       0.72      0.76      0.74      1036\n",
      "         1.0       0.61      0.56      0.58       701\n",
      "\n",
      "    accuracy                           0.68      1737\n",
      "   macro avg       0.67      0.66      0.66      1737\n",
      "weighted avg       0.68      0.68      0.68      1737\n",
      "\n",
      "MLPClassifier(max_iter=700, random_state=10)\n"
     ]
    }
   ],
   "source": [
    "model_2 = MLPClassifier(max_iter=700, random_state=rs)\n",
    "model_2.fit(X_train, y_train)\n",
    "\n",
    "print(\"Train accuracy:\", model_2.score(X_train, y_train))\n",
    "print(\"Test accuracy:\", model_2.score(X_test, y_test))\n",
    "\n",
    "y_pred = model_2.predict(X_test)\n",
    "print(classification_report(y_test, y_pred))\n",
    "\n",
    "print(model_2)"
   ]
  },
  {
   "cell_type": "code",
   "execution_count": 80,
   "id": "1806f452-5329-4ef5-8e68-8d6d9d948f77",
   "metadata": {},
   "outputs": [
    {
     "name": "stdout",
     "output_type": "stream",
     "text": [
      "Training Iterations: 488\n"
     ]
    }
   ],
   "source": [
    "print(\"Training Iterations:\", model_2.n_iter_)"
   ]
  },
  {
   "cell_type": "markdown",
   "id": "6a5cd5d6-660c-481d-aabf-a5c5c9c43a4b",
   "metadata": {},
   "source": [
    "## Model 3 (Finding Optimal Hyperparameters with GridSearchCV)"
   ]
  },
  {
   "cell_type": "code",
   "execution_count": 81,
   "id": "f5a095c1-55c5-48b7-9869-afef96256cad",
   "metadata": {},
   "outputs": [
    {
     "name": "stdout",
     "output_type": "stream",
     "text": [
      "(4052, 25)\n"
     ]
    }
   ],
   "source": [
    "print(X_train.shape)"
   ]
  },
  {
   "cell_type": "code",
   "execution_count": 82,
   "id": "6c27e3ed-b848-4874-880e-63b38e09e871",
   "metadata": {},
   "outputs": [
    {
     "data": {
      "text/html": [
       "<style>#sk-container-id-4 {color: black;background-color: white;}#sk-container-id-4 pre{padding: 0;}#sk-container-id-4 div.sk-toggleable {background-color: white;}#sk-container-id-4 label.sk-toggleable__label {cursor: pointer;display: block;width: 100%;margin-bottom: 0;padding: 0.3em;box-sizing: border-box;text-align: center;}#sk-container-id-4 label.sk-toggleable__label-arrow:before {content: \"▸\";float: left;margin-right: 0.25em;color: #696969;}#sk-container-id-4 label.sk-toggleable__label-arrow:hover:before {color: black;}#sk-container-id-4 div.sk-estimator:hover label.sk-toggleable__label-arrow:before {color: black;}#sk-container-id-4 div.sk-toggleable__content {max-height: 0;max-width: 0;overflow: hidden;text-align: left;background-color: #f0f8ff;}#sk-container-id-4 div.sk-toggleable__content pre {margin: 0.2em;color: black;border-radius: 0.25em;background-color: #f0f8ff;}#sk-container-id-4 input.sk-toggleable__control:checked~div.sk-toggleable__content {max-height: 200px;max-width: 100%;overflow: auto;}#sk-container-id-4 input.sk-toggleable__control:checked~label.sk-toggleable__label-arrow:before {content: \"▾\";}#sk-container-id-4 div.sk-estimator input.sk-toggleable__control:checked~label.sk-toggleable__label {background-color: #d4ebff;}#sk-container-id-4 div.sk-label input.sk-toggleable__control:checked~label.sk-toggleable__label {background-color: #d4ebff;}#sk-container-id-4 input.sk-hidden--visually {border: 0;clip: rect(1px 1px 1px 1px);clip: rect(1px, 1px, 1px, 1px);height: 1px;margin: -1px;overflow: hidden;padding: 0;position: absolute;width: 1px;}#sk-container-id-4 div.sk-estimator {font-family: monospace;background-color: #f0f8ff;border: 1px dotted black;border-radius: 0.25em;box-sizing: border-box;margin-bottom: 0.5em;}#sk-container-id-4 div.sk-estimator:hover {background-color: #d4ebff;}#sk-container-id-4 div.sk-parallel-item::after {content: \"\";width: 100%;border-bottom: 1px solid gray;flex-grow: 1;}#sk-container-id-4 div.sk-label:hover label.sk-toggleable__label {background-color: #d4ebff;}#sk-container-id-4 div.sk-serial::before {content: \"\";position: absolute;border-left: 1px solid gray;box-sizing: border-box;top: 0;bottom: 0;left: 50%;z-index: 0;}#sk-container-id-4 div.sk-serial {display: flex;flex-direction: column;align-items: center;background-color: white;padding-right: 0.2em;padding-left: 0.2em;position: relative;}#sk-container-id-4 div.sk-item {position: relative;z-index: 1;}#sk-container-id-4 div.sk-parallel {display: flex;align-items: stretch;justify-content: center;background-color: white;position: relative;}#sk-container-id-4 div.sk-item::before, #sk-container-id-4 div.sk-parallel-item::before {content: \"\";position: absolute;border-left: 1px solid gray;box-sizing: border-box;top: 0;bottom: 0;left: 50%;z-index: -1;}#sk-container-id-4 div.sk-parallel-item {display: flex;flex-direction: column;z-index: 1;position: relative;background-color: white;}#sk-container-id-4 div.sk-parallel-item:first-child::after {align-self: flex-end;width: 50%;}#sk-container-id-4 div.sk-parallel-item:last-child::after {align-self: flex-start;width: 50%;}#sk-container-id-4 div.sk-parallel-item:only-child::after {width: 0;}#sk-container-id-4 div.sk-dashed-wrapped {border: 1px dashed gray;margin: 0 0.4em 0.5em 0.4em;box-sizing: border-box;padding-bottom: 0.4em;background-color: white;}#sk-container-id-4 div.sk-label label {font-family: monospace;font-weight: bold;display: inline-block;line-height: 1.2em;}#sk-container-id-4 div.sk-label-container {text-align: center;}#sk-container-id-4 div.sk-container {/* jupyter's `normalize.less` sets `[hidden] { display: none; }` but bootstrap.min.css set `[hidden] { display: none !important; }` so we also need the `!important` here to be able to override the default hidden behavior on the sphinx rendered scikit-learn.org. See: https://github.com/scikit-learn/scikit-learn/issues/21755 */display: inline-block !important;position: relative;}#sk-container-id-4 div.sk-text-repr-fallback {display: none;}</style><div id=\"sk-container-id-4\" class=\"sk-top-container\"><div class=\"sk-text-repr-fallback\"><pre>GridSearchCV(cv=10, estimator=MLPClassifier(max_iter=700, random_state=10),\n",
       "             n_jobs=-1,\n",
       "             param_grid={&#x27;hidden_layer_sizes&#x27;: [(5,), (10,), (15,), (20,),\n",
       "                                                (25,), (30,), (35,), (40,),\n",
       "                                                (45,)]},\n",
       "             return_train_score=True)</pre><b>In a Jupyter environment, please rerun this cell to show the HTML representation or trust the notebook. <br />On GitHub, the HTML representation is unable to render, please try loading this page with nbviewer.org.</b></div><div class=\"sk-container\" hidden><div class=\"sk-item sk-dashed-wrapped\"><div class=\"sk-label-container\"><div class=\"sk-label sk-toggleable\"><input class=\"sk-toggleable__control sk-hidden--visually\" id=\"sk-estimator-id-6\" type=\"checkbox\" ><label for=\"sk-estimator-id-6\" class=\"sk-toggleable__label sk-toggleable__label-arrow\">GridSearchCV</label><div class=\"sk-toggleable__content\"><pre>GridSearchCV(cv=10, estimator=MLPClassifier(max_iter=700, random_state=10),\n",
       "             n_jobs=-1,\n",
       "             param_grid={&#x27;hidden_layer_sizes&#x27;: [(5,), (10,), (15,), (20,),\n",
       "                                                (25,), (30,), (35,), (40,),\n",
       "                                                (45,)]},\n",
       "             return_train_score=True)</pre></div></div></div><div class=\"sk-parallel\"><div class=\"sk-parallel-item\"><div class=\"sk-item\"><div class=\"sk-label-container\"><div class=\"sk-label sk-toggleable\"><input class=\"sk-toggleable__control sk-hidden--visually\" id=\"sk-estimator-id-7\" type=\"checkbox\" ><label for=\"sk-estimator-id-7\" class=\"sk-toggleable__label sk-toggleable__label-arrow\">estimator: MLPClassifier</label><div class=\"sk-toggleable__content\"><pre>MLPClassifier(max_iter=700, random_state=10)</pre></div></div></div><div class=\"sk-serial\"><div class=\"sk-item\"><div class=\"sk-estimator sk-toggleable\"><input class=\"sk-toggleable__control sk-hidden--visually\" id=\"sk-estimator-id-8\" type=\"checkbox\" ><label for=\"sk-estimator-id-8\" class=\"sk-toggleable__label sk-toggleable__label-arrow\">MLPClassifier</label><div class=\"sk-toggleable__content\"><pre>MLPClassifier(max_iter=700, random_state=10)</pre></div></div></div></div></div></div></div></div></div></div>"
      ],
      "text/plain": [
       "GridSearchCV(cv=10, estimator=MLPClassifier(max_iter=700, random_state=10),\n",
       "             n_jobs=-1,\n",
       "             param_grid={'hidden_layer_sizes': [(5,), (10,), (15,), (20,),\n",
       "                                                (25,), (30,), (35,), (40,),\n",
       "                                                (45,)]},\n",
       "             return_train_score=True)"
      ]
     },
     "execution_count": 82,
     "metadata": {},
     "output_type": "execute_result"
    }
   ],
   "source": [
    "params = {'hidden_layer_sizes': [(x,) for x in range(5, 46, 5)]}\n",
    "\n",
    "cv_1 = GridSearchCV(param_grid=params, estimator=MLPClassifier(max_iter=700, random_state=rs),\n",
    "                    return_train_score=True, cv=10, n_jobs=-1)\n",
    "cv_1.fit(X_train, y_train)"
   ]
  },
  {
   "cell_type": "code",
   "execution_count": 83,
   "id": "fd1e059d-9274-492c-b219-5328491443f2",
   "metadata": {},
   "outputs": [],
   "source": [
    "result_set = cv_1.cv_results_"
   ]
  },
  {
   "cell_type": "code",
   "execution_count": 84,
   "id": "c0cdf8e3-3741-402f-97e4-06ca006a6e32",
   "metadata": {},
   "outputs": [
    {
     "name": "stdout",
     "output_type": "stream",
     "text": [
      "Total number of models:  9\n"
     ]
    },
    {
     "data": {
      "image/png": "[encoded data removed]",
      "text/plain": [
       "<Figure size 640x480 with 1 Axes>"
      ]
     },
     "metadata": {},
     "output_type": "display_data"
    }
   ],
   "source": [
    "import matplotlib.pyplot as plt\n",
    "train_result = result_set['mean_train_score']\n",
    "test_result = result_set['mean_test_score']\n",
    "print(\"Total number of models: \", len(test_result))\n",
    "# plot hidden layers hyperparameter values vs training and test accuracy score\n",
    "plt.plot(range(0, len(train_result)), train_result, 'b', range(0,len(test_result)), test_result, 'r')\n",
    "plt.xlabel('Hyperparameter Hidden_layers\\nBlue = training acc. Red = test acc.')\n",
    "plt.xticks(range(0, len(train_result)),range(5, 46, 5))\n",
    "plt.ylabel('score')\n",
    "plt.show()"
   ]
  },
  {
   "cell_type": "code",
   "execution_count": 85,
   "id": "7fe6d160-dd2a-4a40-bee7-8fccb811fcc4",
   "metadata": {},
   "outputs": [
    {
     "name": "stdout",
     "output_type": "stream",
     "text": [
      "Train accuracy: 0.7655478775913129\n",
      "Test accuracy: 0.6966033390903857\n",
      "              precision    recall  f1-score   support\n",
      "\n",
      "         0.0       0.72      0.80      0.76      1036\n",
      "         1.0       0.65      0.54      0.59       701\n",
      "\n",
      "    accuracy                           0.70      1737\n",
      "   macro avg       0.68      0.67      0.67      1737\n",
      "weighted avg       0.69      0.70      0.69      1737\n",
      "\n",
      "{'hidden_layer_sizes': (25,)}\n"
     ]
    }
   ],
   "source": [
    "print(\"Train accuracy:\", cv_1.score(X_train, y_train))\n",
    "print(\"Test accuracy:\", cv_1.score(X_test, y_test))\n",
    "\n",
    "y_pred = cv_1.predict(X_test)\n",
    "print(classification_report(y_test, y_pred))\n",
    "\n",
    "print(cv_1.best_params_)"
   ]
  },
  {
   "cell_type": "code",
   "execution_count": 86,
   "id": "169a475e-1038-47a1-8213-1213ebdfca73",
   "metadata": {},
   "outputs": [
    {
     "name": "stdout",
     "output_type": "stream",
     "text": [
      "Training Iterations: 510\n"
     ]
    }
   ],
   "source": [
    "print(\"Training Iterations:\", cv_1.best_estimator_.n_iter_)"
   ]
  },
  {
   "cell_type": "markdown",
   "id": "fc228577-347d-478d-89d8-8d78fd734210",
   "metadata": {},
   "source": [
    "**Highest hidden layer size was best so continue to test higher values**"
   ]
  },
  {
   "cell_type": "code",
   "execution_count": 87,
   "id": "6a032049-b28a-4daa-a9fe-2e9e066408ab",
   "metadata": {},
   "outputs": [
    {
     "data": {
      "text/html": [
       "<style>#sk-container-id-5 {color: black;background-color: white;}#sk-container-id-5 pre{padding: 0;}#sk-container-id-5 div.sk-toggleable {background-color: white;}#sk-container-id-5 label.sk-toggleable__label {cursor: pointer;display: block;width: 100%;margin-bottom: 0;padding: 0.3em;box-sizing: border-box;text-align: center;}#sk-container-id-5 label.sk-toggleable__label-arrow:before {content: \"▸\";float: left;margin-right: 0.25em;color: #696969;}#sk-container-id-5 label.sk-toggleable__label-arrow:hover:before {color: black;}#sk-container-id-5 div.sk-estimator:hover label.sk-toggleable__label-arrow:before {color: black;}#sk-container-id-5 div.sk-toggleable__content {max-height: 0;max-width: 0;overflow: hidden;text-align: left;background-color: #f0f8ff;}#sk-container-id-5 div.sk-toggleable__content pre {margin: 0.2em;color: black;border-radius: 0.25em;background-color: #f0f8ff;}#sk-container-id-5 input.sk-toggleable__control:checked~div.sk-toggleable__content {max-height: 200px;max-width: 100%;overflow: auto;}#sk-container-id-5 input.sk-toggleable__control:checked~label.sk-toggleable__label-arrow:before {content: \"▾\";}#sk-container-id-5 div.sk-estimator input.sk-toggleable__control:checked~label.sk-toggleable__label {background-color: #d4ebff;}#sk-container-id-5 div.sk-label input.sk-toggleable__control:checked~label.sk-toggleable__label {background-color: #d4ebff;}#sk-container-id-5 input.sk-hidden--visually {border: 0;clip: rect(1px 1px 1px 1px);clip: rect(1px, 1px, 1px, 1px);height: 1px;margin: -1px;overflow: hidden;padding: 0;position: absolute;width: 1px;}#sk-container-id-5 div.sk-estimator {font-family: monospace;background-color: #f0f8ff;border: 1px dotted black;border-radius: 0.25em;box-sizing: border-box;margin-bottom: 0.5em;}#sk-container-id-5 div.sk-estimator:hover {background-color: #d4ebff;}#sk-container-id-5 div.sk-parallel-item::after {content: \"\";width: 100%;border-bottom: 1px solid gray;flex-grow: 1;}#sk-container-id-5 div.sk-label:hover label.sk-toggleable__label {background-color: #d4ebff;}#sk-container-id-5 div.sk-serial::before {content: \"\";position: absolute;border-left: 1px solid gray;box-sizing: border-box;top: 0;bottom: 0;left: 50%;z-index: 0;}#sk-container-id-5 div.sk-serial {display: flex;flex-direction: column;align-items: center;background-color: white;padding-right: 0.2em;padding-left: 0.2em;position: relative;}#sk-container-id-5 div.sk-item {position: relative;z-index: 1;}#sk-container-id-5 div.sk-parallel {display: flex;align-items: stretch;justify-content: center;background-color: white;position: relative;}#sk-container-id-5 div.sk-item::before, #sk-container-id-5 div.sk-parallel-item::before {content: \"\";position: absolute;border-left: 1px solid gray;box-sizing: border-box;top: 0;bottom: 0;left: 50%;z-index: -1;}#sk-container-id-5 div.sk-parallel-item {display: flex;flex-direction: column;z-index: 1;position: relative;background-color: white;}#sk-container-id-5 div.sk-parallel-item:first-child::after {align-self: flex-end;width: 50%;}#sk-container-id-5 div.sk-parallel-item:last-child::after {align-self: flex-start;width: 50%;}#sk-container-id-5 div.sk-parallel-item:only-child::after {width: 0;}#sk-container-id-5 div.sk-dashed-wrapped {border: 1px dashed gray;margin: 0 0.4em 0.5em 0.4em;box-sizing: border-box;padding-bottom: 0.4em;background-color: white;}#sk-container-id-5 div.sk-label label {font-family: monospace;font-weight: bold;display: inline-block;line-height: 1.2em;}#sk-container-id-5 div.sk-label-container {text-align: center;}#sk-container-id-5 div.sk-container {/* jupyter's `normalize.less` sets `[hidden] { display: none; }` but bootstrap.min.css set `[hidden] { display: none !important; }` so we also need the `!important` here to be able to override the default hidden behavior on the sphinx rendered scikit-learn.org. See: https://github.com/scikit-learn/scikit-learn/issues/21755 */display: inline-block !important;position: relative;}#sk-container-id-5 div.sk-text-repr-fallback {display: none;}</style><div id=\"sk-container-id-5\" class=\"sk-top-container\"><div class=\"sk-text-repr-fallback\"><pre>GridSearchCV(cv=10, estimator=MLPClassifier(max_iter=700, random_state=10),\n",
       "             n_jobs=-1,\n",
       "             param_grid={&#x27;hidden_layer_sizes&#x27;: [(25,), (30,), (35,), (40,),\n",
       "                                                (45,)]},\n",
       "             return_train_score=True)</pre><b>In a Jupyter environment, please rerun this cell to show the HTML representation or trust the notebook. <br />On GitHub, the HTML representation is unable to render, please try loading this page with nbviewer.org.</b></div><div class=\"sk-container\" hidden><div class=\"sk-item sk-dashed-wrapped\"><div class=\"sk-label-container\"><div class=\"sk-label sk-toggleable\"><input class=\"sk-toggleable__control sk-hidden--visually\" id=\"sk-estimator-id-9\" type=\"checkbox\" ><label for=\"sk-estimator-id-9\" class=\"sk-toggleable__label sk-toggleable__label-arrow\">GridSearchCV</label><div class=\"sk-toggleable__content\"><pre>GridSearchCV(cv=10, estimator=MLPClassifier(max_iter=700, random_state=10),\n",
       "             n_jobs=-1,\n",
       "             param_grid={&#x27;hidden_layer_sizes&#x27;: [(25,), (30,), (35,), (40,),\n",
       "                                                (45,)]},\n",
       "             return_train_score=True)</pre></div></div></div><div class=\"sk-parallel\"><div class=\"sk-parallel-item\"><div class=\"sk-item\"><div class=\"sk-label-container\"><div class=\"sk-label sk-toggleable\"><input class=\"sk-toggleable__control sk-hidden--visually\" id=\"sk-estimator-id-10\" type=\"checkbox\" ><label for=\"sk-estimator-id-10\" class=\"sk-toggleable__label sk-toggleable__label-arrow\">estimator: MLPClassifier</label><div class=\"sk-toggleable__content\"><pre>MLPClassifier(max_iter=700, random_state=10)</pre></div></div></div><div class=\"sk-serial\"><div class=\"sk-item\"><div class=\"sk-estimator sk-toggleable\"><input class=\"sk-toggleable__control sk-hidden--visually\" id=\"sk-estimator-id-11\" type=\"checkbox\" ><label for=\"sk-estimator-id-11\" class=\"sk-toggleable__label sk-toggleable__label-arrow\">MLPClassifier</label><div class=\"sk-toggleable__content\"><pre>MLPClassifier(max_iter=700, random_state=10)</pre></div></div></div></div></div></div></div></div></div></div>"
      ],
      "text/plain": [
       "GridSearchCV(cv=10, estimator=MLPClassifier(max_iter=700, random_state=10),\n",
       "             n_jobs=-1,\n",
       "             param_grid={'hidden_layer_sizes': [(25,), (30,), (35,), (40,),\n",
       "                                                (45,)]},\n",
       "             return_train_score=True)"
      ]
     },
     "execution_count": 87,
     "metadata": {},
     "output_type": "execute_result"
    }
   ],
   "source": [
    "params = {'hidden_layer_sizes': [(x,) for x in range(25, 46, 5)]}\n",
    "\n",
    "# Max_iter is not set as it reduced test accuracy on default settings and increased runtime.\n",
    "cv_2 = GridSearchCV(param_grid=params, estimator=MLPClassifier(max_iter=700, random_state=rs),\n",
    "                    return_train_score=True, cv=10, n_jobs=-1)\n",
    "cv_2.fit(X_train, y_train)"
   ]
  },
  {
   "cell_type": "code",
   "execution_count": 88,
   "id": "5e108b20-7e9b-4f25-b738-4362dc27a3a9",
   "metadata": {},
   "outputs": [
    {
     "name": "stdout",
     "output_type": "stream",
     "text": [
      "Total number of models:  5\n"
     ]
    },
    {
     "data": {
      "image/png": "[encoded data removed]",
      "text/plain": [
       "<Figure size 640x480 with 1 Axes>"
      ]
     },
     "metadata": {},
     "output_type": "display_data"
    }
   ],
   "source": [
    "result_set = cv_2.cv_results_\n",
    "train_result = result_set['mean_train_score']\n",
    "test_result = result_set['mean_test_score']\n",
    "print(\"Total number of models: \", len(test_result))\n",
    "# plot hidden layers hyperparameter values vs training and test accuracy score\n",
    "plt.plot(range(0, len(train_result)), train_result, 'b', range(0,len(test_result)), test_result, 'r')\n",
    "plt.xlabel('Hyperparameter Hidden_layers\\nBlue = training acc. Red = test acc.')\n",
    "plt.xticks(range(0, len(train_result)),range(25, 46, 5))\n",
    "plt.ylabel('score')\n",
    "plt.show()"
   ]
  },
  {
   "cell_type": "code",
   "execution_count": 89,
   "id": "05ce5ce1-c218-450a-aff0-334598990652",
   "metadata": {},
   "outputs": [
    {
     "name": "stdout",
     "output_type": "stream",
     "text": [
      "Train accuracy: 0.7655478775913129\n",
      "Test accuracy: 0.6966033390903857\n",
      "              precision    recall  f1-score   support\n",
      "\n",
      "         0.0       0.72      0.80      0.76      1036\n",
      "         1.0       0.65      0.54      0.59       701\n",
      "\n",
      "    accuracy                           0.70      1737\n",
      "   macro avg       0.68      0.67      0.67      1737\n",
      "weighted avg       0.69      0.70      0.69      1737\n",
      "\n",
      "{'hidden_layer_sizes': (25,)}\n"
     ]
    }
   ],
   "source": [
    "print(\"Train accuracy:\", cv_2.score(X_train, y_train))\n",
    "print(\"Test accuracy:\", cv_2.score(X_test, y_test))\n",
    "\n",
    "y_pred = cv_2.predict(X_test)\n",
    "print(classification_report(y_test, y_pred))\n",
    "\n",
    "print(cv_2.best_params_)"
   ]
  },
  {
   "cell_type": "code",
   "execution_count": 90,
   "id": "9a28b259-d8e6-4736-be41-2106632f060d",
   "metadata": {},
   "outputs": [
    {
     "name": "stdout",
     "output_type": "stream",
     "text": [
      "Training Iterations: 510\n"
     ]
    }
   ],
   "source": [
    "print(\"Training Iterations:\", cv_2.best_estimator_.n_iter_)"
   ]
  },
  {
   "cell_type": "markdown",
   "id": "fce171c3-bfa6-4105-9ff7-0be525771529",
   "metadata": {},
   "source": [
    "**25 seems to best so check around 25**"
   ]
  },
  {
   "cell_type": "code",
   "execution_count": 91,
   "id": "5bcd5331-b602-499e-9182-f72445a491b1",
   "metadata": {},
   "outputs": [
    {
     "data": {
      "text/html": [
       "<style>#sk-container-id-6 {color: black;background-color: white;}#sk-container-id-6 pre{padding: 0;}#sk-container-id-6 div.sk-toggleable {background-color: white;}#sk-container-id-6 label.sk-toggleable__label {cursor: pointer;display: block;width: 100%;margin-bottom: 0;padding: 0.3em;box-sizing: border-box;text-align: center;}#sk-container-id-6 label.sk-toggleable__label-arrow:before {content: \"▸\";float: left;margin-right: 0.25em;color: #696969;}#sk-container-id-6 label.sk-toggleable__label-arrow:hover:before {color: black;}#sk-container-id-6 div.sk-estimator:hover label.sk-toggleable__label-arrow:before {color: black;}#sk-container-id-6 div.sk-toggleable__content {max-height: 0;max-width: 0;overflow: hidden;text-align: left;background-color: #f0f8ff;}#sk-container-id-6 div.sk-toggleable__content pre {margin: 0.2em;color: black;border-radius: 0.25em;background-color: #f0f8ff;}#sk-container-id-6 input.sk-toggleable__control:checked~div.sk-toggleable__content {max-height: 200px;max-width: 100%;overflow: auto;}#sk-container-id-6 input.sk-toggleable__control:checked~label.sk-toggleable__label-arrow:before {content: \"▾\";}#sk-container-id-6 div.sk-estimator input.sk-toggleable__control:checked~label.sk-toggleable__label {background-color: #d4ebff;}#sk-container-id-6 div.sk-label input.sk-toggleable__control:checked~label.sk-toggleable__label {background-color: #d4ebff;}#sk-container-id-6 input.sk-hidden--visually {border: 0;clip: rect(1px 1px 1px 1px);clip: rect(1px, 1px, 1px, 1px);height: 1px;margin: -1px;overflow: hidden;padding: 0;position: absolute;width: 1px;}#sk-container-id-6 div.sk-estimator {font-family: monospace;background-color: #f0f8ff;border: 1px dotted black;border-radius: 0.25em;box-sizing: border-box;margin-bottom: 0.5em;}#sk-container-id-6 div.sk-estimator:hover {background-color: #d4ebff;}#sk-container-id-6 div.sk-parallel-item::after {content: \"\";width: 100%;border-bottom: 1px solid gray;flex-grow: 1;}#sk-container-id-6 div.sk-label:hover label.sk-toggleable__label {background-color: #d4ebff;}#sk-container-id-6 div.sk-serial::before {content: \"\";position: absolute;border-left: 1px solid gray;box-sizing: border-box;top: 0;bottom: 0;left: 50%;z-index: 0;}#sk-container-id-6 div.sk-serial {display: flex;flex-direction: column;align-items: center;background-color: white;padding-right: 0.2em;padding-left: 0.2em;position: relative;}#sk-container-id-6 div.sk-item {position: relative;z-index: 1;}#sk-container-id-6 div.sk-parallel {display: flex;align-items: stretch;justify-content: center;background-color: white;position: relative;}#sk-container-id-6 div.sk-item::before, #sk-container-id-6 div.sk-parallel-item::before {content: \"\";position: absolute;border-left: 1px solid gray;box-sizing: border-box;top: 0;bottom: 0;left: 50%;z-index: -1;}#sk-container-id-6 div.sk-parallel-item {display: flex;flex-direction: column;z-index: 1;position: relative;background-color: white;}#sk-container-id-6 div.sk-parallel-item:first-child::after {align-self: flex-end;width: 50%;}#sk-container-id-6 div.sk-parallel-item:last-child::after {align-self: flex-start;width: 50%;}#sk-container-id-6 div.sk-parallel-item:only-child::after {width: 0;}#sk-container-id-6 div.sk-dashed-wrapped {border: 1px dashed gray;margin: 0 0.4em 0.5em 0.4em;box-sizing: border-box;padding-bottom: 0.4em;background-color: white;}#sk-container-id-6 div.sk-label label {font-family: monospace;font-weight: bold;display: inline-block;line-height: 1.2em;}#sk-container-id-6 div.sk-label-container {text-align: center;}#sk-container-id-6 div.sk-container {/* jupyter's `normalize.less` sets `[hidden] { display: none; }` but bootstrap.min.css set `[hidden] { display: none !important; }` so we also need the `!important` here to be able to override the default hidden behavior on the sphinx rendered scikit-learn.org. See: https://github.com/scikit-learn/scikit-learn/issues/21755 */display: inline-block !important;position: relative;}#sk-container-id-6 div.sk-text-repr-fallback {display: none;}</style><div id=\"sk-container-id-6\" class=\"sk-top-container\"><div class=\"sk-text-repr-fallback\"><pre>GridSearchCV(cv=10, estimator=MLPClassifier(max_iter=700, random_state=10),\n",
       "             n_jobs=-1,\n",
       "             param_grid={&#x27;hidden_layer_sizes&#x27;: [(21,), (23,), (25,), (27,)]},\n",
       "             return_train_score=True)</pre><b>In a Jupyter environment, please rerun this cell to show the HTML representation or trust the notebook. <br />On GitHub, the HTML representation is unable to render, please try loading this page with nbviewer.org.</b></div><div class=\"sk-container\" hidden><div class=\"sk-item sk-dashed-wrapped\"><div class=\"sk-label-container\"><div class=\"sk-label sk-toggleable\"><input class=\"sk-toggleable__control sk-hidden--visually\" id=\"sk-estimator-id-12\" type=\"checkbox\" ><label for=\"sk-estimator-id-12\" class=\"sk-toggleable__label sk-toggleable__label-arrow\">GridSearchCV</label><div class=\"sk-toggleable__content\"><pre>GridSearchCV(cv=10, estimator=MLPClassifier(max_iter=700, random_state=10),\n",
       "             n_jobs=-1,\n",
       "             param_grid={&#x27;hidden_layer_sizes&#x27;: [(21,), (23,), (25,), (27,)]},\n",
       "             return_train_score=True)</pre></div></div></div><div class=\"sk-parallel\"><div class=\"sk-parallel-item\"><div class=\"sk-item\"><div class=\"sk-label-container\"><div class=\"sk-label sk-toggleable\"><input class=\"sk-toggleable__control sk-hidden--visually\" id=\"sk-estimator-id-13\" type=\"checkbox\" ><label for=\"sk-estimator-id-13\" class=\"sk-toggleable__label sk-toggleable__label-arrow\">estimator: MLPClassifier</label><div class=\"sk-toggleable__content\"><pre>MLPClassifier(max_iter=700, random_state=10)</pre></div></div></div><div class=\"sk-serial\"><div class=\"sk-item\"><div class=\"sk-estimator sk-toggleable\"><input class=\"sk-toggleable__control sk-hidden--visually\" id=\"sk-estimator-id-14\" type=\"checkbox\" ><label for=\"sk-estimator-id-14\" class=\"sk-toggleable__label sk-toggleable__label-arrow\">MLPClassifier</label><div class=\"sk-toggleable__content\"><pre>MLPClassifier(max_iter=700, random_state=10)</pre></div></div></div></div></div></div></div></div></div></div>"
      ],
      "text/plain": [
       "GridSearchCV(cv=10, estimator=MLPClassifier(max_iter=700, random_state=10),\n",
       "             n_jobs=-1,\n",
       "             param_grid={'hidden_layer_sizes': [(21,), (23,), (25,), (27,)]},\n",
       "             return_train_score=True)"
      ]
     },
     "execution_count": 91,
     "metadata": {},
     "output_type": "execute_result"
    }
   ],
   "source": [
    "params = {'hidden_layer_sizes': [(x,) for x in range(21, 28, 2)]}\n",
    "\n",
    "# Max_iter is not set as it reduced test accuracy on default settings and increased runtime.\n",
    "cv_2 = GridSearchCV(param_grid=params, estimator=MLPClassifier(max_iter=700, random_state=rs),\n",
    "                    return_train_score=True, cv=10, n_jobs=-1)\n",
    "cv_2.fit(X_train, y_train)"
   ]
  },
  {
   "cell_type": "code",
   "execution_count": 92,
   "id": "5844b1e3-c172-4acf-974f-3918954d5041",
   "metadata": {},
   "outputs": [
    {
     "name": "stdout",
     "output_type": "stream",
     "text": [
      "Train accuracy: 0.7655478775913129\n",
      "Test accuracy: 0.6966033390903857\n",
      "              precision    recall  f1-score   support\n",
      "\n",
      "         0.0       0.72      0.80      0.76      1036\n",
      "         1.0       0.65      0.54      0.59       701\n",
      "\n",
      "    accuracy                           0.70      1737\n",
      "   macro avg       0.68      0.67      0.67      1737\n",
      "weighted avg       0.69      0.70      0.69      1737\n",
      "\n",
      "{'hidden_layer_sizes': (25,)}\n"
     ]
    }
   ],
   "source": [
    "print(\"Train accuracy:\", cv_2.score(X_train, y_train))\n",
    "print(\"Test accuracy:\", cv_2.score(X_test, y_test))\n",
    "\n",
    "y_pred = cv_2.predict(X_test)\n",
    "print(classification_report(y_test, y_pred))\n",
    "\n",
    "print(cv_2.best_params_)"
   ]
  },
  {
   "cell_type": "code",
   "execution_count": 93,
   "id": "fe17d193-63fc-4132-9ebc-54323f1846b3",
   "metadata": {},
   "outputs": [
    {
     "name": "stdout",
     "output_type": "stream",
     "text": [
      "Training Iterations: 510\n"
     ]
    }
   ],
   "source": [
    "print(\"Training Iterations:\", cv_2.best_estimator_.n_iter_)"
   ]
  },
  {
   "cell_type": "markdown",
   "id": "d34b2fa7-59b9-47fc-866f-346a482be3ff",
   "metadata": {},
   "source": [
    "**NOTE: Looks like 25 is still best. Also added max iter and it did increase the test accuracy.**"
   ]
  },
  {
   "cell_type": "markdown",
   "id": "b2b6ddfd-f774-4d42-a588-e2cc6aee5454",
   "metadata": {},
   "source": [
    "## Model 3 Updated (GridSearchCV  w/ All Parameters)"
   ]
  },
  {
   "cell_type": "code",
   "execution_count": 94,
   "id": "7da62dcc-3ddd-4ff3-97a6-832d064e0c91",
   "metadata": {},
   "outputs": [
    {
     "data": {
      "text/html": [
       "<style>#sk-container-id-7 {color: black;background-color: white;}#sk-container-id-7 pre{padding: 0;}#sk-container-id-7 div.sk-toggleable {background-color: white;}#sk-container-id-7 label.sk-toggleable__label {cursor: pointer;display: block;width: 100%;margin-bottom: 0;padding: 0.3em;box-sizing: border-box;text-align: center;}#sk-container-id-7 label.sk-toggleable__label-arrow:before {content: \"▸\";float: left;margin-right: 0.25em;color: #696969;}#sk-container-id-7 label.sk-toggleable__label-arrow:hover:before {color: black;}#sk-container-id-7 div.sk-estimator:hover label.sk-toggleable__label-arrow:before {color: black;}#sk-container-id-7 div.sk-toggleable__content {max-height: 0;max-width: 0;overflow: hidden;text-align: left;background-color: #f0f8ff;}#sk-container-id-7 div.sk-toggleable__content pre {margin: 0.2em;color: black;border-radius: 0.25em;background-color: #f0f8ff;}#sk-container-id-7 input.sk-toggleable__control:checked~div.sk-toggleable__content {max-height: 200px;max-width: 100%;overflow: auto;}#sk-container-id-7 input.sk-toggleable__control:checked~label.sk-toggleable__label-arrow:before {content: \"▾\";}#sk-container-id-7 div.sk-estimator input.sk-toggleable__control:checked~label.sk-toggleable__label {background-color: #d4ebff;}#sk-container-id-7 div.sk-label input.sk-toggleable__control:checked~label.sk-toggleable__label {background-color: #d4ebff;}#sk-container-id-7 input.sk-hidden--visually {border: 0;clip: rect(1px 1px 1px 1px);clip: rect(1px, 1px, 1px, 1px);height: 1px;margin: -1px;overflow: hidden;padding: 0;position: absolute;width: 1px;}#sk-container-id-7 div.sk-estimator {font-family: monospace;background-color: #f0f8ff;border: 1px dotted black;border-radius: 0.25em;box-sizing: border-box;margin-bottom: 0.5em;}#sk-container-id-7 div.sk-estimator:hover {background-color: #d4ebff;}#sk-container-id-7 div.sk-parallel-item::after {content: \"\";width: 100%;border-bottom: 1px solid gray;flex-grow: 1;}#sk-container-id-7 div.sk-label:hover label.sk-toggleable__label {background-color: #d4ebff;}#sk-container-id-7 div.sk-serial::before {content: \"\";position: absolute;border-left: 1px solid gray;box-sizing: border-box;top: 0;bottom: 0;left: 50%;z-index: 0;}#sk-container-id-7 div.sk-serial {display: flex;flex-direction: column;align-items: center;background-color: white;padding-right: 0.2em;padding-left: 0.2em;position: relative;}#sk-container-id-7 div.sk-item {position: relative;z-index: 1;}#sk-container-id-7 div.sk-parallel {display: flex;align-items: stretch;justify-content: center;background-color: white;position: relative;}#sk-container-id-7 div.sk-item::before, #sk-container-id-7 div.sk-parallel-item::before {content: \"\";position: absolute;border-left: 1px solid gray;box-sizing: border-box;top: 0;bottom: 0;left: 50%;z-index: -1;}#sk-container-id-7 div.sk-parallel-item {display: flex;flex-direction: column;z-index: 1;position: relative;background-color: white;}#sk-container-id-7 div.sk-parallel-item:first-child::after {align-self: flex-end;width: 50%;}#sk-container-id-7 div.sk-parallel-item:last-child::after {align-self: flex-start;width: 50%;}#sk-container-id-7 div.sk-parallel-item:only-child::after {width: 0;}#sk-container-id-7 div.sk-dashed-wrapped {border: 1px dashed gray;margin: 0 0.4em 0.5em 0.4em;box-sizing: border-box;padding-bottom: 0.4em;background-color: white;}#sk-container-id-7 div.sk-label label {font-family: monospace;font-weight: bold;display: inline-block;line-height: 1.2em;}#sk-container-id-7 div.sk-label-container {text-align: center;}#sk-container-id-7 div.sk-container {/* jupyter's `normalize.less` sets `[hidden] { display: none; }` but bootstrap.min.css set `[hidden] { display: none !important; }` so we also need the `!important` here to be able to override the default hidden behavior on the sphinx rendered scikit-learn.org. See: https://github.com/scikit-learn/scikit-learn/issues/21755 */display: inline-block !important;position: relative;}#sk-container-id-7 div.sk-text-repr-fallback {display: none;}</style><div id=\"sk-container-id-7\" class=\"sk-top-container\"><div class=\"sk-text-repr-fallback\"><pre>GridSearchCV(cv=10, estimator=MLPClassifier(max_iter=700, random_state=10),\n",
       "             n_jobs=-1,\n",
       "             param_grid={&#x27;activation&#x27;: [&#x27;tanh&#x27;, &#x27;relu&#x27;, &#x27;logistic&#x27;],\n",
       "                         &#x27;alpha&#x27;: [0.01, 0.001, 0.0001],\n",
       "                         &#x27;hidden_layer_sizes&#x27;: [(21,), (23,), (25,), (27,)],\n",
       "                         &#x27;solver&#x27;: [&#x27;sgd&#x27;, &#x27;adam&#x27;]})</pre><b>In a Jupyter environment, please rerun this cell to show the HTML representation or trust the notebook. <br />On GitHub, the HTML representation is unable to render, please try loading this page with nbviewer.org.</b></div><div class=\"sk-container\" hidden><div class=\"sk-item sk-dashed-wrapped\"><div class=\"sk-label-container\"><div class=\"sk-label sk-toggleable\"><input class=\"sk-toggleable__control sk-hidden--visually\" id=\"sk-estimator-id-15\" type=\"checkbox\" ><label for=\"sk-estimator-id-15\" class=\"sk-toggleable__label sk-toggleable__label-arrow\">GridSearchCV</label><div class=\"sk-toggleable__content\"><pre>GridSearchCV(cv=10, estimator=MLPClassifier(max_iter=700, random_state=10),\n",
       "             n_jobs=-1,\n",
       "             param_grid={&#x27;activation&#x27;: [&#x27;tanh&#x27;, &#x27;relu&#x27;, &#x27;logistic&#x27;],\n",
       "                         &#x27;alpha&#x27;: [0.01, 0.001, 0.0001],\n",
       "                         &#x27;hidden_layer_sizes&#x27;: [(21,), (23,), (25,), (27,)],\n",
       "                         &#x27;solver&#x27;: [&#x27;sgd&#x27;, &#x27;adam&#x27;]})</pre></div></div></div><div class=\"sk-parallel\"><div class=\"sk-parallel-item\"><div class=\"sk-item\"><div class=\"sk-label-container\"><div class=\"sk-label sk-toggleable\"><input class=\"sk-toggleable__control sk-hidden--visually\" id=\"sk-estimator-id-16\" type=\"checkbox\" ><label for=\"sk-estimator-id-16\" class=\"sk-toggleable__label sk-toggleable__label-arrow\">estimator: MLPClassifier</label><div class=\"sk-toggleable__content\"><pre>MLPClassifier(max_iter=700, random_state=10)</pre></div></div></div><div class=\"sk-serial\"><div class=\"sk-item\"><div class=\"sk-estimator sk-toggleable\"><input class=\"sk-toggleable__control sk-hidden--visually\" id=\"sk-estimator-id-17\" type=\"checkbox\" ><label for=\"sk-estimator-id-17\" class=\"sk-toggleable__label sk-toggleable__label-arrow\">MLPClassifier</label><div class=\"sk-toggleable__content\"><pre>MLPClassifier(max_iter=700, random_state=10)</pre></div></div></div></div></div></div></div></div></div></div>"
      ],
      "text/plain": [
       "GridSearchCV(cv=10, estimator=MLPClassifier(max_iter=700, random_state=10),\n",
       "             n_jobs=-1,\n",
       "             param_grid={'activation': ['tanh', 'relu', 'logistic'],\n",
       "                         'alpha': [0.01, 0.001, 0.0001],\n",
       "                         'hidden_layer_sizes': [(21,), (23,), (25,), (27,)],\n",
       "                         'solver': ['sgd', 'adam']})"
      ]
     },
     "execution_count": 94,
     "metadata": {},
     "output_type": "execute_result"
    }
   ],
   "source": [
    "params = {'hidden_layer_sizes': [(x,) for x in range(21, 28, 2)], \n",
    "          'alpha': [0.01,0.001, 0.0001],\n",
    "          'activation': ['tanh', 'relu','logistic'],\n",
    "          'solver': ['sgd', 'adam'],}\n",
    "\n",
    "cv_3 = GridSearchCV(param_grid=params, estimator=MLPClassifier(max_iter=700, random_state=rs), \n",
    "                    cv=10, n_jobs=-1)\n",
    "cv_3.fit(X_train, y_train)"
   ]
  },
  {
   "cell_type": "code",
   "execution_count": 95,
   "id": "2cba8ad6-b823-490e-a78b-a3515a345c6d",
   "metadata": {},
   "outputs": [
    {
     "name": "stdout",
     "output_type": "stream",
     "text": [
      "Train accuracy: 0.7615992102665351\n",
      "Test accuracy: 0.6948762233736328\n",
      "              precision    recall  f1-score   support\n",
      "\n",
      "         0.0       0.74      0.75      0.75      1036\n",
      "         1.0       0.62      0.61      0.62       701\n",
      "\n",
      "    accuracy                           0.69      1737\n",
      "   macro avg       0.68      0.68      0.68      1737\n",
      "weighted avg       0.69      0.69      0.69      1737\n",
      "\n",
      "{'activation': 'relu', 'alpha': 0.001, 'hidden_layer_sizes': (25,), 'solver': 'adam'}\n"
     ]
    }
   ],
   "source": [
    "print(\"Train accuracy:\", cv_3.best_estimator_.score(X_train, y_train))\n",
    "print(\"Test accuracy:\", cv_3.best_estimator_.score(X_test, y_test))\n",
    "\n",
    "y_pred = cv_3.best_estimator_.predict(X_test)\n",
    "print(classification_report(y_test, y_pred))\n",
    "\n",
    "print(cv_3.best_params_)"
   ]
  },
  {
   "cell_type": "code",
   "execution_count": 96,
   "id": "1d8c34e7-412a-431c-8bc2-7e2b6cc998e1",
   "metadata": {},
   "outputs": [
    {
     "name": "stdout",
     "output_type": "stream",
     "text": [
      "Training Iterations: 569\n"
     ]
    }
   ],
   "source": [
    "print(\"Training Iterations:\", cv_3.best_estimator_.n_iter_)"
   ]
  },
  {
   "cell_type": "code",
   "execution_count": 97,
   "id": "fc01d050-5130-42ac-a08b-cffb5d520c69",
   "metadata": {},
   "outputs": [
    {
     "name": "stdout",
     "output_type": "stream",
     "text": [
      "Train accuracy: 0.7381539980256664\n",
      "Test accuracy: 0.696027633851468\n",
      "              precision    recall  f1-score   support\n",
      "\n",
      "         0.0       0.72      0.80      0.76      1036\n",
      "         1.0       0.65      0.54      0.59       701\n",
      "\n",
      "    accuracy                           0.70      1737\n",
      "   macro avg       0.68      0.67      0.67      1737\n",
      "weighted avg       0.69      0.70      0.69      1737\n",
      "\n",
      "MLPClassifier(alpha=0.001, hidden_layer_sizes=(11, 7, 5, 3), max_iter=700,\n",
      "              random_state=10)\n"
     ]
    }
   ],
   "source": [
    "cv_3_more_layers = MLPClassifier(max_iter=700, hidden_layer_sizes = (11,7,5,3,), alpha = 0.001,\n",
    "                        random_state=rs)\n",
    "cv_3_more_layers.fit(X_train, y_train)\n",
    "\n",
    "print(\"Train accuracy:\", cv_3_more_layers.score(X_train, y_train))\n",
    "print(\"Test accuracy:\", cv_3_more_layers.score(X_test, y_test))\n",
    "\n",
    "y_pred = cv_3_more_layers.predict(X_test)\n",
    "print(classification_report(y_test, y_pred))\n",
    "\n",
    "print(cv_3_more_layers)"
   ]
  },
  {
   "cell_type": "code",
   "execution_count": 98,
   "id": "0487fcd5-b765-43eb-bb39-30323c9a6f91",
   "metadata": {},
   "outputs": [
    {
     "name": "stdout",
     "output_type": "stream",
     "text": [
      "Training Iterations: 333\n"
     ]
    }
   ],
   "source": [
    "print(\"Training Iterations:\", cv_3_more_layers.n_iter_)"
   ]
  },
  {
   "cell_type": "markdown",
   "id": "b2eba544-1a0a-4d67-934f-70b527d04b07",
   "metadata": {},
   "source": [
    "## Model 4 (Decision Tree with Feature Selection)"
   ]
  },
  {
   "cell_type": "code",
   "execution_count": 99,
   "id": "639b0c61-e7f8-44ec-af00-30e5542a929e",
   "metadata": {},
   "outputs": [
    {
     "name": "stdout",
     "output_type": "stream",
     "text": [
      "{'criterion': 'gini', 'max_depth': 6, 'min_samples_leaf': 10}\n"
     ]
    }
   ],
   "source": [
    "import pickle\n",
    "with open('DT.pickle', 'rb') as f:\n",
    "    dt_best = pickle.load(f)\n",
    "\n",
    "print(dt_best.best_params_)"
   ]
  },
  {
   "cell_type": "code",
   "execution_count": 100,
   "id": "1dfab95b-2a6b-4307-b575-da23bd97150d",
   "metadata": {},
   "outputs": [
    {
     "name": "stdout",
     "output_type": "stream",
     "text": [
      "income_high : 0.3838319431244043\n",
      "worried : 0.20433285356370615\n",
      "age : 0.098921939739157\n",
      "working : 0.057544469278257245\n",
      "income_low : 0.05005299540373858\n",
      "weight : 0.04158031738238462\n",
      "contacts_count : 0.03247759889790322\n",
      "smoking : 0.03029368324024604\n",
      "insurance : 0.02644928384231397\n",
      "height : 0.02403880581873819\n",
      "alcohol : 0.014680038842922658\n",
      "blood_type_unknown : 0.009082377965631772\n",
      "income_gov : 0.00825304038104269\n",
      "gender_female : 0.0080049219146138\n",
      "gender_male : 0.005896383453381909\n",
      "blood_type_ap : 0.0029514021918557024\n",
      "income_med : 0.0016079449597021951\n",
      "gender_other : 0.0\n",
      "blood_type_abp : 0.0\n",
      "blood_type_an : 0.0\n",
      "blood_type_bn : 0.0\n",
      "blood_type_bp : 0.0\n",
      "blood_type_on : 0.0\n",
      "blood_type_op : 0.0\n",
      "blood_type_abn : 0.0\n"
     ]
    }
   ],
   "source": [
    "def analyse_feature_importance(dm_model, feature_names):\n",
    "    # grab feature importances from the model\n",
    "    importances = dm_model.feature_importances_\n",
    "    \n",
    "    # sort them out in descending order\n",
    "    indices = np.argsort(importances)\n",
    "    indices = np.flip(indices, axis=0)\n",
    "\n",
    "    for i in indices:\n",
    "        print(feature_names[i], ':', importances[i])\n",
    "\n",
    "analyse_feature_importance(dt_best.best_estimator_, X.columns)"
   ]
  },
  {
   "cell_type": "code",
   "execution_count": 101,
   "id": "bcffe3bb-60d0-497c-b99f-cb47bef5a638",
   "metadata": {},
   "outputs": [
    {
     "name": "stdout",
     "output_type": "stream",
     "text": [
      "(4052, 6)\n"
     ]
    }
   ],
   "source": [
    "from sklearn.feature_selection import SelectFromModel\n",
    "\n",
    "selectmodel = SelectFromModel(dt_best.best_estimator_, prefit=True)\n",
    "X_train_sel_model = selectmodel.transform(X_train)\n",
    "X_test_sel_model = selectmodel.transform(X_test)\n",
    "\n",
    "print(X_train_sel_model.shape)"
   ]
  },
  {
   "cell_type": "code",
   "execution_count": 102,
   "id": "cf6219d3-ff5a-4d73-9446-f437395275a5",
   "metadata": {},
   "outputs": [
    {
     "name": "stdout",
     "output_type": "stream",
     "text": [
      "Index(['age', 'weight', 'working', 'worried', 'income_high', 'income_low'], dtype='object')\n"
     ]
    }
   ],
   "source": [
    "print(X.columns[selectmodel.get_support()])"
   ]
  },
  {
   "cell_type": "markdown",
   "id": "6839d44a-afac-4259-96ce-ff38da398680",
   "metadata": {},
   "source": [
    "## Model 4 Updated (GridSearchCV with Feature Selection)"
   ]
  },
  {
   "cell_type": "code",
   "execution_count": 103,
   "id": "b611ca08-7db7-4ed7-ab4f-75c510a918a1",
   "metadata": {},
   "outputs": [
    {
     "data": {
      "text/html": [
       "<style>#sk-container-id-8 {color: black;background-color: white;}#sk-container-id-8 pre{padding: 0;}#sk-container-id-8 div.sk-toggleable {background-color: white;}#sk-container-id-8 label.sk-toggleable__label {cursor: pointer;display: block;width: 100%;margin-bottom: 0;padding: 0.3em;box-sizing: border-box;text-align: center;}#sk-container-id-8 label.sk-toggleable__label-arrow:before {content: \"▸\";float: left;margin-right: 0.25em;color: #696969;}#sk-container-id-8 label.sk-toggleable__label-arrow:hover:before {color: black;}#sk-container-id-8 div.sk-estimator:hover label.sk-toggleable__label-arrow:before {color: black;}#sk-container-id-8 div.sk-toggleable__content {max-height: 0;max-width: 0;overflow: hidden;text-align: left;background-color: #f0f8ff;}#sk-container-id-8 div.sk-toggleable__content pre {margin: 0.2em;color: black;border-radius: 0.25em;background-color: #f0f8ff;}#sk-container-id-8 input.sk-toggleable__control:checked~div.sk-toggleable__content {max-height: 200px;max-width: 100%;overflow: auto;}#sk-container-id-8 input.sk-toggleable__control:checked~label.sk-toggleable__label-arrow:before {content: \"▾\";}#sk-container-id-8 div.sk-estimator input.sk-toggleable__control:checked~label.sk-toggleable__label {background-color: #d4ebff;}#sk-container-id-8 div.sk-label input.sk-toggleable__control:checked~label.sk-toggleable__label {background-color: #d4ebff;}#sk-container-id-8 input.sk-hidden--visually {border: 0;clip: rect(1px 1px 1px 1px);clip: rect(1px, 1px, 1px, 1px);height: 1px;margin: -1px;overflow: hidden;padding: 0;position: absolute;width: 1px;}#sk-container-id-8 div.sk-estimator {font-family: monospace;background-color: #f0f8ff;border: 1px dotted black;border-radius: 0.25em;box-sizing: border-box;margin-bottom: 0.5em;}#sk-container-id-8 div.sk-estimator:hover {background-color: #d4ebff;}#sk-container-id-8 div.sk-parallel-item::after {content: \"\";width: 100%;border-bottom: 1px solid gray;flex-grow: 1;}#sk-container-id-8 div.sk-label:hover label.sk-toggleable__label {background-color: #d4ebff;}#sk-container-id-8 div.sk-serial::before {content: \"\";position: absolute;border-left: 1px solid gray;box-sizing: border-box;top: 0;bottom: 0;left: 50%;z-index: 0;}#sk-container-id-8 div.sk-serial {display: flex;flex-direction: column;align-items: center;background-color: white;padding-right: 0.2em;padding-left: 0.2em;position: relative;}#sk-container-id-8 div.sk-item {position: relative;z-index: 1;}#sk-container-id-8 div.sk-parallel {display: flex;align-items: stretch;justify-content: center;background-color: white;position: relative;}#sk-container-id-8 div.sk-item::before, #sk-container-id-8 div.sk-parallel-item::before {content: \"\";position: absolute;border-left: 1px solid gray;box-sizing: border-box;top: 0;bottom: 0;left: 50%;z-index: -1;}#sk-container-id-8 div.sk-parallel-item {display: flex;flex-direction: column;z-index: 1;position: relative;background-color: white;}#sk-container-id-8 div.sk-parallel-item:first-child::after {align-self: flex-end;width: 50%;}#sk-container-id-8 div.sk-parallel-item:last-child::after {align-self: flex-start;width: 50%;}#sk-container-id-8 div.sk-parallel-item:only-child::after {width: 0;}#sk-container-id-8 div.sk-dashed-wrapped {border: 1px dashed gray;margin: 0 0.4em 0.5em 0.4em;box-sizing: border-box;padding-bottom: 0.4em;background-color: white;}#sk-container-id-8 div.sk-label label {font-family: monospace;font-weight: bold;display: inline-block;line-height: 1.2em;}#sk-container-id-8 div.sk-label-container {text-align: center;}#sk-container-id-8 div.sk-container {/* jupyter's `normalize.less` sets `[hidden] { display: none; }` but bootstrap.min.css set `[hidden] { display: none !important; }` so we also need the `!important` here to be able to override the default hidden behavior on the sphinx rendered scikit-learn.org. See: https://github.com/scikit-learn/scikit-learn/issues/21755 */display: inline-block !important;position: relative;}#sk-container-id-8 div.sk-text-repr-fallback {display: none;}</style><div id=\"sk-container-id-8\" class=\"sk-top-container\"><div class=\"sk-text-repr-fallback\"><pre>GridSearchCV(cv=10, estimator=MLPClassifier(max_iter=700, random_state=10),\n",
       "             n_jobs=-1,\n",
       "             param_grid={&#x27;activation&#x27;: [&#x27;tanh&#x27;, &#x27;relu&#x27;, &#x27;logistic&#x27;],\n",
       "                         &#x27;alpha&#x27;: [0.01, 0.001, 0.0001],\n",
       "                         &#x27;hidden_layer_sizes&#x27;: [(5,), (10,), (15,), (20,),\n",
       "                                                (25,)],\n",
       "                         &#x27;solver&#x27;: [&#x27;sgd&#x27;, &#x27;adam&#x27;]})</pre><b>In a Jupyter environment, please rerun this cell to show the HTML representation or trust the notebook. <br />On GitHub, the HTML representation is unable to render, please try loading this page with nbviewer.org.</b></div><div class=\"sk-container\" hidden><div class=\"sk-item sk-dashed-wrapped\"><div class=\"sk-label-container\"><div class=\"sk-label sk-toggleable\"><input class=\"sk-toggleable__control sk-hidden--visually\" id=\"sk-estimator-id-18\" type=\"checkbox\" ><label for=\"sk-estimator-id-18\" class=\"sk-toggleable__label sk-toggleable__label-arrow\">GridSearchCV</label><div class=\"sk-toggleable__content\"><pre>GridSearchCV(cv=10, estimator=MLPClassifier(max_iter=700, random_state=10),\n",
       "             n_jobs=-1,\n",
       "             param_grid={&#x27;activation&#x27;: [&#x27;tanh&#x27;, &#x27;relu&#x27;, &#x27;logistic&#x27;],\n",
       "                         &#x27;alpha&#x27;: [0.01, 0.001, 0.0001],\n",
       "                         &#x27;hidden_layer_sizes&#x27;: [(5,), (10,), (15,), (20,),\n",
       "                                                (25,)],\n",
       "                         &#x27;solver&#x27;: [&#x27;sgd&#x27;, &#x27;adam&#x27;]})</pre></div></div></div><div class=\"sk-parallel\"><div class=\"sk-parallel-item\"><div class=\"sk-item\"><div class=\"sk-label-container\"><div class=\"sk-label sk-toggleable\"><input class=\"sk-toggleable__control sk-hidden--visually\" id=\"sk-estimator-id-19\" type=\"checkbox\" ><label for=\"sk-estimator-id-19\" class=\"sk-toggleable__label sk-toggleable__label-arrow\">estimator: MLPClassifier</label><div class=\"sk-toggleable__content\"><pre>MLPClassifier(max_iter=700, random_state=10)</pre></div></div></div><div class=\"sk-serial\"><div class=\"sk-item\"><div class=\"sk-estimator sk-toggleable\"><input class=\"sk-toggleable__control sk-hidden--visually\" id=\"sk-estimator-id-20\" type=\"checkbox\" ><label for=\"sk-estimator-id-20\" class=\"sk-toggleable__label sk-toggleable__label-arrow\">MLPClassifier</label><div class=\"sk-toggleable__content\"><pre>MLPClassifier(max_iter=700, random_state=10)</pre></div></div></div></div></div></div></div></div></div></div>"
      ],
      "text/plain": [
       "GridSearchCV(cv=10, estimator=MLPClassifier(max_iter=700, random_state=10),\n",
       "             n_jobs=-1,\n",
       "             param_grid={'activation': ['tanh', 'relu', 'logistic'],\n",
       "                         'alpha': [0.01, 0.001, 0.0001],\n",
       "                         'hidden_layer_sizes': [(5,), (10,), (15,), (20,),\n",
       "                                                (25,)],\n",
       "                         'solver': ['sgd', 'adam']})"
      ]
     },
     "execution_count": 103,
     "metadata": {},
     "output_type": "execute_result"
    }
   ],
   "source": [
    "# Given the dramatic dimentionality reduction the range of hidden_layer_sizes has been brought back to the first range.\n",
    "params = {'hidden_layer_sizes': [(x,) for x in range(5, 26, 5)], \n",
    "          'alpha': [0.01,0.001, 0.0001],\n",
    "          'activation': ['tanh', 'relu','logistic'],\n",
    "          'solver': ['sgd', 'adam'],}\n",
    "\n",
    "cv_sel_model = GridSearchCV(param_grid=params, estimator=MLPClassifier(max_iter=700, random_state=rs), cv=10, n_jobs=-1)\n",
    "cv_sel_model.fit(X_train_sel_model, y_train)"
   ]
  },
  {
   "cell_type": "code",
   "execution_count": 104,
   "id": "66f46477-d01a-4481-ae5b-426f527d9409",
   "metadata": {},
   "outputs": [
    {
     "name": "stdout",
     "output_type": "stream",
     "text": [
      "Train accuracy: 0.7156959526159921\n",
      "Test accuracy: 0.7075417386298215\n",
      "Training Iterations: 351\n",
      "              precision    recall  f1-score   support\n",
      "\n",
      "         0.0       0.74      0.78      0.76      1036\n",
      "         1.0       0.65      0.60      0.62       701\n",
      "\n",
      "    accuracy                           0.71      1737\n",
      "   macro avg       0.70      0.69      0.69      1737\n",
      "weighted avg       0.70      0.71      0.71      1737\n",
      "\n",
      "{'activation': 'relu', 'alpha': 0.01, 'hidden_layer_sizes': (15,), 'solver': 'adam'}\n"
     ]
    }
   ],
   "source": [
    "print(\"Train accuracy:\", cv_sel_model.score(X_train_sel_model, y_train))\n",
    "print(\"Test accuracy:\", cv_sel_model.score(X_test_sel_model, y_test))\n",
    "print(\"Training Iterations:\", cv_sel_model.best_estimator_.n_iter_)\n",
    "y_pred = cv_sel_model.predict(X_test_sel_model)\n",
    "print(classification_report(y_test, y_pred))\n",
    "\n",
    "print(cv_sel_model.best_params_)"
   ]
  },
  {
   "cell_type": "markdown",
   "id": "52cc56bd-6ba5-4c9b-84b4-406538615d4a",
   "metadata": {},
   "source": [
    "**NOTE: The alpha and hidden_layer_sizes need further exploring. As every best estimator has included the default activation function and solver, these will be excluded from the grid search.**"
   ]
  },
  {
   "cell_type": "code",
   "execution_count": 105,
   "id": "9c86d78e-dedb-4a4c-bcf1-aed225f72209",
   "metadata": {},
   "outputs": [
    {
     "data": {
      "text/html": [
       "<style>#sk-container-id-9 {color: black;background-color: white;}#sk-container-id-9 pre{padding: 0;}#sk-container-id-9 div.sk-toggleable {background-color: white;}#sk-container-id-9 label.sk-toggleable__label {cursor: pointer;display: block;width: 100%;margin-bottom: 0;padding: 0.3em;box-sizing: border-box;text-align: center;}#sk-container-id-9 label.sk-toggleable__label-arrow:before {content: \"▸\";float: left;margin-right: 0.25em;color: #696969;}#sk-container-id-9 label.sk-toggleable__label-arrow:hover:before {color: black;}#sk-container-id-9 div.sk-estimator:hover label.sk-toggleable__label-arrow:before {color: black;}#sk-container-id-9 div.sk-toggleable__content {max-height: 0;max-width: 0;overflow: hidden;text-align: left;background-color: #f0f8ff;}#sk-container-id-9 div.sk-toggleable__content pre {margin: 0.2em;color: black;border-radius: 0.25em;background-color: #f0f8ff;}#sk-container-id-9 input.sk-toggleable__control:checked~div.sk-toggleable__content {max-height: 200px;max-width: 100%;overflow: auto;}#sk-container-id-9 input.sk-toggleable__control:checked~label.sk-toggleable__label-arrow:before {content: \"▾\";}#sk-container-id-9 div.sk-estimator input.sk-toggleable__control:checked~label.sk-toggleable__label {background-color: #d4ebff;}#sk-container-id-9 div.sk-label input.sk-toggleable__control:checked~label.sk-toggleable__label {background-color: #d4ebff;}#sk-container-id-9 input.sk-hidden--visually {border: 0;clip: rect(1px 1px 1px 1px);clip: rect(1px, 1px, 1px, 1px);height: 1px;margin: -1px;overflow: hidden;padding: 0;position: absolute;width: 1px;}#sk-container-id-9 div.sk-estimator {font-family: monospace;background-color: #f0f8ff;border: 1px dotted black;border-radius: 0.25em;box-sizing: border-box;margin-bottom: 0.5em;}#sk-container-id-9 div.sk-estimator:hover {background-color: #d4ebff;}#sk-container-id-9 div.sk-parallel-item::after {content: \"\";width: 100%;border-bottom: 1px solid gray;flex-grow: 1;}#sk-container-id-9 div.sk-label:hover label.sk-toggleable__label {background-color: #d4ebff;}#sk-container-id-9 div.sk-serial::before {content: \"\";position: absolute;border-left: 1px solid gray;box-sizing: border-box;top: 0;bottom: 0;left: 50%;z-index: 0;}#sk-container-id-9 div.sk-serial {display: flex;flex-direction: column;align-items: center;background-color: white;padding-right: 0.2em;padding-left: 0.2em;position: relative;}#sk-container-id-9 div.sk-item {position: relative;z-index: 1;}#sk-container-id-9 div.sk-parallel {display: flex;align-items: stretch;justify-content: center;background-color: white;position: relative;}#sk-container-id-9 div.sk-item::before, #sk-container-id-9 div.sk-parallel-item::before {content: \"\";position: absolute;border-left: 1px solid gray;box-sizing: border-box;top: 0;bottom: 0;left: 50%;z-index: -1;}#sk-container-id-9 div.sk-parallel-item {display: flex;flex-direction: column;z-index: 1;position: relative;background-color: white;}#sk-container-id-9 div.sk-parallel-item:first-child::after {align-self: flex-end;width: 50%;}#sk-container-id-9 div.sk-parallel-item:last-child::after {align-self: flex-start;width: 50%;}#sk-container-id-9 div.sk-parallel-item:only-child::after {width: 0;}#sk-container-id-9 div.sk-dashed-wrapped {border: 1px dashed gray;margin: 0 0.4em 0.5em 0.4em;box-sizing: border-box;padding-bottom: 0.4em;background-color: white;}#sk-container-id-9 div.sk-label label {font-family: monospace;font-weight: bold;display: inline-block;line-height: 1.2em;}#sk-container-id-9 div.sk-label-container {text-align: center;}#sk-container-id-9 div.sk-container {/* jupyter's `normalize.less` sets `[hidden] { display: none; }` but bootstrap.min.css set `[hidden] { display: none !important; }` so we also need the `!important` here to be able to override the default hidden behavior on the sphinx rendered scikit-learn.org. See: https://github.com/scikit-learn/scikit-learn/issues/21755 */display: inline-block !important;position: relative;}#sk-container-id-9 div.sk-text-repr-fallback {display: none;}</style><div id=\"sk-container-id-9\" class=\"sk-top-container\"><div class=\"sk-text-repr-fallback\"><pre>GridSearchCV(cv=10, estimator=MLPClassifier(max_iter=700, random_state=10),\n",
       "             n_jobs=-1,\n",
       "             param_grid={&#x27;alpha&#x27;: [0.1, 0.05, 0.01, 0.005],\n",
       "                         &#x27;hidden_layer_sizes&#x27;: [(11,), (13,), (15,), (17,),\n",
       "                                                (19,)]})</pre><b>In a Jupyter environment, please rerun this cell to show the HTML representation or trust the notebook. <br />On GitHub, the HTML representation is unable to render, please try loading this page with nbviewer.org.</b></div><div class=\"sk-container\" hidden><div class=\"sk-item sk-dashed-wrapped\"><div class=\"sk-label-container\"><div class=\"sk-label sk-toggleable\"><input class=\"sk-toggleable__control sk-hidden--visually\" id=\"sk-estimator-id-21\" type=\"checkbox\" ><label for=\"sk-estimator-id-21\" class=\"sk-toggleable__label sk-toggleable__label-arrow\">GridSearchCV</label><div class=\"sk-toggleable__content\"><pre>GridSearchCV(cv=10, estimator=MLPClassifier(max_iter=700, random_state=10),\n",
       "             n_jobs=-1,\n",
       "             param_grid={&#x27;alpha&#x27;: [0.1, 0.05, 0.01, 0.005],\n",
       "                         &#x27;hidden_layer_sizes&#x27;: [(11,), (13,), (15,), (17,),\n",
       "                                                (19,)]})</pre></div></div></div><div class=\"sk-parallel\"><div class=\"sk-parallel-item\"><div class=\"sk-item\"><div class=\"sk-label-container\"><div class=\"sk-label sk-toggleable\"><input class=\"sk-toggleable__control sk-hidden--visually\" id=\"sk-estimator-id-22\" type=\"checkbox\" ><label for=\"sk-estimator-id-22\" class=\"sk-toggleable__label sk-toggleable__label-arrow\">estimator: MLPClassifier</label><div class=\"sk-toggleable__content\"><pre>MLPClassifier(max_iter=700, random_state=10)</pre></div></div></div><div class=\"sk-serial\"><div class=\"sk-item\"><div class=\"sk-estimator sk-toggleable\"><input class=\"sk-toggleable__control sk-hidden--visually\" id=\"sk-estimator-id-23\" type=\"checkbox\" ><label for=\"sk-estimator-id-23\" class=\"sk-toggleable__label sk-toggleable__label-arrow\">MLPClassifier</label><div class=\"sk-toggleable__content\"><pre>MLPClassifier(max_iter=700, random_state=10)</pre></div></div></div></div></div></div></div></div></div></div>"
      ],
      "text/plain": [
       "GridSearchCV(cv=10, estimator=MLPClassifier(max_iter=700, random_state=10),\n",
       "             n_jobs=-1,\n",
       "             param_grid={'alpha': [0.1, 0.05, 0.01, 0.005],\n",
       "                         'hidden_layer_sizes': [(11,), (13,), (15,), (17,),\n",
       "                                                (19,)]})"
      ]
     },
     "execution_count": 105,
     "metadata": {},
     "output_type": "execute_result"
    }
   ],
   "source": [
    "params = {'hidden_layer_sizes': [(x,) for x in range(11, 20, 2)], \n",
    "          'alpha': [0.1, 0.05, 0.01, 0.005]}\n",
    "\n",
    "cv_sel_model_2 = GridSearchCV(param_grid=params, estimator=MLPClassifier(max_iter=700, random_state=rs), cv=10, n_jobs=-1)\n",
    "cv_sel_model_2.fit(X_train_sel_model, y_train)"
   ]
  },
  {
   "cell_type": "code",
   "execution_count": 106,
   "id": "226570bf-cd8b-4ed6-bc4a-7529831bc8b9",
   "metadata": {},
   "outputs": [
    {
     "name": "stdout",
     "output_type": "stream",
     "text": [
      "Train accuracy: 0.7156959526159921\n",
      "Test accuracy: 0.7075417386298215\n",
      "Training Iterations: 351\n",
      "              precision    recall  f1-score   support\n",
      "\n",
      "         0.0       0.74      0.78      0.76      1036\n",
      "         1.0       0.65      0.60      0.62       701\n",
      "\n",
      "    accuracy                           0.71      1737\n",
      "   macro avg       0.70      0.69      0.69      1737\n",
      "weighted avg       0.70      0.71      0.71      1737\n",
      "\n",
      "{'alpha': 0.01, 'hidden_layer_sizes': (15,)}\n"
     ]
    }
   ],
   "source": [
    "print(\"Train accuracy:\", cv_sel_model_2.score(X_train_sel_model, y_train))\n",
    "print(\"Test accuracy:\", cv_sel_model_2.score(X_test_sel_model, y_test))\n",
    "print(\"Training Iterations:\", cv_sel_model_2.best_estimator_.n_iter_)\n",
    "\n",
    "y_pred = cv_sel_model_2.predict(X_test_sel_model)\n",
    "print(classification_report(y_test, y_pred))\n",
    "\n",
    "print(cv_sel_model_2.best_params_)"
   ]
  },
  {
   "cell_type": "code",
   "execution_count": 107,
   "id": "59d06f47-4dfa-418f-a4bd-7e7ac7e090bc",
   "metadata": {},
   "outputs": [
    {
     "name": "stdout",
     "output_type": "stream",
     "text": [
      "Training Iterations: 351\n"
     ]
    }
   ],
   "source": [
    "print(\"Training Iterations:\", cv_sel_model_2.best_estimator_.n_iter_)"
   ]
  },
  {
   "cell_type": "code",
   "execution_count": 108,
   "id": "045d3c68-bf12-408b-b6b7-5f050e4acd76",
   "metadata": {},
   "outputs": [
    {
     "name": "stdout",
     "output_type": "stream",
     "text": [
      "Train accuracy: 0.7139684106614018\n",
      "Test accuracy: 0.7132987910189983\n",
      "              precision    recall  f1-score   support\n",
      "\n",
      "         0.0       0.75      0.78      0.77      1036\n",
      "         1.0       0.66      0.61      0.63       701\n",
      "\n",
      "    accuracy                           0.71      1737\n",
      "   macro avg       0.70      0.70      0.70      1737\n",
      "weighted avg       0.71      0.71      0.71      1737\n",
      "\n",
      "MLPClassifier(alpha=0.01, hidden_layer_sizes=(9, 6), max_iter=700,\n",
      "              random_state=10)\n"
     ]
    }
   ],
   "source": [
    "cv_sel_model_more_layers = MLPClassifier(max_iter=700, hidden_layer_sizes = (9,6), \n",
    "                                         alpha = 0.01, random_state=rs)\n",
    "cv_sel_model_more_layers.fit(X_train_sel_model, y_train)\n",
    "\n",
    "print(\"Train accuracy:\", cv_sel_model_more_layers.score(X_train_sel_model, y_train))\n",
    "print(\"Test accuracy:\", cv_sel_model_more_layers.score(X_test_sel_model, y_test))\n",
    "\n",
    "y_pred = cv_sel_model_more_layers.predict(X_test_sel_model)\n",
    "print(classification_report(y_test, y_pred))\n",
    "\n",
    "print(cv_sel_model_more_layers)"
   ]
  },
  {
   "cell_type": "code",
   "execution_count": 109,
   "id": "8cca2efe-1c81-4614-a5ea-a9651cb25b96",
   "metadata": {},
   "outputs": [
    {
     "name": "stdout",
     "output_type": "stream",
     "text": [
      "Training Iterations: 252\n"
     ]
    }
   ],
   "source": [
    "print(\"Training Iterations:\", cv_sel_model_more_layers.n_iter_)"
   ]
  },
  {
   "cell_type": "code",
   "execution_count": 110,
   "id": "44fb27dc-d0d9-45bc-9eea-118842374e4c",
   "metadata": {},
   "outputs": [
    {
     "name": "stdout",
     "output_type": "stream",
     "text": [
      "age: 3.103495079584495\n",
      "weight: 3.308945961992076\n",
      "working: 3.343530362967632\n",
      "worried: 4.2922268048405146\n",
      "income_high: 3.6387131518193887\n",
      "income_low: 2.5878327970501185\n"
     ]
    }
   ],
   "source": [
    "attribute_names = list(X.columns[selectmodel.get_support()])\n",
    "coefs = cv_sel_model_more_layers.coefs_[0]\n",
    "abs_coefs = np.absolute(coefs)\n",
    "for atribute, weight_sum in zip(attribute_names, abs_coefs.sum(axis=1)):\n",
    "    print(str(atribute) + \": \" + str(weight_sum))"
   ]
  },
  {
   "cell_type": "markdown",
   "id": "6f33a1b9-9641-4c29-84b5-da80db3cd722",
   "metadata": {},
   "source": [
    "**NOTE: No change. Therefore best params are: {'activation': 'relu', 'alpha': 0.01, 'hidden_layer_sizes': (15,), 'solver': 'adam'}.**"
   ]
  },
  {
   "cell_type": "markdown",
   "id": "97d1bb43-c6a4-4f9d-885a-0f05f36d9fa9",
   "metadata": {},
   "source": [
    "## Model Comparision"
   ]
  },
  {
   "cell_type": "code",
   "execution_count": 111,
   "id": "96061612-0707-4cd9-9211-ad73ea1fd64b",
   "metadata": {},
   "outputs": [
    {
     "name": "stdout",
     "output_type": "stream",
     "text": [
      "ROC index (Area Under Curve) on test for DT_default: 0.7334860844133313\n",
      "ROC index (Area Under Curve) on test for DT_default_max_iter: 0.7268560082397457\n",
      "ROC index (Area Under Curve) on test for DT_GSCV: 0.7301166562935465\n",
      "ROC index (Area Under Curve) on test for DT_GSCV_feature_selection: 0.749906366525482\n"
     ]
    }
   ],
   "source": [
    "from sklearn.metrics import roc_auc_score\n",
    "\n",
    "default_model = model_1\n",
    "default_max_iter = model_2\n",
    "dt_cv_best = cv_3_more_layers\n",
    "dt_cv_sel_best = cv_sel_model_more_layers\n",
    "#\n",
    "y_pred_proba_dt = default_model.predict_proba(X_test)\n",
    "y_pred_proba_max_iter = default_max_iter.predict_proba(X_test)\n",
    "y_pred_proba_dt_cv = dt_cv_best.predict_proba(X_test)\n",
    "y_pred_proba_dt_cv_sel = dt_cv_sel_best.predict_proba(X_test_sel_model)\n",
    "\n",
    "roc_index_dt = roc_auc_score(y_test, y_pred_proba_dt[:, 1])\n",
    "roc_index_dt_max_iter = roc_auc_score(y_test, y_pred_proba_max_iter[:, 1])\n",
    "roc_index_dt_cv = roc_auc_score(y_test, y_pred_proba_dt_cv[:, 1])\n",
    "roc_index_dt_cv_sel = roc_auc_score(y_test, y_pred_proba_dt_cv_sel[:, 1])\n",
    "\n",
    "print(\"ROC index (Area Under Curve) on test for DT_default:\", roc_index_dt)\n",
    "print(\"ROC index (Area Under Curve) on test for DT_default_max_iter:\", roc_index_dt_max_iter)\n",
    "print(\"ROC index (Area Under Curve) on test for DT_GSCV:\", roc_index_dt_cv)\n",
    "print(\"ROC index (Area Under Curve) on test for DT_GSCV_feature_selection:\", roc_index_dt_cv_sel)"
   ]
  },
  {
   "cell_type": "code",
   "execution_count": 112,
   "id": "9f757bea-4d3f-4b3a-a6d0-b3280d427691",
   "metadata": {},
   "outputs": [],
   "source": [
    "from sklearn.metrics import roc_curve\n",
    "\n",
    "fpr_dt, tpr_dt, thresholds_dt = roc_curve(y_test, y_pred_proba_dt[:,1])\n",
    "fpr_max_iter, tpr_max_iter, thresholds_max_iter = roc_curve(y_test, y_pred_proba_max_iter[:,1])\n",
    "fpr_dt_cv, tpr_dt_cv, thresholds_dt_cv = roc_curve(y_test, y_pred_proba_dt_cv[:,1])\n",
    "fpr_dt_cv_sel, tpr_dt_cv_sel, thresholds_dt_cv_sel = roc_curve(y_test, y_pred_proba_dt_cv_sel[:,1])"
   ]
  },
  {
   "cell_type": "code",
   "execution_count": 113,
   "id": "b1109563-aaa6-4a20-9566-13e8f3d9a503",
   "metadata": {},
   "outputs": [
    {
     "data": {
      "image/png": "[encoded data removed]",
      "text/plain": [
       "<Figure size 640x480 with 1 Axes>"
      ]
     },
     "metadata": {},
     "output_type": "display_data"
    }
   ],
   "source": [
    "import matplotlib.pyplot as plt\n",
    "\n",
    "plt.plot(fpr_dt, tpr_dt, label='ROC Curve for DT_default {:.3f}'.format(\n",
    "    roc_index_dt), color='red', lw=0.5)\n",
    "plt.plot(fpr_max_iter, tpr_max_iter, label='ROC Curve for DT_default_max_iter {:.3f}'.format(\n",
    "    roc_index_dt_max_iter), color='green', lw=0.5)\n",
    "plt.plot(fpr_dt_cv, tpr_dt_cv, label='ROC Curve for DT_GSCV {:.3f}'.format(\n",
    "    roc_index_dt_cv), color='blue', lw=0.5)\n",
    "plt.plot(fpr_dt_cv_sel, tpr_dt_cv_sel, label='ROC Curve for DT_GSCV_feature_selection {:.3f}'.format(\n",
    "    roc_index_dt_cv_sel), color='orange', lw=0.5)\n",
    "\n",
    "plt.plot([0, 1], [0, 1], color='navy', lw=0.5, linestyle='--')\n",
    "plt.xlim([0.0, 1.0])\n",
    "plt.ylim([0.0, 1.0])\n",
    "plt.xlabel('False Positive Rate')\n",
    "plt.ylabel('True Positive Rate')\n",
    "plt.title('Receiver operating characteristic for all models')\n",
    "plt.legend(loc=\"lower right\")\n",
    "plt.show()"
   ]
  },
  {
   "cell_type": "markdown",
   "id": "cf47e727-455c-4f57-a068-96a93b5cee49",
   "metadata": {},
   "source": [
    "# Decision-Making"
   ]
  },
  {
   "cell_type": "markdown",
   "id": "910b8b4c-3215-4d67-877c-ec74e1d9d202",
   "metadata": {},
   "source": [
    "## Classification Reports"
   ]
  },
  {
   "cell_type": "code",
   "execution_count": 114,
   "id": "68cbc936-d3e2-437a-9d85-31f5c7afd827",
   "metadata": {},
   "outputs": [
    {
     "name": "stdout",
     "output_type": "stream",
     "text": [
      "Train accuracy: 0.5979763079960513\n",
      "Test accuracy: 0.5981577432354634\n",
      "              precision    recall  f1-score   support\n",
      "\n",
      "         0.0       0.60      1.00      0.75      1036\n",
      "         1.0       0.80      0.01      0.01       701\n",
      "\n",
      "    accuracy                           0.60      1737\n",
      "   macro avg       0.70      0.50      0.38      1737\n",
      "weighted avg       0.68      0.60      0.45      1737\n",
      "\n"
     ]
    }
   ],
   "source": [
    "print(\"Train accuracy:\", dt_cv_best.score(X_train_DT, y_train))\n",
    "print(\"Test accuracy:\", dt_cv_best.score(X_test_DT, y_test))\n",
    "y_pred = dt_cv_best.predict(X_test_DT)\n",
    "print(classification_report(y_test, y_pred))"
   ]
  },
  {
   "cell_type": "code",
   "execution_count": 115,
   "id": "59d1dd22-ec37-4f61-a7a4-5a74ee2814a4",
   "metadata": {},
   "outputs": [
    {
     "name": "stdout",
     "output_type": "stream",
     "text": [
      "Train accuracy: 0.6848469891411648\n",
      "Test accuracy: 0.6856649395509499\n",
      "              precision    recall  f1-score   support\n",
      "\n",
      "         0.0       0.72      0.78      0.75      1036\n",
      "         1.0       0.63      0.55      0.59       701\n",
      "\n",
      "    accuracy                           0.69      1737\n",
      "   macro avg       0.67      0.66      0.67      1737\n",
      "weighted avg       0.68      0.69      0.68      1737\n",
      "\n"
     ]
    }
   ],
   "source": [
    "print(\"Train accuracy:\", rfe_cv.score(X_train_sel, y_train))\n",
    "print(\"Test accuracy:\", rfe_cv.score(X_test_sel, y_test))\n",
    "\n",
    "y_pred = rfe_cv.predict(X_test_sel)\n",
    "print(classification_report(y_test, y_pred))"
   ]
  },
  {
   "cell_type": "code",
   "execution_count": 116,
   "id": "afb0fa8d-6a42-4fee-9768-91f6b3a21201",
   "metadata": {},
   "outputs": [
    {
     "name": "stdout",
     "output_type": "stream",
     "text": [
      "Train accuracy: 0.7139684106614018\n",
      "Test accuracy: 0.7132987910189983\n",
      "              precision    recall  f1-score   support\n",
      "\n",
      "         0.0       0.75      0.78      0.77      1036\n",
      "         1.0       0.66      0.61      0.63       701\n",
      "\n",
      "    accuracy                           0.71      1737\n",
      "   macro avg       0.70      0.70      0.70      1737\n",
      "weighted avg       0.71      0.71      0.71      1737\n",
      "\n"
     ]
    }
   ],
   "source": [
    "print(\"Train accuracy:\", cv_sel_model_more_layers.score(X_train_sel_model, y_train))\n",
    "print(\"Test accuracy:\", cv_sel_model_more_layers.score(X_test_sel_model, y_test))\n",
    "\n",
    "y_pred = cv_sel_model_more_layers.predict(X_test_sel_model)\n",
    "print(classification_report(y_test, y_pred))"
   ]
  },
  {
   "cell_type": "markdown",
   "id": "3bbf600e-4769-4bd6-adc7-de01129e5c4f",
   "metadata": {},
   "source": [
    "##  Updated ROC Curve"
   ]
  },
  {
   "cell_type": "code",
   "execution_count": 117,
   "id": "d37f4993-4dbb-469c-a2e5-96129ac8198f",
   "metadata": {},
   "outputs": [
    {
     "name": "stdout",
     "output_type": "stream",
     "text": [
      "ROC index (Area Under Curve) on test for Best_Decision_Tree: 0.7166416977401286\n",
      "ROC index on test for Best_Regression: 0.722513755858977\n",
      "ROC index (Area Under Curve) on test for Best_Neural_Network: 0.749906366525482\n"
     ]
    },
    {
     "data": {
      "image/png": "[encoded data removed]",
      "text/plain": [
       "<Figure size 640x480 with 1 Axes>"
      ]
     },
     "metadata": {},
     "output_type": "display_data"
    }
   ],
   "source": [
    "dt_cv_best = dt_best.best_estimator_\n",
    "y_pred_proba_dt_cv = dt_cv_best.predict_proba(X_test_DT)\n",
    "roc_index_dt_cv = roc_auc_score(y_test, y_pred_proba_dt_cv[:, 1])\n",
    "print(\"ROC index (Area Under Curve) on test for Best_Decision_Tree:\", roc_index_dt_cv)\n",
    "fpr_dt_cv, tpr_dt_cv, thresholds_dt_cv = roc_curve(y_test, y_pred_proba_dt_cv[:,1])\n",
    "plt.plot(fpr_dt_cv, tpr_dt_cv, label='ROC Curve for Best_Decision_Tree {:.3f}'.format(roc_index_dt_cv), color='red', lw=0.5)\n",
    "\n",
    "y_pred_proba_rfe_cv = rfe_cv.predict_proba(X_test_sel)\n",
    "roc_index_rfe_cv = roc_auc_score(y_test, y_pred_proba_rfe_cv[:, 1])\n",
    "print(\"ROC index on test for Best_Regression:\", roc_index_rfe_cv)\n",
    "fpr_rfe_cv, tpr_rfe_cv, thresholds_rfe_cv = roc_curve(y_test, y_pred_proba_rfe_cv[:,1])\n",
    "plt.plot(fpr_rfe_cv, tpr_rfe_cv, label='ROC Curve for Best_Regression {:.3f}'.format(roc_index_rfe_cv), color='blue', lw=0.5)\n",
    "\n",
    "dt_cv_sel_best = cv_sel_model_more_layers\n",
    "y_pred_proba_dt_cv_sel = dt_cv_sel_best.predict_proba(X_test_sel_model)\n",
    "roc_index_dt_cv_sel = roc_auc_score(y_test, y_pred_proba_dt_cv_sel[:, 1])\n",
    "print(\"ROC index (Area Under Curve) on test for Best_Neural_Network:\", roc_index_dt_cv_sel)\n",
    "fpr_dt_cv_sel, tpr_dt_cv_sel, thresholds_dt_cv_sel = roc_curve(y_test, y_pred_proba_dt_cv_sel[:,1])\n",
    "plt.plot(fpr_dt_cv_sel, tpr_dt_cv_sel, label='ROC Curve for Best_Neural_Network {:.3f}'.format(\n",
    "    roc_index_dt_cv_sel), color='orange', lw=0.5)\n",
    "\n",
    "plt.plot([0, 1], [0, 1], color='navy', lw=0.5, linestyle='--')\n",
    "plt.xlim([0.0, 1.0])\n",
    "plt.ylim([0.0, 1.0])\n",
    "plt.xlabel('False Positive Rate')\n",
    "plt.ylabel('True Positive Rate')\n",
    "plt.title('Receiver operating characteristic for best models')\n",
    "plt.legend(loc=\"lower right\")\n",
    "plt.show()"
   ]
  }
 ],
 "metadata": {
  "kernelspec": {
   "display_name": "Python 3 (ipykernel)",
   "language": "python",
   "name": "python3"
  },
  "language_info": {
   "codemirror_mode": {
    "name": "ipython",
    "version": 3
   },
   "file_extension": ".py",
   "mimetype": "text/x-python",
   "name": "python",
   "nbconvert_exporter": "python",
   "pygments_lexer": "ipython3",
   "version": "3.11.5"
  }
 },
 "nbformat": 4,
 "nbformat_minor": 5
}
